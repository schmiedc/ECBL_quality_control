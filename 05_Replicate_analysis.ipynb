{
 "cells": [
  {
   "cell_type": "code",
   "execution_count": 2,
   "metadata": {},
   "outputs": [],
   "source": [
    "import time\n",
    "from datetime import date\n",
    "import pandas as pd\n",
    "import os\n",
    "import glob\n",
    "import pycytominer\n",
    "import sys\n",
    "import CBE_utils as CBE\n",
    "import matplotlib.pyplot as plt\n",
    "import seaborn as sns\n",
    "import numpy as np\n",
    "from scipy.spatial.distance import correlation\n",
    "import re\n",
    "import gc"
   ]
  },
  {
   "cell_type": "code",
   "execution_count": 3,
   "metadata": {},
   "outputs": [
    {
     "data": {
      "text/plain": [
       "<module 'CBE_utils' from '/home/schmiedc/FMP_Docs/Projects/ECBL_Project/QualityControl_analysis/notebooks/CBE_utils.py'>"
      ]
     },
     "execution_count": 3,
     "metadata": {},
     "output_type": "execute_result"
    }
   ],
   "source": [
    "import importlib\n",
    "importlib.reload(CBE)"
   ]
  },
  {
   "cell_type": "code",
   "execution_count": 4,
   "metadata": {},
   "outputs": [],
   "source": [
    "input_path = \"/home/schmiedc/FMP_Docs/Projects/ECBL_Project/QualityControl_analysis/new_output_files/\"\n",
    "output_path = \"/home/schmiedc/FMP_Docs/Projects/ECBL_Project/QualityControl_analysis/new_result_files/\"\n",
    "\n",
    "annotation_dir = \"/home/schmiedc/FMP_Docs/Projects/ECBL_Project/QualityControl_analysis/annotation_files/\""
   ]
  },
  {
   "cell_type": "code",
   "execution_count": 5,
   "metadata": {},
   "outputs": [
    {
     "name": "stdout",
     "output_type": "stream",
     "text": [
      "File: C1231_R1_mad_robustize.csv has 384 rows\n",
      "File: C1241_R1_mad_robustize.csv has 384 rows\n",
      "File: C1230_R3_mad_robustize.csv has 384 rows\n",
      "File: C1230_R4_mad_robustize.csv has 384 rows\n",
      "File: C1231_R4_mad_robustize.csv has 384 rows\n",
      "File: C1241_R2_mad_robustize.csv has 384 rows\n",
      "File: C1230_R2_mad_robustize.csv has 384 rows\n",
      "File: C1231_R2_mad_robustize.csv has 384 rows\n",
      "File: C1241_R3_mad_robustize.csv has 384 rows\n",
      "File: C1230_R1_mad_robustize.csv has 384 rows\n",
      "File: C1231_R3_mad_robustize.csv has 384 rows\n",
      "File: C1162_R4_mad_robustize.csv has 384 rows\n",
      "File: C1175_R1_mad_robustize.csv has 384 rows\n",
      "File: C1160_R2_mad_robustize.csv has 384 rows\n",
      "File: C1160_R3_mad_robustize.csv has 384 rows\n",
      "File: C1165_R2_mad_robustize.csv has 384 rows\n",
      "File: C1176_R1_mad_robustize.csv has 384 rows\n",
      "File: C1167_R1_mad_robustize.csv has 384 rows\n",
      "File: C1166_R1_mad_robustize.csv has 384 rows\n",
      "File: C1158_R4_mad_robustize.csv has 384 rows\n",
      "File: C1158_R2_mad_robustize.csv has 384 rows\n",
      "File: C1170_R1_mad_robustize.csv has 384 rows\n",
      "File: C1157_R4_mad_robustize.csv has 384 rows\n",
      "File: C1162_R2_mad_robustize.csv has 384 rows\n",
      "File: C1162_R1_mad_robustize.csv has 384 rows\n",
      "File: C1162_R3_mad_robustize.csv has 384 rows\n",
      "File: C1169_R1_mad_robustize.csv has 384 rows\n",
      "File: C1179_R1_mad_robustize.csv has 384 rows\n",
      "File: C1171_R1_mad_robustize.csv has 384 rows\n",
      "File: C1159_R2_mad_robustize.csv has 384 rows\n",
      "File: C1160_R1_mad_robustize.csv has 384 rows\n",
      "File: C1157_R3_mad_robustize.csv has 384 rows\n",
      "File: C1180_R1_mad_robustize.csv has 384 rows\n",
      "File: C1172_R1_mad_robustize.csv has 384 rows\n",
      "File: C1178_R1_mad_robustize.csv has 384 rows\n",
      "File: C1181_R1_mad_robustize.csv has 384 rows\n",
      "File: C1173_R1_mad_robustize.csv has 384 rows\n",
      "File: C1160_R4_mad_robustize.csv has 384 rows\n",
      "File: C1164_R1_mad_robustize.csv has 384 rows\n",
      "File: C1157_R1_mad_robustize.csv has 384 rows\n",
      "File: C1159_R3_mad_robustize.csv has 384 rows\n",
      "File: C1163_R1_mad_robustize.csv has 384 rows\n",
      "File: C1168_R1_mad_robustize.csv has 384 rows\n",
      "File: C1174_R1_mad_robustize.csv has 384 rows\n",
      "File: C1165_R3_mad_robustize.csv has 384 rows\n",
      "File: C1084_R4_mad_robustize.csv has 384 rows\n",
      "File: C1084_R2_mad_robustize.csv has 384 rows\n",
      "File: C1092_R1_mad_robustize.csv has 384 rows\n",
      "File: C1089_R1_mad_robustize.csv has 384 rows\n",
      "File: C1087_R2_mad_robustize.csv has 384 rows\n",
      "File: C1085_R2_mad_robustize.csv has 384 rows\n",
      "File: C1088_R2_mad_robustize.csv has 384 rows\n",
      "File: C1085_R1_mad_robustize.csv has 384 rows\n",
      "File: C1093_R1_mad_robustize.csv has 384 rows\n",
      "File: C1092_R2_mad_robustize.csv has 375 rows\n",
      "File: C1086_R2_mad_robustize.csv has 384 rows\n",
      "File: C1091_R1_mad_robustize.csv has 384 rows\n",
      "File: C1091_R2_mad_robustize.csv has 383 rows\n",
      "File: C1093_R2_mad_robustize.csv has 384 rows\n",
      "File: C1086_R1_mad_robustize.csv has 384 rows\n",
      "File: C1087_R1_mad_robustize.csv has 384 rows\n",
      "File: C1089_R2_mad_robustize.csv has 384 rows\n",
      "File: C1088_R1_mad_robustize.csv has 384 rows\n",
      "File: C1090_R1_mad_robustize.csv has 384 rows\n",
      "File: C1084_R1_mad_robustize.csv has 384 rows\n",
      "File: C1090_R2_mad_robustize.csv has 383 rows\n",
      "Aggregated Data has shape  (25333, 2993)\n"
     ]
    }
   ],
   "source": [
    "# load normalized data\n",
    "pattern = \"[A-Z][0-9][0-9][0-9][0-9]_R[1-4]_mad_robustize.csv\"\n",
    "files = glob.glob(input_path + os.sep + '*' + os.sep + os.sep + '*' + os.sep + pattern, recursive=True)\n",
    "\n",
    "# TODO: needs to change in the future\n",
    "# TODO: process only what is not processed yet\n",
    "Data = []\n",
    "\n",
    "for file in files:\n",
    "    \n",
    "    filename = os.path.basename(file)\n",
    "    \n",
    "    try:\n",
    "        \n",
    "        Data_Temp = pd.read_csv(file)\n",
    "        row_count = Data_Temp.shape[0]\n",
    "        \n",
    "        print(f\"File: {filename} has {row_count} rows\")\n",
    "        \n",
    "        Data.append(Data_Temp)\n",
    "            \n",
    "    except Exception as e:\n",
    "        \n",
    "        print(f\"Error reading file {filename}: {e}\")\n",
    "        \n",
    "        \n",
    "### concat all files together\n",
    "Data_aggregated = pd.concat(Data)\n",
    "Data_aggregated = Data_aggregated.reset_index(drop = True)\n",
    "\n",
    "print(\"Aggregated Data has shape \", Data_aggregated.shape)"
   ]
  },
  {
   "cell_type": "code",
   "execution_count": 12,
   "metadata": {},
   "outputs": [],
   "source": [
    "replicate_list = Data_aggregated['Metadata_plate_map_name'].unique()\n",
    "replicate_dataframe = pd.DataFrame(replicate_list, columns=['Metadata_plate_map_name']) \n",
    "\n",
    "replicate_list_newcolumns = replicate_dataframe['Metadata_plate_map_name'].str.split('_', n=1, expand=True)\n",
    "replicate_dataframe['Metadata_plate_name'] = replicate_list_newcolumns[0]\n",
    "replicate_dataframe['Metadata_replicate_number'] = replicate_list_newcolumns[1]\n",
    "\n",
    "replicate_counts = replicate_dataframe.groupby('Metadata_plate_name')['Metadata_replicate_number'].count().reset_index()\n",
    "\n",
    "# Group by 'measurement_code' and filter groups that have exactly four replicates\n",
    "filtered_replicate_dataframe= replicate_dataframe.groupby('Metadata_plate_name').filter(lambda x: len(x['Metadata_replicate_number']) == 4)\n",
    "filtered_replicate_dataframe = filtered_replicate_dataframe.sort_values(by=['Metadata_plate_name'])\n",
    "\n",
    "Data_aggregated_filtered = Data_aggregated[Data_aggregated['Metadata_plate_map_name'].isin(filtered_replicate_dataframe['Metadata_plate_map_name'])]"
   ]
  },
  {
   "cell_type": "code",
   "execution_count": 23,
   "metadata": {},
   "outputs": [],
   "source": [
    "Data_aggregated_filtered_source = Data_aggregated_filtered.loc[Data_aggregated_filtered['Metadata_source'] == 'USC'].reset_index()\n",
    "\n",
    "Data_aggregated_filtered_source_plate = Data_aggregated_filtered_source.loc[Data_aggregated_filtered_source['Metadata_plate_name'] == 'C1162'].reset_index()\n",
    "\n",
    "# cleans up weird index columns that seem to pop up. Maybe need to investigate\n",
    "Data_aggregated_filtered_source_plate = Data_aggregated_filtered_source_plate.drop([\"index\"], axis=1)\n",
    "\n",
    "Data_aggregated_filtered_source_plate = Data_aggregated_filtered_source_plate.drop([\"level_0\"], axis=1)"
   ]
  },
  {
   "cell_type": "code",
   "execution_count": 25,
   "metadata": {},
   "outputs": [
    {
     "data": {
      "text/html": [
       "<div>\n",
       "<style scoped>\n",
       "    .dataframe tbody tr th:only-of-type {\n",
       "        vertical-align: middle;\n",
       "    }\n",
       "\n",
       "    .dataframe tbody tr th {\n",
       "        vertical-align: top;\n",
       "    }\n",
       "\n",
       "    .dataframe thead th {\n",
       "        text-align: right;\n",
       "    }\n",
       "</style>\n",
       "<table border=\"1\" class=\"dataframe\">\n",
       "  <thead>\n",
       "    <tr style=\"text-align: right;\">\n",
       "      <th></th>\n",
       "      <th>Metadata_Well</th>\n",
       "      <th>Metadata_instrument</th>\n",
       "      <th>Metadata_imaging_time</th>\n",
       "      <th>Metadata_source</th>\n",
       "      <th>Metadata_imaging_timezone</th>\n",
       "      <th>Metadata_Batch</th>\n",
       "      <th>Metadata_Well_randomized</th>\n",
       "      <th>Metadata_plate_name</th>\n",
       "      <th>Metadata_Plate</th>\n",
       "      <th>Metadata_RoughID</th>\n",
       "      <th>...</th>\n",
       "      <th>Cyto_Texture_Variance_Mito_10_03_256</th>\n",
       "      <th>Cyto_Texture_Variance_Mito_3_00_256</th>\n",
       "      <th>Cyto_Texture_Variance_Mito_3_01_256</th>\n",
       "      <th>Cyto_Texture_Variance_Mito_3_02_256</th>\n",
       "      <th>Cyto_Texture_Variance_Mito_3_03_256</th>\n",
       "      <th>Cyto_Texture_Variance_Mito_5_00_256</th>\n",
       "      <th>Cyto_Texture_Variance_Mito_5_01_256</th>\n",
       "      <th>Cyto_Texture_Variance_Mito_5_02_256</th>\n",
       "      <th>Cyto_Texture_Variance_Mito_5_03_256</th>\n",
       "      <th>Metadata_RoughID_unique</th>\n",
       "    </tr>\n",
       "  </thead>\n",
       "  <tbody>\n",
       "    <tr>\n",
       "      <th>0</th>\n",
       "      <td>M03</td>\n",
       "      <td>Sonata</td>\n",
       "      <td>19:29:02</td>\n",
       "      <td>USC</td>\n",
       "      <td>200</td>\n",
       "      <td>HepG2_10uM</td>\n",
       "      <td>A01</td>\n",
       "      <td>C1162</td>\n",
       "      <td>C1162R4</td>\n",
       "      <td>EOS_cpd</td>\n",
       "      <td>...</td>\n",
       "      <td>10.234126</td>\n",
       "      <td>9.756981</td>\n",
       "      <td>10.172532</td>\n",
       "      <td>9.681185</td>\n",
       "      <td>9.918125</td>\n",
       "      <td>9.515439</td>\n",
       "      <td>10.391508</td>\n",
       "      <td>10.300715</td>\n",
       "      <td>10.294461</td>\n",
       "      <td>M03_EOS_cpd</td>\n",
       "    </tr>\n",
       "    <tr>\n",
       "      <th>1</th>\n",
       "      <td>C23</td>\n",
       "      <td>Sonata</td>\n",
       "      <td>19:29:02</td>\n",
       "      <td>USC</td>\n",
       "      <td>200</td>\n",
       "      <td>HepG2_10uM</td>\n",
       "      <td>A02</td>\n",
       "      <td>C1162</td>\n",
       "      <td>C1162R4</td>\n",
       "      <td>DMSO</td>\n",
       "      <td>...</td>\n",
       "      <td>0.399010</td>\n",
       "      <td>0.290038</td>\n",
       "      <td>0.238816</td>\n",
       "      <td>0.265432</td>\n",
       "      <td>0.364529</td>\n",
       "      <td>0.263534</td>\n",
       "      <td>0.235307</td>\n",
       "      <td>0.297867</td>\n",
       "      <td>0.383976</td>\n",
       "      <td>DMSO</td>\n",
       "    </tr>\n",
       "    <tr>\n",
       "      <th>2</th>\n",
       "      <td>O10</td>\n",
       "      <td>Sonata</td>\n",
       "      <td>19:29:02</td>\n",
       "      <td>USC</td>\n",
       "      <td>200</td>\n",
       "      <td>HepG2_10uM</td>\n",
       "      <td>A03</td>\n",
       "      <td>C1162</td>\n",
       "      <td>C1162R4</td>\n",
       "      <td>EOS_cpd</td>\n",
       "      <td>...</td>\n",
       "      <td>0.210273</td>\n",
       "      <td>0.100786</td>\n",
       "      <td>0.184939</td>\n",
       "      <td>0.098823</td>\n",
       "      <td>0.240734</td>\n",
       "      <td>0.130820</td>\n",
       "      <td>0.217089</td>\n",
       "      <td>0.193355</td>\n",
       "      <td>0.176364</td>\n",
       "      <td>O10_EOS_cpd</td>\n",
       "    </tr>\n",
       "    <tr>\n",
       "      <th>3</th>\n",
       "      <td>K04</td>\n",
       "      <td>Sonata</td>\n",
       "      <td>19:29:02</td>\n",
       "      <td>USC</td>\n",
       "      <td>200</td>\n",
       "      <td>HepG2_10uM</td>\n",
       "      <td>A04</td>\n",
       "      <td>C1162</td>\n",
       "      <td>C1162R4</td>\n",
       "      <td>EOS_cpd</td>\n",
       "      <td>...</td>\n",
       "      <td>-0.953509</td>\n",
       "      <td>-0.906540</td>\n",
       "      <td>-0.919822</td>\n",
       "      <td>-0.911726</td>\n",
       "      <td>-0.925222</td>\n",
       "      <td>-0.936046</td>\n",
       "      <td>-0.938890</td>\n",
       "      <td>-0.947132</td>\n",
       "      <td>-0.919098</td>\n",
       "      <td>K04_EOS_cpd</td>\n",
       "    </tr>\n",
       "    <tr>\n",
       "      <th>4</th>\n",
       "      <td>H05</td>\n",
       "      <td>Sonata</td>\n",
       "      <td>19:29:02</td>\n",
       "      <td>USC</td>\n",
       "      <td>200</td>\n",
       "      <td>HepG2_10uM</td>\n",
       "      <td>A05</td>\n",
       "      <td>C1162</td>\n",
       "      <td>C1162R4</td>\n",
       "      <td>EOS_cpd</td>\n",
       "      <td>...</td>\n",
       "      <td>1.753571</td>\n",
       "      <td>1.628963</td>\n",
       "      <td>1.641279</td>\n",
       "      <td>1.637672</td>\n",
       "      <td>1.650305</td>\n",
       "      <td>1.682392</td>\n",
       "      <td>1.736021</td>\n",
       "      <td>1.659129</td>\n",
       "      <td>1.707860</td>\n",
       "      <td>H05_EOS_cpd</td>\n",
       "    </tr>\n",
       "  </tbody>\n",
       "</table>\n",
       "<p>5 rows × 2994 columns</p>\n",
       "</div>"
      ],
      "text/plain": [
       "  Metadata_Well Metadata_instrument Metadata_imaging_time Metadata_source  \\\n",
       "0           M03              Sonata              19:29:02             USC   \n",
       "1           C23              Sonata              19:29:02             USC   \n",
       "2           O10              Sonata              19:29:02             USC   \n",
       "3           K04              Sonata              19:29:02             USC   \n",
       "4           H05              Sonata              19:29:02             USC   \n",
       "\n",
       "   Metadata_imaging_timezone Metadata_Batch Metadata_Well_randomized  \\\n",
       "0                        200     HepG2_10uM                      A01   \n",
       "1                        200     HepG2_10uM                      A02   \n",
       "2                        200     HepG2_10uM                      A03   \n",
       "3                        200     HepG2_10uM                      A04   \n",
       "4                        200     HepG2_10uM                      A05   \n",
       "\n",
       "  Metadata_plate_name Metadata_Plate Metadata_RoughID  ...  \\\n",
       "0               C1162        C1162R4          EOS_cpd  ...   \n",
       "1               C1162        C1162R4             DMSO  ...   \n",
       "2               C1162        C1162R4          EOS_cpd  ...   \n",
       "3               C1162        C1162R4          EOS_cpd  ...   \n",
       "4               C1162        C1162R4          EOS_cpd  ...   \n",
       "\n",
       "  Cyto_Texture_Variance_Mito_10_03_256 Cyto_Texture_Variance_Mito_3_00_256  \\\n",
       "0                            10.234126                            9.756981   \n",
       "1                             0.399010                            0.290038   \n",
       "2                             0.210273                            0.100786   \n",
       "3                            -0.953509                           -0.906540   \n",
       "4                             1.753571                            1.628963   \n",
       "\n",
       "  Cyto_Texture_Variance_Mito_3_01_256  Cyto_Texture_Variance_Mito_3_02_256  \\\n",
       "0                           10.172532                             9.681185   \n",
       "1                            0.238816                             0.265432   \n",
       "2                            0.184939                             0.098823   \n",
       "3                           -0.919822                            -0.911726   \n",
       "4                            1.641279                             1.637672   \n",
       "\n",
       "  Cyto_Texture_Variance_Mito_3_03_256 Cyto_Texture_Variance_Mito_5_00_256  \\\n",
       "0                            9.918125                            9.515439   \n",
       "1                            0.364529                            0.263534   \n",
       "2                            0.240734                            0.130820   \n",
       "3                           -0.925222                           -0.936046   \n",
       "4                            1.650305                            1.682392   \n",
       "\n",
       "   Cyto_Texture_Variance_Mito_5_01_256  Cyto_Texture_Variance_Mito_5_02_256  \\\n",
       "0                            10.391508                            10.300715   \n",
       "1                             0.235307                             0.297867   \n",
       "2                             0.217089                             0.193355   \n",
       "3                            -0.938890                            -0.947132   \n",
       "4                             1.736021                             1.659129   \n",
       "\n",
       "   Cyto_Texture_Variance_Mito_5_03_256  Metadata_RoughID_unique  \n",
       "0                            10.294461              M03_EOS_cpd  \n",
       "1                             0.383976                     DMSO  \n",
       "2                             0.176364              O10_EOS_cpd  \n",
       "3                            -0.919098              K04_EOS_cpd  \n",
       "4                             1.707860              H05_EOS_cpd  \n",
       "\n",
       "[5 rows x 2994 columns]"
      ]
     },
     "execution_count": 25,
     "metadata": {},
     "output_type": "execute_result"
    }
   ],
   "source": [
    "# get unique Metadata_RoughID\n",
    "def merge_if_eos_cpd(row):\n",
    "\n",
    "    if row['Metadata_RoughID'] == 'EOS_cpd':\n",
    "\n",
    "        return f\"{row['Metadata_Well']}_{row['Metadata_RoughID']}\"\n",
    "    \n",
    "    else:\n",
    "\n",
    "        return row['Metadata_RoughID']\n",
    "    \n",
    "\n",
    "Data_aggregated_filtered_source_plate['Metadata_RoughID_unique'] = Data_aggregated_filtered_source_plate.apply(merge_if_eos_cpd, axis=1)"
   ]
  },
  {
   "cell_type": "markdown",
   "metadata": {},
   "source": [
    "# Metadata columns\n",
    "\n",
    "Metadata_Well\n",
    "\n",
    "Metadata_instrument\n",
    "\n",
    "Metadata_imaging_time\n",
    "\n",
    "Metadata_source\n",
    "\n",
    "Metadata_imaging_timezone\n",
    "\n",
    "Metadata_Batch\n",
    "\n",
    "Metadata_Well_randomized\n",
    "\n",
    "Metadata_plate_name\n",
    "\n",
    "Metadata_Plate\n",
    "\n",
    "Metadata_RoughID\n",
    "\n",
    "Metadata_picklist_name\n",
    "\n",
    "Metadata_plate_map_name\n",
    "\n",
    "Metadata_replicate_number\n",
    "\n",
    "Metadata_Object_Count\n",
    "\n",
    "Metadata_user\n",
    "\n",
    "Metadata_imaging_date\n",
    "\n",
    "Metadata_RoughID_unique"
   ]
  },
  {
   "cell_type": "code",
   "execution_count": null,
   "metadata": {},
   "outputs": [],
   "source": [
    "columns = Data_aggregated_filtered_source_plate.columns\n",
    "for col in columns:\n",
    "    print(col)"
   ]
  },
  {
   "cell_type": "markdown",
   "metadata": {},
   "source": [
    "# Feature reduction"
   ]
  },
  {
   "cell_type": "code",
   "execution_count": 29,
   "metadata": {},
   "outputs": [
    {
     "name": "stdout",
     "output_type": "stream",
     "text": [
      "Feature reduction with correlation threshold 0.9 and Outlier threshold 100\n",
      "| Category           |   Original Features |   Variance Threshold |   % Variance |   Outlier Threshold |   % Outlier |   Correlation Threshold |   % Correlation |\n",
      "|:-------------------|--------------------:|---------------------:|-------------:|--------------------:|------------:|------------------------:|----------------:|\n",
      "| Total Features     |                2977 |                 2822 |         94.8 |                2810 |        94.4 |                     498 |            16.7 |\n",
      "| Intensity          |                 180 |                  180 |        100   |                 180 |       100   |                      19 |            10.6 |\n",
      "| Correlation        |                 180 |                  127 |         70.6 |                 121 |        67.2 |                      68 |            37.8 |\n",
      "| AreaShape          |                 162 |                  153 |         94.4 |                 153 |        94.4 |                     109 |            67.3 |\n",
      "| Granularity        |                 192 |                  191 |         99.5 |                 191 |        99.5 |                      72 |            37.5 |\n",
      "| Neighbors          |                  21 |                   18 |         85.7 |                  18 |        85.7 |                       8 |            38.1 |\n",
      "| RadialDistribution |                 366 |                  280 |         76.5 |                 275 |        75.1 |                     112 |            30.6 |\n",
      "| Texture            |                1872 |                 1872 |        100   |                1872 |       100   |                     110 |             5.9 |\n",
      "| MitoSkeleton       |                   4 |                    1 |         25   |                   0 |         0   |                       0 |             0   |\n",
      "\n",
      "| Category       |   Original Features |   Variance Threshold |   % Variance |   Outlier Threshold |   % Outlier |   Correlation Threshold |   % Correlation |\n",
      "|:---------------|--------------------:|---------------------:|-------------:|--------------------:|------------:|------------------------:|----------------:|\n",
      "| Total Features |                2977 |                 2822 |         94.8 |                2810 |        94.4 |                     498 |            16.7 |\n",
      "| Nucleus        |                 921 |                  889 |         96.5 |                 888 |        96.4 |                     149 |            16.2 |\n",
      "| Cell           |                1035 |                 1006 |         97.2 |                1002 |        96.8 |                     166 |            16   |\n",
      "| Cytoplasm      |                1021 |                  927 |         90.8 |                 920 |        90.1 |                     183 |            17.9 |\n"
     ]
    },
    {
     "data": {
      "text/html": [
       "<div>\n",
       "<style scoped>\n",
       "    .dataframe tbody tr th:only-of-type {\n",
       "        vertical-align: middle;\n",
       "    }\n",
       "\n",
       "    .dataframe tbody tr th {\n",
       "        vertical-align: top;\n",
       "    }\n",
       "\n",
       "    .dataframe thead th {\n",
       "        text-align: right;\n",
       "    }\n",
       "</style>\n",
       "<table border=\"1\" class=\"dataframe\">\n",
       "  <thead>\n",
       "    <tr style=\"text-align: right;\">\n",
       "      <th></th>\n",
       "      <th>Metadata_Well</th>\n",
       "      <th>Metadata_instrument</th>\n",
       "      <th>Metadata_imaging_time</th>\n",
       "      <th>Metadata_source</th>\n",
       "      <th>Metadata_imaging_timezone</th>\n",
       "      <th>Metadata_Batch</th>\n",
       "      <th>Metadata_Well_randomized</th>\n",
       "      <th>Metadata_plate_name</th>\n",
       "      <th>Metadata_Plate</th>\n",
       "      <th>Metadata_RoughID</th>\n",
       "      <th>...</th>\n",
       "      <th>Cyto_Texture_Correlation_Mito_10_03_256</th>\n",
       "      <th>Cyto_Texture_InfoMeas1_AGP_3_00_256</th>\n",
       "      <th>Cyto_Texture_InfoMeas1_AGP_5_03_256</th>\n",
       "      <th>Cyto_Texture_InfoMeas1_DNA_10_02_256</th>\n",
       "      <th>Cyto_Texture_InfoMeas1_DNA_3_01_256</th>\n",
       "      <th>Cyto_Texture_InfoMeas1_ER_10_03_256</th>\n",
       "      <th>Cyto_Texture_InfoMeas1_Mito_3_00_256</th>\n",
       "      <th>Cyto_Texture_InfoMeas2_ER_10_03_256</th>\n",
       "      <th>Cyto_Texture_SumAverage_ER_5_02_256</th>\n",
       "      <th>Metadata_RoughID_unique</th>\n",
       "    </tr>\n",
       "  </thead>\n",
       "  <tbody>\n",
       "    <tr>\n",
       "      <th>0</th>\n",
       "      <td>M03</td>\n",
       "      <td>Sonata</td>\n",
       "      <td>19:29:02</td>\n",
       "      <td>USC</td>\n",
       "      <td>200</td>\n",
       "      <td>HepG2_10uM</td>\n",
       "      <td>A01</td>\n",
       "      <td>C1162</td>\n",
       "      <td>C1162R4</td>\n",
       "      <td>EOS_cpd</td>\n",
       "      <td>...</td>\n",
       "      <td>0.221583</td>\n",
       "      <td>2.187932</td>\n",
       "      <td>4.372588</td>\n",
       "      <td>1.363633</td>\n",
       "      <td>3.106717</td>\n",
       "      <td>-0.302066</td>\n",
       "      <td>0.071098</td>\n",
       "      <td>0.403125</td>\n",
       "      <td>-0.120517</td>\n",
       "      <td>M03_EOS_cpd</td>\n",
       "    </tr>\n",
       "    <tr>\n",
       "      <th>1</th>\n",
       "      <td>C23</td>\n",
       "      <td>Sonata</td>\n",
       "      <td>19:29:02</td>\n",
       "      <td>USC</td>\n",
       "      <td>200</td>\n",
       "      <td>HepG2_10uM</td>\n",
       "      <td>A02</td>\n",
       "      <td>C1162</td>\n",
       "      <td>C1162R4</td>\n",
       "      <td>DMSO</td>\n",
       "      <td>...</td>\n",
       "      <td>-1.226965</td>\n",
       "      <td>0.000157</td>\n",
       "      <td>0.085137</td>\n",
       "      <td>0.115132</td>\n",
       "      <td>-0.628421</td>\n",
       "      <td>-0.464208</td>\n",
       "      <td>1.123809</td>\n",
       "      <td>0.349549</td>\n",
       "      <td>0.541744</td>\n",
       "      <td>DMSO</td>\n",
       "    </tr>\n",
       "    <tr>\n",
       "      <th>2</th>\n",
       "      <td>O10</td>\n",
       "      <td>Sonata</td>\n",
       "      <td>19:29:02</td>\n",
       "      <td>USC</td>\n",
       "      <td>200</td>\n",
       "      <td>HepG2_10uM</td>\n",
       "      <td>A03</td>\n",
       "      <td>C1162</td>\n",
       "      <td>C1162R4</td>\n",
       "      <td>EOS_cpd</td>\n",
       "      <td>...</td>\n",
       "      <td>1.585765</td>\n",
       "      <td>1.026100</td>\n",
       "      <td>2.159473</td>\n",
       "      <td>1.063700</td>\n",
       "      <td>1.659476</td>\n",
       "      <td>1.315095</td>\n",
       "      <td>1.155524</td>\n",
       "      <td>-1.434217</td>\n",
       "      <td>-2.001521</td>\n",
       "      <td>O10_EOS_cpd</td>\n",
       "    </tr>\n",
       "    <tr>\n",
       "      <th>3</th>\n",
       "      <td>K04</td>\n",
       "      <td>Sonata</td>\n",
       "      <td>19:29:02</td>\n",
       "      <td>USC</td>\n",
       "      <td>200</td>\n",
       "      <td>HepG2_10uM</td>\n",
       "      <td>A04</td>\n",
       "      <td>C1162</td>\n",
       "      <td>C1162R4</td>\n",
       "      <td>EOS_cpd</td>\n",
       "      <td>...</td>\n",
       "      <td>-0.815843</td>\n",
       "      <td>-0.804621</td>\n",
       "      <td>-1.954052</td>\n",
       "      <td>-1.834921</td>\n",
       "      <td>-2.281287</td>\n",
       "      <td>0.449196</td>\n",
       "      <td>1.399768</td>\n",
       "      <td>-1.405628</td>\n",
       "      <td>-0.093266</td>\n",
       "      <td>K04_EOS_cpd</td>\n",
       "    </tr>\n",
       "    <tr>\n",
       "      <th>4</th>\n",
       "      <td>H05</td>\n",
       "      <td>Sonata</td>\n",
       "      <td>19:29:02</td>\n",
       "      <td>USC</td>\n",
       "      <td>200</td>\n",
       "      <td>HepG2_10uM</td>\n",
       "      <td>A05</td>\n",
       "      <td>C1162</td>\n",
       "      <td>C1162R4</td>\n",
       "      <td>EOS_cpd</td>\n",
       "      <td>...</td>\n",
       "      <td>-0.726229</td>\n",
       "      <td>0.767934</td>\n",
       "      <td>1.753754</td>\n",
       "      <td>1.561700</td>\n",
       "      <td>2.544197</td>\n",
       "      <td>-0.002278</td>\n",
       "      <td>0.673807</td>\n",
       "      <td>-0.076514</td>\n",
       "      <td>-1.062845</td>\n",
       "      <td>H05_EOS_cpd</td>\n",
       "    </tr>\n",
       "  </tbody>\n",
       "</table>\n",
       "<p>5 rows × 515 columns</p>\n",
       "</div>"
      ],
      "text/plain": [
       "  Metadata_Well Metadata_instrument Metadata_imaging_time Metadata_source  \\\n",
       "0           M03              Sonata              19:29:02             USC   \n",
       "1           C23              Sonata              19:29:02             USC   \n",
       "2           O10              Sonata              19:29:02             USC   \n",
       "3           K04              Sonata              19:29:02             USC   \n",
       "4           H05              Sonata              19:29:02             USC   \n",
       "\n",
       "   Metadata_imaging_timezone Metadata_Batch Metadata_Well_randomized  \\\n",
       "0                        200     HepG2_10uM                      A01   \n",
       "1                        200     HepG2_10uM                      A02   \n",
       "2                        200     HepG2_10uM                      A03   \n",
       "3                        200     HepG2_10uM                      A04   \n",
       "4                        200     HepG2_10uM                      A05   \n",
       "\n",
       "  Metadata_plate_name Metadata_Plate Metadata_RoughID  ...  \\\n",
       "0               C1162        C1162R4          EOS_cpd  ...   \n",
       "1               C1162        C1162R4             DMSO  ...   \n",
       "2               C1162        C1162R4          EOS_cpd  ...   \n",
       "3               C1162        C1162R4          EOS_cpd  ...   \n",
       "4               C1162        C1162R4          EOS_cpd  ...   \n",
       "\n",
       "  Cyto_Texture_Correlation_Mito_10_03_256 Cyto_Texture_InfoMeas1_AGP_3_00_256  \\\n",
       "0                                0.221583                            2.187932   \n",
       "1                               -1.226965                            0.000157   \n",
       "2                                1.585765                            1.026100   \n",
       "3                               -0.815843                           -0.804621   \n",
       "4                               -0.726229                            0.767934   \n",
       "\n",
       "  Cyto_Texture_InfoMeas1_AGP_5_03_256  Cyto_Texture_InfoMeas1_DNA_10_02_256  \\\n",
       "0                            4.372588                              1.363633   \n",
       "1                            0.085137                              0.115132   \n",
       "2                            2.159473                              1.063700   \n",
       "3                           -1.954052                             -1.834921   \n",
       "4                            1.753754                              1.561700   \n",
       "\n",
       "  Cyto_Texture_InfoMeas1_DNA_3_01_256 Cyto_Texture_InfoMeas1_ER_10_03_256  \\\n",
       "0                            3.106717                           -0.302066   \n",
       "1                           -0.628421                           -0.464208   \n",
       "2                            1.659476                            1.315095   \n",
       "3                           -2.281287                            0.449196   \n",
       "4                            2.544197                           -0.002278   \n",
       "\n",
       "   Cyto_Texture_InfoMeas1_Mito_3_00_256  Cyto_Texture_InfoMeas2_ER_10_03_256  \\\n",
       "0                              0.071098                             0.403125   \n",
       "1                              1.123809                             0.349549   \n",
       "2                              1.155524                            -1.434217   \n",
       "3                              1.399768                            -1.405628   \n",
       "4                              0.673807                            -0.076514   \n",
       "\n",
       "   Cyto_Texture_SumAverage_ER_5_02_256  Metadata_RoughID_unique  \n",
       "0                            -0.120517              M03_EOS_cpd  \n",
       "1                             0.541744                     DMSO  \n",
       "2                            -2.001521              O10_EOS_cpd  \n",
       "3                            -0.093266              K04_EOS_cpd  \n",
       "4                            -1.062845              H05_EOS_cpd  \n",
       "\n",
       "[5 rows x 515 columns]"
      ]
     },
     "execution_count": 29,
     "metadata": {},
     "output_type": "execute_result"
    }
   ],
   "source": [
    "# Fature reduction\n",
    "# Test show reproducibility significantly lower with full feature set!\n",
    "# Thus we need some way to reduce the feature set\n",
    "# But we also know that the below method produces a variable feature set\n",
    "# So maybe need to rethink the method\n",
    "print(\"Feature reduction with correlation threshold 0.9 and Outlier threshold 100\")\n",
    "filtered_source_plate_feature_select = CBE.feature_reduction(Data_aggregated_filtered_source_plate, \n",
    "                                         variance_freq_cut=0.1, \n",
    "                                         variance_unique_cut=0.1, \n",
    "                                         outlier_cutoff=100, \n",
    "                                         corr_threshold = 0.9, \n",
    "                                         print_stats = True)"
   ]
  },
  {
   "cell_type": "markdown",
   "metadata": {},
   "source": [
    "# Consensus"
   ]
  },
  {
   "cell_type": "code",
   "execution_count": 39,
   "metadata": {},
   "outputs": [],
   "source": [
    "## gets feature vector\n",
    "Features_filtered_source_plate_feature_select = CBE.get_feature_vector(filtered_source_plate_feature_select)\n",
    "Features_filtered_source_plate_feature_select.append(\"Metadata_Object_Count\") \n",
    "\n",
    "\n",
    "median_filtered_source_plate_feature_select = pycytominer.consensus(\n",
    "        profiles = filtered_source_plate_feature_select , # A file or pandas DataFrame of profile data\n",
    "        replicate_columns = [\"Metadata_source\", \n",
    "                             \"Metadata_RoughID_unique\",\n",
    "                             \"Metadata_plate_name\",\n",
    "                             \"Metadata_Well\"], # Metadata columns indicating which replicates to collapse, defaults to [“Metadata_Plate”, “Metadata_Well”]\n",
    "        operation = \"median\", # (str) – The method used to form consensus profiles, defaults to “median”\n",
    "        features = Features_filtered_source_plate_feature_select, # (str, list) – The features to collapse, defaults to “infer”\n",
    ")"
   ]
  },
  {
   "cell_type": "markdown",
   "metadata": {},
   "source": [
    "\n",
    "# Compute toxicity"
   ]
  },
  {
   "cell_type": "code",
   "execution_count": 93,
   "metadata": {},
   "outputs": [],
   "source": [
    "def pad_numbers(value):\n",
    "    match = re.match(r\"([A-Z])(\\d+)\", value)\n",
    "    if match:\n",
    "        letter = match.group(1)\n",
    "        number = match.group(2).zfill(2)  # Pad number to 2 digits\n",
    "        return f\"{letter}{number}\"\n",
    "    return value"
   ]
  },
  {
   "cell_type": "code",
   "execution_count": 94,
   "metadata": {},
   "outputs": [
    {
     "data": {
      "text/html": [
       "<div>\n",
       "<style scoped>\n",
       "    .dataframe tbody tr th:only-of-type {\n",
       "        vertical-align: middle;\n",
       "    }\n",
       "\n",
       "    .dataframe tbody tr th {\n",
       "        vertical-align: top;\n",
       "    }\n",
       "\n",
       "    .dataframe thead th {\n",
       "        text-align: right;\n",
       "    }\n",
       "</style>\n",
       "<table border=\"1\" class=\"dataframe\">\n",
       "  <thead>\n",
       "    <tr style=\"text-align: right;\">\n",
       "      <th></th>\n",
       "      <th>Metadata_Well</th>\n",
       "      <th>Metadata_RoughID</th>\n",
       "      <th>Metadata_RoughID_unique</th>\n",
       "    </tr>\n",
       "  </thead>\n",
       "  <tbody>\n",
       "    <tr>\n",
       "      <th>0</th>\n",
       "      <td>A01</td>\n",
       "      <td>EOS_cpd</td>\n",
       "      <td>A01_EOS_cpd</td>\n",
       "    </tr>\n",
       "    <tr>\n",
       "      <th>1</th>\n",
       "      <td>B01</td>\n",
       "      <td>EOS_cpd</td>\n",
       "      <td>B01_EOS_cpd</td>\n",
       "    </tr>\n",
       "    <tr>\n",
       "      <th>2</th>\n",
       "      <td>C01</td>\n",
       "      <td>EOS_cpd</td>\n",
       "      <td>C01_EOS_cpd</td>\n",
       "    </tr>\n",
       "    <tr>\n",
       "      <th>3</th>\n",
       "      <td>D01</td>\n",
       "      <td>EOS_cpd</td>\n",
       "      <td>D01_EOS_cpd</td>\n",
       "    </tr>\n",
       "    <tr>\n",
       "      <th>4</th>\n",
       "      <td>E01</td>\n",
       "      <td>EOS_cpd</td>\n",
       "      <td>E01_EOS_cpd</td>\n",
       "    </tr>\n",
       "  </tbody>\n",
       "</table>\n",
       "</div>"
      ],
      "text/plain": [
       "  Metadata_Well Metadata_RoughID Metadata_RoughID_unique\n",
       "0           A01          EOS_cpd             A01_EOS_cpd\n",
       "1           B01          EOS_cpd             B01_EOS_cpd\n",
       "2           C01          EOS_cpd             C01_EOS_cpd\n",
       "3           D01          EOS_cpd             D01_EOS_cpd\n",
       "4           E01          EOS_cpd             E01_EOS_cpd"
      ]
     },
     "execution_count": 94,
     "metadata": {},
     "output_type": "execute_result"
    }
   ],
   "source": [
    "# per source and plate, plot over imaging time\n",
    "# tally up also\n",
    "\n",
    "# Missing wells need to be included\n",
    "# Compounds with not all replicates also important information\n",
    "# TODO: Compute missing wells\n",
    "# get info for pos. and neg. controls\n",
    "controls_layout_path = os.path.join(annotation_dir, \"pos_neg_ctrl.csv\")\n",
    "\n",
    "try:\n",
    "                \n",
    "    controls_layout = pd.read_csv(controls_layout_path)\n",
    "                \n",
    "    # Issue in the plate layout the well numbers are not padded\n",
    "    controls_layout['Metadata_Well'] = controls_layout['Metadata_Well'].apply(pad_numbers)\n",
    "            \n",
    "except Exception as e:\n",
    "                \n",
    "    print(f\"Error reading {controls_layout}: {str(e)}\")\n",
    "\n",
    "\n",
    "controls_layout['Metadata_RoughID_unique'] = controls_layout.apply(merge_if_eos_cpd, axis=1)"
   ]
  },
  {
   "cell_type": "markdown",
   "metadata": {},
   "source": [
    "# Missing compounds"
   ]
  },
  {
   "cell_type": "code",
   "execution_count": 97,
   "metadata": {},
   "outputs": [
    {
     "name": "stdout",
     "output_type": "stream",
     "text": [
      "HepG2: There are  0 compounds missing\n"
     ]
    }
   ],
   "source": [
    "all_ID = controls_layout['Metadata_RoughID_unique'].unique()\n",
    "plate_ID = filtered_source_plate_feature_select['Metadata_RoughID_unique'].unique()\n",
    "print(\"HepG2: There are \",len(all_ID) - len(plate_ID),\"compounds missing\")"
   ]
  },
  {
   "cell_type": "markdown",
   "metadata": {},
   "source": [
    "# Compounds with less than 4 replicates"
   ]
  },
  {
   "cell_type": "code",
   "execution_count": 99,
   "metadata": {},
   "outputs": [
    {
     "name": "stdout",
     "output_type": "stream",
     "text": [
      "HepG2: There are 0 compounds with less than 4 replicates.\n"
     ]
    }
   ],
   "source": [
    "filtered_source_plate_feature_select_replicates = filtered_source_plate_feature_select['Metadata_RoughID_unique'].value_counts()\n",
    "print(\"HepG2: There are\",len(filtered_source_plate_feature_select_replicates[filtered_source_plate_feature_select_replicates.iloc[:] < 4]), \"compounds with less than 4 replicates.\")"
   ]
  },
  {
   "cell_type": "markdown",
   "metadata": {},
   "source": [
    "# Cell numbers"
   ]
  },
  {
   "cell_type": "code",
   "execution_count": 43,
   "metadata": {},
   "outputs": [
    {
     "data": {
      "text/plain": [
       "<AxesSubplot: title={'center': 'USC C1162'}, xlabel='Metadata_Object_Count', ylabel='Count'>"
      ]
     },
     "execution_count": 43,
     "metadata": {},
     "output_type": "execute_result"
    },
    {
     "data": {
      "image/png": "[encoded data removed]",
      "text/plain": [
       "<Figure size 504x720 with 1 Axes>"
      ]
     },
     "metadata": {
      "needs_background": "light"
     },
     "output_type": "display_data"
    }
   ],
   "source": [
    "plt.rcParams[\"figure.figsize\"] = (7,10)\n",
    "\n",
    "fig, (ax1)= plt.subplots(1, sharex=True, sharey=True)\n",
    "ax1.title.set_text('USC C1162')\n",
    "fig.tight_layout(pad=5.0)\n",
    "sns.histplot(data=filtered_source_plate_feature_select, x=\"Metadata_Object_Count\", ax = ax1)\n",
    "\n",
    "# plt.savefig(figure_path + str(date.today()) + '_CellNumber.pdf',  dpi=300)"
   ]
  },
  {
   "cell_type": "code",
   "execution_count": 102,
   "metadata": {},
   "outputs": [],
   "source": [
    "# plot cell numbers of controls\n",
    "filtered_source_plate_feature_select_controls = filtered_source_plate_feature_select[(filtered_source_plate_feature_select[\"Metadata_RoughID_unique\"] == \"DMSO\") |\n",
    "                                    (filtered_source_plate_feature_select[\"Metadata_RoughID_unique\"] == \"Nocodazole\") |\n",
    "                                    (filtered_source_plate_feature_select[\"Metadata_RoughID_unique\"] == \"Tetrandrine\") ]"
   ]
  },
  {
   "cell_type": "code",
   "execution_count": 104,
   "metadata": {},
   "outputs": [
    {
     "data": {
      "text/plain": [
       "<AxesSubplot: title={'center': 'HepG2'}, xlabel='Metadata_RoughID_unique', ylabel='Metadata_Object_Count'>"
      ]
     },
     "execution_count": 104,
     "metadata": {},
     "output_type": "execute_result"
    },
    {
     "data": {
      "image/png": "[encoded data removed]",
      "text/plain": [
       "<Figure size 504x720 with 1 Axes>"
      ]
     },
     "metadata": {},
     "output_type": "display_data"
    }
   ],
   "source": [
    "fig, (ax1)= plt.subplots(1, sharex=False, sharey=True)\n",
    "ax1.title.set_text('USC C1162')\n",
    "fig.tight_layout(pad=5.0)\n",
    "sns.boxplot(data=filtered_source_plate_feature_select_controls, y=\"Metadata_Object_Count\", x=\"Metadata_RoughID_unique\", ax=ax1)\n",
    "\n",
    "# plt.savefig(figure_path + str(date.today()) + '_CellNumberControls.pdf',  dpi=300)"
   ]
  },
  {
   "cell_type": "code",
   "execution_count": 42,
   "metadata": {},
   "outputs": [
    {
     "data": {
      "text/plain": [
       "<AxesSubplot: title={'center': 'USC C1162'}, xlabel='Metadata_Object_Count', ylabel='Count'>"
      ]
     },
     "execution_count": 42,
     "metadata": {},
     "output_type": "execute_result"
    },
    {
     "data": {
      "image/png": "[encoded data removed]",
      "text/plain": [
       "<Figure size 504x720 with 1 Axes>"
      ]
     },
     "metadata": {
      "needs_background": "light"
     },
     "output_type": "display_data"
    }
   ],
   "source": [
    "plt.rcParams[\"figure.figsize\"] = (7,10)\n",
    "\n",
    "fig, (ax1)= plt.subplots(1, sharex=True, sharey=True)\n",
    "ax1.title.set_text('USC C1162')\n",
    "fig.tight_layout(pad=5.0)\n",
    "sns.histplot(data=median_filtered_source_plate_feature_select, x=\"Metadata_Object_Count\", ax = ax1)\n",
    "\n",
    "# plt.savefig(figure_path + str(date.today()) + '_CellNumber.pdf',  dpi=300)"
   ]
  },
  {
   "cell_type": "code",
   "execution_count": 47,
   "metadata": {},
   "outputs": [
    {
     "data": {
      "text/plain": [
       "<AxesSubplot: title={'center': 'USC C1162'}, xlabel='Metadata_RoughID_unique', ylabel='Metadata_Object_Count'>"
      ]
     },
     "execution_count": 47,
     "metadata": {},
     "output_type": "execute_result"
    },
    {
     "data": {
      "image/png": "[encoded data removed]",
      "text/plain": [
       "<Figure size 504x720 with 1 Axes>"
      ]
     },
     "metadata": {
      "needs_background": "light"
     },
     "output_type": "display_data"
    }
   ],
   "source": [
    "# plot cell numbers of controls\n",
    "median_filtered_source_plate_feature_select_controls = median_filtered_source_plate_feature_select[(median_filtered_source_plate_feature_select[\"Metadata_RoughID_unique\"] == \"DMSO\") |\n",
    "                                                                                                   (median_filtered_source_plate_feature_select[\"Metadata_RoughID_unique\"] == \"Tetrandrine\") |\n",
    "                                                                                                   (median_filtered_source_plate_feature_select[\"Metadata_RoughID_unique\"] == \"Nocodazole\") ]\n",
    "\n",
    "\n",
    "fig, (ax1)= plt.subplots(1, sharex=False, sharey=True)\n",
    "ax1.title.set_text('USC C1162')\n",
    "fig.tight_layout(pad=5.0)\n",
    "sns.boxplot(data=median_filtered_source_plate_feature_select_controls, y=\"Metadata_Object_Count\", x=\"Metadata_RoughID_unique\", ax=ax1)\n",
    "\n",
    "# plt.savefig(figure_path + str(date.today()) + '_CellNumberControls.pdf',  dpi=300)"
   ]
  },
  {
   "cell_type": "markdown",
   "metadata": {},
   "source": [
    "# Toxicity"
   ]
  },
  {
   "cell_type": "code",
   "execution_count": null,
   "metadata": {},
   "outputs": [],
   "source": [
    "missing_compounds = pd.merge(controls_layout, \n",
    "                                 filtered_source_plate_feature_select,\n",
    "                                 on = [\"Metadata_RoughID_unique\"],\n",
    "                                 how = \"left\",\n",
    "                                 indicator = True)\n",
    "\n",
    "missing_compounds = missing_compounds[missing_compounds[\"_merge\"] == 'left_only'].dropna(axis='columns')"
   ]
  },
  {
   "cell_type": "code",
   "execution_count": 121,
   "metadata": {},
   "outputs": [
    {
     "data": {
      "text/html": [
       "<div>\n",
       "<style scoped>\n",
       "    .dataframe tbody tr th:only-of-type {\n",
       "        vertical-align: middle;\n",
       "    }\n",
       "\n",
       "    .dataframe tbody tr th {\n",
       "        vertical-align: top;\n",
       "    }\n",
       "\n",
       "    .dataframe thead th {\n",
       "        text-align: right;\n",
       "    }\n",
       "</style>\n",
       "<table border=\"1\" class=\"dataframe\">\n",
       "  <thead>\n",
       "    <tr style=\"text-align: right;\">\n",
       "      <th></th>\n",
       "      <th>Metadata_Well_x</th>\n",
       "      <th>Metadata_RoughID_x</th>\n",
       "      <th>Metadata_RoughID_unique</th>\n",
       "      <th>level_0</th>\n",
       "      <th>index</th>\n",
       "      <th>Metadata_Well_y</th>\n",
       "      <th>Metadata_instrument</th>\n",
       "      <th>Metadata_imaging_time</th>\n",
       "      <th>Metadata_source</th>\n",
       "      <th>Metadata_imaging_timezone</th>\n",
       "      <th>...</th>\n",
       "      <th>Cyto_Texture_Correlation_Mito_10_03_256</th>\n",
       "      <th>Cyto_Texture_InfoMeas1_AGP_3_00_256</th>\n",
       "      <th>Cyto_Texture_InfoMeas1_AGP_5_03_256</th>\n",
       "      <th>Cyto_Texture_InfoMeas1_DNA_10_02_256</th>\n",
       "      <th>Cyto_Texture_InfoMeas1_DNA_3_01_256</th>\n",
       "      <th>Cyto_Texture_InfoMeas1_ER_10_03_256</th>\n",
       "      <th>Cyto_Texture_InfoMeas1_Mito_3_00_256</th>\n",
       "      <th>Cyto_Texture_InfoMeas2_ER_10_03_256</th>\n",
       "      <th>Cyto_Texture_SumAverage_ER_5_02_256</th>\n",
       "      <th>_merge</th>\n",
       "    </tr>\n",
       "  </thead>\n",
       "  <tbody>\n",
       "  </tbody>\n",
       "</table>\n",
       "<p>0 rows × 520 columns</p>\n",
       "</div>"
      ],
      "text/plain": [
       "Empty DataFrame\n",
       "Columns: [Metadata_Well_x, Metadata_RoughID_x, Metadata_RoughID_unique, level_0, index, Metadata_Well_y, Metadata_instrument, Metadata_imaging_time, Metadata_source, Metadata_imaging_timezone, Metadata_Batch, Metadata_Well_randomized, Metadata_plate_name, Metadata_Plate, Metadata_RoughID_y, Metadata_picklist_name, Metadata_plate_map_name, Metadata_replicate_number, Metadata_Object_Count, Metadata_user, Metadata_imaging_date, Nuc_AreaShape_BoundingBoxMaximum_Y, Nuc_AreaShape_BoundingBoxMinimum_X, Nuc_AreaShape_Compactness, Nuc_AreaShape_Eccentricity, Nuc_AreaShape_Extent, Nuc_AreaShape_MinFeretDiameter, Nuc_AreaShape_Orientation, Nuc_AreaShape_Solidity, Nuc_AreaShape_Zernike_0_0, Nuc_AreaShape_Zernike_1_1, Nuc_AreaShape_Zernike_2_0, Nuc_AreaShape_Zernike_2_2, Nuc_AreaShape_Zernike_3_1, Nuc_AreaShape_Zernike_3_3, Nuc_AreaShape_Zernike_4_0, Nuc_AreaShape_Zernike_4_2, Nuc_AreaShape_Zernike_4_4, Nuc_AreaShape_Zernike_5_1, Nuc_AreaShape_Zernike_5_3, Nuc_AreaShape_Zernike_5_5, Nuc_AreaShape_Zernike_6_0, Nuc_AreaShape_Zernike_6_2, Nuc_AreaShape_Zernike_6_4, Nuc_AreaShape_Zernike_6_6, Nuc_AreaShape_Zernike_7_1, Nuc_AreaShape_Zernike_7_3, Nuc_AreaShape_Zernike_7_5, Nuc_AreaShape_Zernike_7_7, Nuc_AreaShape_Zernike_8_0, Nuc_AreaShape_Zernike_8_2, Nuc_AreaShape_Zernike_8_4, Nuc_AreaShape_Zernike_8_6, Nuc_AreaShape_Zernike_8_8, Nuc_AreaShape_Zernike_9_1, Nuc_AreaShape_Zernike_9_3, Nuc_AreaShape_Zernike_9_5, Nuc_AreaShape_Zernike_9_7, Nuc_AreaShape_Zernike_9_9, Nuc_Correlation_Correlation_AGP_ER, Nuc_Correlation_Correlation_AGP_Mito, Nuc_Correlation_Correlation_DNA_ER, Nuc_Correlation_Correlation_ER_Mito, Nuc_Correlation_K_AGP_ER, Nuc_Correlation_K_AGP_Mito, Nuc_Correlation_K_ER_AGP, Nuc_Correlation_Overlap_AGP_ER, Nuc_Correlation_Overlap_AGP_Mito, Nuc_Correlation_Overlap_DNA_ER, Nuc_Correlation_Overlap_DNA_Mito, Nuc_Correlation_RWC_AGP_DNA, Nuc_Correlation_RWC_AGP_ER, Nuc_Correlation_RWC_AGP_Mito, Nuc_Correlation_RWC_DNA_ER, Nuc_Correlation_RWC_ER_DNA, Nuc_Correlation_RWC_ER_Mito, Nuc_Correlation_RWC_Mito_AGP, Nuc_Correlation_RWC_Mito_DNA, Nuc_Granularity_12_AGP, Nuc_Granularity_13_AGP, Nuc_Granularity_14_Mito, Nuc_Granularity_15_Mito, Nuc_Granularity_1_DNA, Nuc_Granularity_1_Mito, Nuc_Granularity_2_AGP, Nuc_Granularity_2_ER, Nuc_Granularity_5_DNA, Nuc_Granularity_8_AGP, Nuc_Intensity_MassDisplacement_AGP, Nuc_Intensity_MassDisplacement_DNA, Nuc_Intensity_MassDisplacement_ER, Nuc_Intensity_MassDisplacement_Mito, Nuc_Intensity_MinIntensity_ER, Nuc_Neighbors_AngleBetweenNeighbors_1, Nuc_Neighbors_FirstClosestDistance_1, Nuc_Neighbors_FirstClosestObjectNumber_1, Nuc_Neighbors_PercentTouching_1, Nuc_RadialDistribution_FracAtD_DNA_1of4, Nuc_RadialDistribution_FracAtD_DNA_3of4, Nuc_RadialDistribution_FracAtD_ER_1of4, ...]\n",
       "Index: []\n",
       "\n",
       "[0 rows x 520 columns]"
      ]
     },
     "execution_count": 121,
     "metadata": {},
     "output_type": "execute_result"
    }
   ],
   "source": [
    "missing_compounds.head()"
   ]
  },
  {
   "cell_type": "code",
   "execution_count": 50,
   "metadata": {},
   "outputs": [
    {
     "name": "stdout",
     "output_type": "stream",
     "text": [
      "Tox threshold: 485.1489880532356\n",
      "Toxic conditions: 19 compounds (1.5 Std from population median)\n"
     ]
    }
   ],
   "source": [
    "## 2.5 Std from population median\n",
    "# TODO: problematic tox threshold does not work currently\n",
    "# Now set to 1.5 STDs from sample median\n",
    "# Works well on larger samples...???\n",
    "SD_Threshold = 1.5\n",
    "\n",
    "tox_threshold_1 = median_filtered_source_plate_feature_select[\"Metadata_Object_Count\"].median() - (SD_Threshold * filtered_source_plate_feature_select[\"Metadata_Object_Count\"].std())\n",
    "print(\"Tox threshold:\", tox_threshold_1)\n",
    "\n",
    "FMP_Toxic_conditions_1 = filtered_source_plate_feature_select.loc[filtered_source_plate_feature_select[\"Metadata_Object_Count\"] < tox_threshold_1]\n",
    "print(\"Toxic conditions: \" + str(len(FMP_Toxic_conditions_1 )) + \" compounds (\" + str(SD_Threshold) + \" Std from population median)\")"
   ]
  },
  {
   "cell_type": "markdown",
   "metadata": {},
   "source": [
    "# Raw % replication\n"
   ]
  },
  {
   "cell_type": "code",
   "execution_count": 52,
   "metadata": {},
   "outputs": [
    {
     "name": "stderr",
     "output_type": "stream",
     "text": [
      "/home/schmiedc/FMP_Docs/Projects/ECBL_Project/QualityControl_analysis/notebooks/CBE_utils.py:391: FutureWarning: The frame.append method is deprecated and will be removed from pandas in a future version. Use pandas.concat instead.\n",
      "  corr_replicating_df = corr_replicating_df.append({'Description': description,\n"
     ]
    },
    {
     "name": "stdout",
     "output_type": "stream",
     "text": [
      "| Description   |   Percent_Replicating |\n",
      "|:--------------|----------------------:|\n",
      "| USC C1162     |                  27.9 |\n",
      "Nonreplicating conditions removed with threshold 0.26\n",
      "Old shape (1536, 515)\n",
      "New shape (428, 515)\n"
     ]
    },
    {
     "data": {
      "image/png": "[encoded data removed]",
      "text/plain": [
       "<Figure size 864x432 with 1 Axes>"
      ]
     },
     "metadata": {},
     "output_type": "display_data"
    }
   ],
   "source": [
    "replicating_source_plate, corr_replicating_source_plate = CBE.remove_non_reproducible(\n",
    "    filtered_source_plate_feature_select, \n",
    "    n_samples = 10000, \n",
    "    n_replicates = 4, \n",
    "    ID_col = \"Metadata_Well\", \n",
    "    description = \"USC C1162\")\n",
    "\n",
    "n_experiments = len(corr_replicating_source_plate)\n",
    "\n",
    "plt.rcParams['figure.facecolor'] = 'white' # Enabling this makes the figure axes and labels visible in PyCharm Dracula theme\n",
    "plt.figure(figsize=[12, n_experiments*6])\n",
    "\n",
    "for i in range(n_experiments):\n",
    "    plt.subplot(n_experiments, 1, i+1)\n",
    "    plt.hist(corr_replicating_source_plate.loc[i,'Null_Replicating'], label='non-replicates', density=True, bins=20, alpha=0.5)\n",
    "    plt.hist(corr_replicating_source_plate.loc[i,'Replicating'], label='replicates', density=True, bins=20, alpha=0.5)\n",
    "    plt.axvline(corr_replicating_source_plate.loc[i,'Value_95'], label='95% threshold')\n",
    "    plt.legend(fontsize=20)\n",
    "    plt.title(\n",
    "        f\"{corr_replicating_source_plate.loc[i,'Description']}\\n\" +\n",
    "        f\"Percent Replicating = {corr_replicating_source_plate.loc[i,'Percent_Replicating']}\",\n",
    "        fontsize=25\n",
    "    )\n",
    "    plt.ylabel(\"density\", fontsize=25)\n",
    "    plt.xlabel(\"Batch correlation\", fontsize=25)\n",
    "    plt.xticks(fontsize=20)\n",
    "    plt.yticks(fontsize=20)\n",
    "    sns.despine()\n",
    "\n",
    "plt.tight_layout()\n",
    "\n",
    "# plt.savefig(figure_path + str(date.today()) + \"_HepG2_Percent_Replicating.pdf\", \n",
    "#            transparent=False, \n",
    "#            bbox_inches='tight', \n",
    "#            dpi = 600)"
   ]
  },
  {
   "cell_type": "markdown",
   "metadata": {},
   "source": [
    "# Compute induction "
   ]
  },
  {
   "cell_type": "code",
   "execution_count": null,
   "metadata": {},
   "outputs": [],
   "source": [
    "# based on consensus profiles\n",
    "# In the original analysis this is done after removing toxic compounds\n",
    "# per source and plate, plot over imaging time\n",
    "# tally up also\n",
    "\n",
    "# \"Metadata_source\", \n",
    "# \"Metadata_RoughID_unique\",\n",
    "# \"Metadata_plate_name\",\n",
    "# \"Metadata_Well\""
   ]
  },
  {
   "cell_type": "code",
   "execution_count": 53,
   "metadata": {},
   "outputs": [
    {
     "data": {
      "text/plain": [
       "355"
      ]
     },
     "execution_count": 53,
     "metadata": {},
     "output_type": "execute_result"
    }
   ],
   "source": [
    "## gets feature vector\n",
    "Features_median_filtered_source_plate_feature_select = CBE.get_feature_vector(median_filtered_source_plate_feature_select)\n",
    "\n",
    "\n",
    "len(median_filtered_source_plate_feature_select[\"Metadata_RoughID_unique\"].unique())"
   ]
  },
  {
   "cell_type": "code",
   "execution_count": 54,
   "metadata": {},
   "outputs": [],
   "source": [
    "def remove_non_active(df: pd.DataFrame, \n",
    "                      key_col, \n",
    "                      feature_activity_threshold=3.0, \n",
    "                      induction_threshold=5):\n",
    "    \"\"\"\n",
    "    removes compounds via induction threshold\n",
    "    :param df: consensus, feature selected CellProfiler Profiles\n",
    "    :param key_col = [\"Metadata_EOS\", \"Metadata_Plate\", \"Metadata_Concentration\"]\n",
    "    :param feature_activity_threshold: z-score where feature is considered active\n",
    "    :param induction_threshold: % of active features where compound passes threshold\n",
    "    :return: new DataFrame with active compounds, new DataFrame with non active compounds\n",
    "    \"\"\"\n",
    "    # removes key columns\n",
    "    feature_df = df.drop(columns=key_col)\n",
    " \n",
    "    # percent of features equal or higher than activity threshold\n",
    "    induction = (feature_df >= feature_activity_threshold).sum(axis=1) / len(feature_df.columns) * 100\n",
    "\n",
    "    # treatments with induction equal or higher than induction threshold\n",
    "    Data_active = df[(induction >= induction_threshold)]\n",
    "    \n",
    "    # treatments with induction lower than induction threshold\n",
    "    Data_non_active = df[(induction < induction_threshold)]\n",
    "    \n",
    "    return Data_active, Data_non_active"
   ]
  },
  {
   "cell_type": "code",
   "execution_count": 57,
   "metadata": {},
   "outputs": [
    {
     "name": "stdout",
     "output_type": "stream",
     "text": [
      "Active: 13\n",
      "Non-active: 342\n"
     ]
    }
   ],
   "source": [
    "key_col = [\"Metadata_source\", \"Metadata_RoughID_unique\", \"Metadata_plate_name\", \"Metadata_Well\"]\n",
    "\n",
    "active, non_active = remove_non_active(median_filtered_source_plate_feature_select, \n",
    "                                                   key_col,\n",
    "                                                   3.0, \n",
    "                                                   5.0)\n",
    "\n",
    "print(\"Active:\", len(active[\"Metadata_RoughID_unique\"].unique()))\n",
    "print(\"Non-active:\", len(non_active[\"Metadata_RoughID_unique\"].unique()))"
   ]
  },
  {
   "cell_type": "code",
   "execution_count": null,
   "metadata": {},
   "outputs": [],
   "source": [
    "non_active_EOS = pd.DataFrame(non_active[\"Metadata_RoughID_unique\"].unique(), columns = [\"Metadata_RoughID_unique\"])"
   ]
  },
  {
   "cell_type": "code",
   "execution_count": 60,
   "metadata": {},
   "outputs": [],
   "source": [
    "Reduced_active = filtered_source_plate_feature_select[\n",
    "    (filtered_source_plate_feature_select['Metadata_RoughID_unique'].isin(active['Metadata_RoughID_unique']))]"
   ]
  },
  {
   "cell_type": "markdown",
   "metadata": {},
   "source": [
    "# Compute metrics over replicates"
   ]
  },
  {
   "cell_type": "code",
   "execution_count": 61,
   "metadata": {},
   "outputs": [],
   "source": [
    "# % replication over plates per source, per plate, plot over imaging time"
   ]
  },
  {
   "cell_type": "code",
   "execution_count": 63,
   "metadata": {},
   "outputs": [
    {
     "name": "stdout",
     "output_type": "stream",
     "text": [
      "| Description   |   Percent_Replicating |\n",
      "|:--------------|----------------------:|\n",
      "| Data_50       |                  30.8 |\n",
      "Nonreplicating conditions removed with threshold 0.6\n",
      "Old shape (56, 515)\n",
      "New shape (20, 515)\n"
     ]
    },
    {
     "name": "stderr",
     "output_type": "stream",
     "text": [
      "/home/schmiedc/FMP_Docs/Projects/ECBL_Project/QualityControl_analysis/notebooks/CBE_utils.py:391: FutureWarning: The frame.append method is deprecated and will be removed from pandas in a future version. Use pandas.concat instead.\n",
      "  corr_replicating_df = corr_replicating_df.append({'Description': description,\n"
     ]
    }
   ],
   "source": [
    "active_replicating, active_corr_replicating_df = CBE.remove_non_reproducible(\n",
    "    Reduced_active, \n",
    "    n_samples = 1000, \n",
    "    n_replicates = 4, \n",
    "    ID_col = \"Metadata_RoughID_unique\", \n",
    "    description = \"Data_50\")"
   ]
  },
  {
   "cell_type": "code",
   "execution_count": 64,
   "metadata": {},
   "outputs": [
    {
     "data": {
      "image/png": "[encoded data removed]",
      "text/plain": [
       "<Figure size 864x432 with 1 Axes>"
      ]
     },
     "metadata": {},
     "output_type": "display_data"
    }
   ],
   "source": [
    "# plot % replicating\n",
    "corr_replicating_df = active_corr_replicating_df\n",
    "\n",
    "n_experiments = len(corr_replicating_df)\n",
    "\n",
    "\n",
    "plt.rcParams['figure.facecolor'] = 'white' # Enabling this makes the figure axes and labels visible in PyCharm Dracula theme\n",
    "plt.figure(figsize=[12, n_experiments*6])\n",
    "\n",
    "for i in range(n_experiments):\n",
    "    plt.subplot(n_experiments, 1, i+1)\n",
    "    plt.hist(corr_replicating_df.loc[i,'Null_Replicating'], label='non-replicates', density=True, bins=20, alpha=0.5)\n",
    "    plt.hist(corr_replicating_df.loc[i,'Replicating'], label='replicates', density=True, bins=20, alpha=0.5)\n",
    "    plt.axvline(corr_replicating_df.loc[i,'Value_95'], label='95% threshold')\n",
    "    plt.legend(fontsize=20)\n",
    "    plt.title(\n",
    "        f\"{corr_replicating_df.loc[i,'Description']}\\n\" +\n",
    "        f\"Percent Replicating = {corr_replicating_df.loc[i,'Percent_Replicating']}\",\n",
    "        fontsize=25\n",
    "    )\n",
    "    plt.ylabel(\"density\", fontsize=25)\n",
    "    plt.xlabel(\"Batch correlation\", fontsize=25)\n",
    "    plt.xticks(fontsize=20)\n",
    "    plt.yticks(fontsize=20)\n",
    "    sns.despine()\n",
    "plt.tight_layout()\n",
    "\n",
    "# plt.savefig(figure_path + str(date.today()) + \"_HepG2_Percent_Replicating_Induction_Filter.pdf\", \n",
    "            #transparent=False, \n",
    "            #bbox_inches='tight', \n",
    "            #dpi = 600)# "
   ]
  },
  {
   "cell_type": "code",
   "execution_count": null,
   "metadata": {},
   "outputs": [],
   "source": [
    "# Threshold computation does not work with smaller sample size\n",
    "# Compare with bioactives data. Suspect this is the case there too.\n"
   ]
  },
  {
   "cell_type": "code",
   "execution_count": null,
   "metadata": {},
   "outputs": [],
   "source": [
    "# TODO: If all replicates exist:\n",
    "# TODO: Feature reduction per plate\n",
    "# TODO: Compute number of toxic compounds\n",
    "# TODO: Compute raw % replication\n",
    "# TODO: Compute compound activity based on DMSO\n",
    "# TODO: Compute % replication after compound filters"
   ]
  },
  {
   "cell_type": "code",
   "execution_count": null,
   "metadata": {},
   "outputs": [],
   "source": [
    "# TODO: Over entire dataset that has all replicates available"
   ]
  }
 ],
 "metadata": {
  "kernelspec": {
   "display_name": "paint",
   "language": "python",
   "name": "python3"
  },
  "language_info": {
   "codemirror_mode": {
    "name": "ipython",
    "version": 3
   },
   "file_extension": ".py",
   "mimetype": "text/x-python",
   "name": "python",
   "nbconvert_exporter": "python",
   "pygments_lexer": "ipython3",
   "version": "3.9.16"
  }
 },
 "nbformat": 4,
 "nbformat_minor": 2
}
