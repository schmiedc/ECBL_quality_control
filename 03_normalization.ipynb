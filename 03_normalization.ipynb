{
 "cells": [
  {
   "cell_type": "code",
   "execution_count": 1,
   "id": "1ca90cd2",
   "metadata": {},
   "outputs": [],
   "source": [
    "import time\n",
    "from datetime import date\n",
    "import pandas as pd\n",
    "import os\n",
    "import glob\n",
    "import pycytominer\n",
    "import sys\n",
    "import CBE_utils as CBE\n",
    "import matplotlib.pyplot as plt\n",
    "import seaborn as sns\n",
    "import numpy as np\n",
    "from scipy.spatial.distance import correlation\n",
    "import re\n",
    "import gc"
   ]
  },
  {
   "cell_type": "code",
   "execution_count": 2,
   "id": "5f25cf94",
   "metadata": {},
   "outputs": [
    {
     "data": {
      "text/plain": [
       "<module 'CBE_utils' from '/home/schmiedc/FMP_Docs/Projects/ECBL_Project/QualityControl_analysis/notebooks/CBE_utils.py'>"
      ]
     },
     "execution_count": 2,
     "metadata": {},
     "output_type": "execute_result"
    }
   ],
   "source": [
    "import importlib\n",
    "importlib.reload(CBE)"
   ]
  },
  {
   "cell_type": "code",
   "execution_count": 3,
   "id": "5f3d6412",
   "metadata": {},
   "outputs": [],
   "source": [
    "input_path = \"/home/schmiedc/FMP_Docs/Projects/ECBL_Project/QualityControl_analysis/new_output_files/\"\n",
    "output_path = \"/home/schmiedc/FMP_Docs/Projects/ECBL_Project/QualityControl_analysis/new_result_files/\"\n",
    "\n",
    "annotation_dir = \"/home/schmiedc/FMP_Docs/Projects/ECBL_Project/QualityControl_analysis/annotation_files/\""
   ]
  },
  {
   "cell_type": "code",
   "execution_count": 4,
   "id": "91169aae",
   "metadata": {},
   "outputs": [],
   "source": [
    "pattern = \"[A-Z][0-9][0-9][0-9][0-9]_R[1-4].csv\"\n",
    "file_list = glob.glob(input_path + os.sep + '*' + os.sep + os.sep + '*' + os.sep + pattern, recursive=True)"
   ]
  },
  {
   "cell_type": "code",
   "execution_count": 5,
   "id": "466d5fd6",
   "metadata": {},
   "outputs": [
    {
     "name": "stdout",
     "output_type": "stream",
     "text": [
      "INFO: C1231_R1 has 384 rows\n",
      "INFO: C1231_R1 has 2977 features\n"
     ]
    },
    {
     "name": "stderr",
     "output_type": "stream",
     "text": [
      "/home/schmiedc/miniconda3/envs/paint/lib/python3.9/site-packages/pycytominer/normalize.py:151: FutureWarning: Passing a set as an indexer is deprecated and will raise in a future version. Use a list instead.\n",
      "  meta_df = profiles.loc[:, meta_features]\n"
     ]
    },
    {
     "name": "stdout",
     "output_type": "stream",
     "text": [
      "INFO: Normalized with mad_robustize\n",
      "INFO: Saved C1231_R1_mad_robustize.csv\n",
      "INFO: C1241_R1 has 384 rows\n",
      "INFO: C1241_R1 has 2977 features\n"
     ]
    },
    {
     "name": "stderr",
     "output_type": "stream",
     "text": [
      "/home/schmiedc/miniconda3/envs/paint/lib/python3.9/site-packages/pycytominer/normalize.py:151: FutureWarning: Passing a set as an indexer is deprecated and will raise in a future version. Use a list instead.\n",
      "  meta_df = profiles.loc[:, meta_features]\n"
     ]
    },
    {
     "name": "stdout",
     "output_type": "stream",
     "text": [
      "INFO: Normalized with mad_robustize\n",
      "INFO: Saved C1241_R1_mad_robustize.csv\n",
      "INFO: C1230_R3 has 384 rows\n",
      "INFO: C1230_R3 has 2977 features\n"
     ]
    },
    {
     "name": "stderr",
     "output_type": "stream",
     "text": [
      "/home/schmiedc/miniconda3/envs/paint/lib/python3.9/site-packages/pycytominer/normalize.py:151: FutureWarning: Passing a set as an indexer is deprecated and will raise in a future version. Use a list instead.\n",
      "  meta_df = profiles.loc[:, meta_features]\n"
     ]
    },
    {
     "name": "stdout",
     "output_type": "stream",
     "text": [
      "INFO: Normalized with mad_robustize\n",
      "INFO: Saved C1230_R3_mad_robustize.csv\n",
      "INFO: C1230_R4 has 384 rows\n",
      "INFO: C1230_R4 has 2977 features\n"
     ]
    },
    {
     "name": "stderr",
     "output_type": "stream",
     "text": [
      "/home/schmiedc/miniconda3/envs/paint/lib/python3.9/site-packages/pycytominer/normalize.py:151: FutureWarning: Passing a set as an indexer is deprecated and will raise in a future version. Use a list instead.\n",
      "  meta_df = profiles.loc[:, meta_features]\n"
     ]
    },
    {
     "name": "stdout",
     "output_type": "stream",
     "text": [
      "INFO: Normalized with mad_robustize\n",
      "INFO: Saved C1230_R4_mad_robustize.csv\n",
      "INFO: C1231_R4 has 384 rows\n",
      "INFO: C1231_R4 has 2977 features\n",
      "INFO: Normalized with mad_robustize\n"
     ]
    },
    {
     "name": "stderr",
     "output_type": "stream",
     "text": [
      "/home/schmiedc/miniconda3/envs/paint/lib/python3.9/site-packages/pycytominer/normalize.py:151: FutureWarning: Passing a set as an indexer is deprecated and will raise in a future version. Use a list instead.\n",
      "  meta_df = profiles.loc[:, meta_features]\n"
     ]
    },
    {
     "name": "stdout",
     "output_type": "stream",
     "text": [
      "INFO: Saved C1231_R4_mad_robustize.csv\n",
      "INFO: C1241_R2 has 384 rows\n",
      "INFO: C1241_R2 has 2977 features\n",
      "INFO: Normalized with mad_robustize\n"
     ]
    },
    {
     "name": "stderr",
     "output_type": "stream",
     "text": [
      "/home/schmiedc/miniconda3/envs/paint/lib/python3.9/site-packages/pycytominer/normalize.py:151: FutureWarning: Passing a set as an indexer is deprecated and will raise in a future version. Use a list instead.\n",
      "  meta_df = profiles.loc[:, meta_features]\n"
     ]
    },
    {
     "name": "stdout",
     "output_type": "stream",
     "text": [
      "INFO: Saved C1241_R2_mad_robustize.csv\n",
      "INFO: C1230_R2 has 384 rows\n",
      "INFO: C1230_R2 has 2977 features\n"
     ]
    },
    {
     "name": "stderr",
     "output_type": "stream",
     "text": [
      "/home/schmiedc/miniconda3/envs/paint/lib/python3.9/site-packages/pycytominer/normalize.py:151: FutureWarning: Passing a set as an indexer is deprecated and will raise in a future version. Use a list instead.\n",
      "  meta_df = profiles.loc[:, meta_features]\n"
     ]
    },
    {
     "name": "stdout",
     "output_type": "stream",
     "text": [
      "INFO: Normalized with mad_robustize\n",
      "INFO: Saved C1230_R2_mad_robustize.csv\n",
      "INFO: C1231_R2 has 384 rows\n",
      "INFO: C1231_R2 has 2977 features\n",
      "INFO: Normalized with mad_robustize\n"
     ]
    },
    {
     "name": "stderr",
     "output_type": "stream",
     "text": [
      "/home/schmiedc/miniconda3/envs/paint/lib/python3.9/site-packages/pycytominer/normalize.py:151: FutureWarning: Passing a set as an indexer is deprecated and will raise in a future version. Use a list instead.\n",
      "  meta_df = profiles.loc[:, meta_features]\n"
     ]
    },
    {
     "name": "stdout",
     "output_type": "stream",
     "text": [
      "INFO: Saved C1231_R2_mad_robustize.csv\n",
      "INFO: C1241_R3 has 384 rows\n",
      "INFO: C1241_R3 has 2977 features\n"
     ]
    },
    {
     "name": "stderr",
     "output_type": "stream",
     "text": [
      "/home/schmiedc/miniconda3/envs/paint/lib/python3.9/site-packages/pycytominer/normalize.py:151: FutureWarning: Passing a set as an indexer is deprecated and will raise in a future version. Use a list instead.\n",
      "  meta_df = profiles.loc[:, meta_features]\n"
     ]
    },
    {
     "name": "stdout",
     "output_type": "stream",
     "text": [
      "INFO: Normalized with mad_robustize\n",
      "INFO: Saved C1241_R3_mad_robustize.csv\n",
      "INFO: C1230_R1 has 384 rows\n",
      "INFO: C1230_R1 has 2977 features\n"
     ]
    },
    {
     "name": "stderr",
     "output_type": "stream",
     "text": [
      "/home/schmiedc/miniconda3/envs/paint/lib/python3.9/site-packages/pycytominer/normalize.py:151: FutureWarning: Passing a set as an indexer is deprecated and will raise in a future version. Use a list instead.\n",
      "  meta_df = profiles.loc[:, meta_features]\n"
     ]
    },
    {
     "name": "stdout",
     "output_type": "stream",
     "text": [
      "INFO: Normalized with mad_robustize\n",
      "INFO: Saved C1230_R1_mad_robustize.csv\n",
      "INFO: C1231_R3 has 384 rows\n",
      "INFO: C1231_R3 has 2977 features\n"
     ]
    },
    {
     "name": "stderr",
     "output_type": "stream",
     "text": [
      "/home/schmiedc/miniconda3/envs/paint/lib/python3.9/site-packages/pycytominer/normalize.py:151: FutureWarning: Passing a set as an indexer is deprecated and will raise in a future version. Use a list instead.\n",
      "  meta_df = profiles.loc[:, meta_features]\n"
     ]
    },
    {
     "name": "stdout",
     "output_type": "stream",
     "text": [
      "INFO: Normalized with mad_robustize\n",
      "INFO: Saved C1231_R3_mad_robustize.csv\n",
      "INFO: C1236_R4 has 384 rows\n",
      "INFO: C1236_R4 has 2977 features\n",
      "INFO: Normalized with mad_robustize\n"
     ]
    },
    {
     "name": "stderr",
     "output_type": "stream",
     "text": [
      "/home/schmiedc/miniconda3/envs/paint/lib/python3.9/site-packages/pycytominer/normalize.py:151: FutureWarning: Passing a set as an indexer is deprecated and will raise in a future version. Use a list instead.\n",
      "  meta_df = profiles.loc[:, meta_features]\n"
     ]
    },
    {
     "name": "stdout",
     "output_type": "stream",
     "text": [
      "INFO: Saved C1236_R4_mad_robustize.csv\n",
      "INFO: C1237_R4 has 384 rows\n",
      "INFO: C1237_R4 has 2977 features\n"
     ]
    },
    {
     "name": "stderr",
     "output_type": "stream",
     "text": [
      "/home/schmiedc/miniconda3/envs/paint/lib/python3.9/site-packages/pycytominer/normalize.py:151: FutureWarning: Passing a set as an indexer is deprecated and will raise in a future version. Use a list instead.\n",
      "  meta_df = profiles.loc[:, meta_features]\n"
     ]
    },
    {
     "name": "stdout",
     "output_type": "stream",
     "text": [
      "INFO: Normalized with mad_robustize\n",
      "INFO: Saved C1237_R4_mad_robustize.csv\n",
      "INFO: C1184_R1 has 384 rows\n",
      "INFO: C1184_R1 has 2977 features\n",
      "INFO: Normalized with mad_robustize\n"
     ]
    },
    {
     "name": "stderr",
     "output_type": "stream",
     "text": [
      "/home/schmiedc/miniconda3/envs/paint/lib/python3.9/site-packages/pycytominer/normalize.py:151: FutureWarning: Passing a set as an indexer is deprecated and will raise in a future version. Use a list instead.\n",
      "  meta_df = profiles.loc[:, meta_features]\n"
     ]
    },
    {
     "name": "stdout",
     "output_type": "stream",
     "text": [
      "INFO: Saved C1184_R1_mad_robustize.csv\n",
      "INFO: C1166_R2 has 384 rows\n",
      "INFO: C1166_R2 has 2977 features\n"
     ]
    },
    {
     "name": "stderr",
     "output_type": "stream",
     "text": [
      "/home/schmiedc/miniconda3/envs/paint/lib/python3.9/site-packages/pycytominer/normalize.py:151: FutureWarning: Passing a set as an indexer is deprecated and will raise in a future version. Use a list instead.\n",
      "  meta_df = profiles.loc[:, meta_features]\n"
     ]
    },
    {
     "name": "stdout",
     "output_type": "stream",
     "text": [
      "INFO: Normalized with mad_robustize\n",
      "INFO: Saved C1166_R2_mad_robustize.csv\n",
      "INFO: C1162_R4 has 384 rows\n",
      "INFO: C1162_R4 has 2977 features\n",
      "INFO: Normalized with mad_robustize\n"
     ]
    },
    {
     "name": "stderr",
     "output_type": "stream",
     "text": [
      "/home/schmiedc/miniconda3/envs/paint/lib/python3.9/site-packages/pycytominer/normalize.py:151: FutureWarning: Passing a set as an indexer is deprecated and will raise in a future version. Use a list instead.\n",
      "  meta_df = profiles.loc[:, meta_features]\n"
     ]
    },
    {
     "name": "stdout",
     "output_type": "stream",
     "text": [
      "INFO: Saved C1162_R4_mad_robustize.csv\n",
      "INFO: C1175_R1 has 384 rows\n",
      "INFO: C1175_R1 has 2977 features\n"
     ]
    },
    {
     "name": "stderr",
     "output_type": "stream",
     "text": [
      "/home/schmiedc/miniconda3/envs/paint/lib/python3.9/site-packages/pycytominer/normalize.py:151: FutureWarning: Passing a set as an indexer is deprecated and will raise in a future version. Use a list instead.\n",
      "  meta_df = profiles.loc[:, meta_features]\n"
     ]
    },
    {
     "name": "stdout",
     "output_type": "stream",
     "text": [
      "INFO: Normalized with mad_robustize\n",
      "INFO: Saved C1175_R1_mad_robustize.csv\n",
      "INFO: C1160_R2 has 384 rows\n",
      "INFO: C1160_R2 has 2977 features\n"
     ]
    },
    {
     "name": "stderr",
     "output_type": "stream",
     "text": [
      "/home/schmiedc/miniconda3/envs/paint/lib/python3.9/site-packages/pycytominer/normalize.py:151: FutureWarning: Passing a set as an indexer is deprecated and will raise in a future version. Use a list instead.\n",
      "  meta_df = profiles.loc[:, meta_features]\n"
     ]
    },
    {
     "name": "stdout",
     "output_type": "stream",
     "text": [
      "INFO: Normalized with mad_robustize\n",
      "INFO: Saved C1160_R2_mad_robustize.csv\n",
      "INFO: C1160_R3 has 384 rows\n",
      "INFO: C1160_R3 has 2977 features\n",
      "INFO: Normalized with mad_robustize\n"
     ]
    },
    {
     "name": "stderr",
     "output_type": "stream",
     "text": [
      "/home/schmiedc/miniconda3/envs/paint/lib/python3.9/site-packages/pycytominer/normalize.py:151: FutureWarning: Passing a set as an indexer is deprecated and will raise in a future version. Use a list instead.\n",
      "  meta_df = profiles.loc[:, meta_features]\n"
     ]
    },
    {
     "name": "stdout",
     "output_type": "stream",
     "text": [
      "INFO: Saved C1160_R3_mad_robustize.csv\n",
      "INFO: C1165_R2 has 384 rows\n",
      "INFO: C1165_R2 has 2977 features\n"
     ]
    },
    {
     "name": "stderr",
     "output_type": "stream",
     "text": [
      "/home/schmiedc/miniconda3/envs/paint/lib/python3.9/site-packages/pycytominer/normalize.py:151: FutureWarning: Passing a set as an indexer is deprecated and will raise in a future version. Use a list instead.\n",
      "  meta_df = profiles.loc[:, meta_features]\n"
     ]
    },
    {
     "name": "stdout",
     "output_type": "stream",
     "text": [
      "INFO: Normalized with mad_robustize\n",
      "INFO: Saved C1165_R2_mad_robustize.csv\n",
      "INFO: C1171_R2 has 384 rows\n",
      "INFO: C1171_R2 has 2977 features\n",
      "INFO: Normalized with mad_robustize\n"
     ]
    },
    {
     "name": "stderr",
     "output_type": "stream",
     "text": [
      "/home/schmiedc/miniconda3/envs/paint/lib/python3.9/site-packages/pycytominer/normalize.py:151: FutureWarning: Passing a set as an indexer is deprecated and will raise in a future version. Use a list instead.\n",
      "  meta_df = profiles.loc[:, meta_features]\n"
     ]
    },
    {
     "name": "stdout",
     "output_type": "stream",
     "text": [
      "INFO: Saved C1171_R2_mad_robustize.csv\n",
      "INFO: C1188_R1 has 384 rows\n",
      "INFO: C1188_R1 has 2977 features\n"
     ]
    },
    {
     "name": "stderr",
     "output_type": "stream",
     "text": [
      "/home/schmiedc/miniconda3/envs/paint/lib/python3.9/site-packages/pycytominer/normalize.py:151: FutureWarning: Passing a set as an indexer is deprecated and will raise in a future version. Use a list instead.\n",
      "  meta_df = profiles.loc[:, meta_features]\n"
     ]
    },
    {
     "name": "stdout",
     "output_type": "stream",
     "text": [
      "INFO: Normalized with mad_robustize\n",
      "INFO: Saved C1188_R1_mad_robustize.csv\n",
      "INFO: C1176_R1 has 384 rows\n",
      "INFO: C1176_R1 has 2977 features\n",
      "INFO: Normalized with mad_robustize\n"
     ]
    },
    {
     "name": "stderr",
     "output_type": "stream",
     "text": [
      "/home/schmiedc/miniconda3/envs/paint/lib/python3.9/site-packages/pycytominer/normalize.py:151: FutureWarning: Passing a set as an indexer is deprecated and will raise in a future version. Use a list instead.\n",
      "  meta_df = profiles.loc[:, meta_features]\n"
     ]
    },
    {
     "name": "stdout",
     "output_type": "stream",
     "text": [
      "INFO: Saved C1176_R1_mad_robustize.csv\n",
      "INFO: C1183_R1 has 384 rows\n",
      "INFO: C1183_R1 has 2977 features\n"
     ]
    },
    {
     "name": "stderr",
     "output_type": "stream",
     "text": [
      "/home/schmiedc/miniconda3/envs/paint/lib/python3.9/site-packages/pycytominer/normalize.py:151: FutureWarning: Passing a set as an indexer is deprecated and will raise in a future version. Use a list instead.\n",
      "  meta_df = profiles.loc[:, meta_features]\n"
     ]
    },
    {
     "name": "stdout",
     "output_type": "stream",
     "text": [
      "INFO: Normalized with mad_robustize\n",
      "INFO: Saved C1183_R1_mad_robustize.csv\n",
      "INFO: C1189_R1 has 384 rows\n",
      "INFO: C1189_R1 has 2977 features\n"
     ]
    },
    {
     "name": "stderr",
     "output_type": "stream",
     "text": [
      "/home/schmiedc/miniconda3/envs/paint/lib/python3.9/site-packages/pycytominer/normalize.py:151: FutureWarning: Passing a set as an indexer is deprecated and will raise in a future version. Use a list instead.\n",
      "  meta_df = profiles.loc[:, meta_features]\n"
     ]
    },
    {
     "name": "stdout",
     "output_type": "stream",
     "text": [
      "INFO: Normalized with mad_robustize\n",
      "INFO: Saved C1189_R1_mad_robustize.csv\n",
      "INFO: C1192_R1 has 384 rows\n",
      "INFO: C1192_R1 has 2977 features\n"
     ]
    },
    {
     "name": "stderr",
     "output_type": "stream",
     "text": [
      "/home/schmiedc/miniconda3/envs/paint/lib/python3.9/site-packages/pycytominer/normalize.py:151: FutureWarning: Passing a set as an indexer is deprecated and will raise in a future version. Use a list instead.\n",
      "  meta_df = profiles.loc[:, meta_features]\n"
     ]
    },
    {
     "name": "stdout",
     "output_type": "stream",
     "text": [
      "INFO: Normalized with mad_robustize\n",
      "INFO: Saved C1192_R1_mad_robustize.csv\n",
      "INFO: C1167_R1 has 384 rows\n",
      "INFO: C1167_R1 has 2977 features\n",
      "INFO: Normalized with mad_robustize\n"
     ]
    },
    {
     "name": "stderr",
     "output_type": "stream",
     "text": [
      "/home/schmiedc/miniconda3/envs/paint/lib/python3.9/site-packages/pycytominer/normalize.py:151: FutureWarning: Passing a set as an indexer is deprecated and will raise in a future version. Use a list instead.\n",
      "  meta_df = profiles.loc[:, meta_features]\n"
     ]
    },
    {
     "name": "stdout",
     "output_type": "stream",
     "text": [
      "INFO: Saved C1167_R1_mad_robustize.csv\n",
      "INFO: C1166_R1 has 384 rows\n",
      "INFO: C1166_R1 has 2977 features\n"
     ]
    },
    {
     "name": "stderr",
     "output_type": "stream",
     "text": [
      "/home/schmiedc/miniconda3/envs/paint/lib/python3.9/site-packages/pycytominer/normalize.py:151: FutureWarning: Passing a set as an indexer is deprecated and will raise in a future version. Use a list instead.\n",
      "  meta_df = profiles.loc[:, meta_features]\n"
     ]
    },
    {
     "name": "stdout",
     "output_type": "stream",
     "text": [
      "INFO: Normalized with mad_robustize\n",
      "INFO: Saved C1166_R1_mad_robustize.csv\n",
      "INFO: C1158_R4 has 384 rows\n",
      "INFO: C1158_R4 has 2977 features\n"
     ]
    },
    {
     "name": "stderr",
     "output_type": "stream",
     "text": [
      "/home/schmiedc/miniconda3/envs/paint/lib/python3.9/site-packages/pycytominer/normalize.py:151: FutureWarning: Passing a set as an indexer is deprecated and will raise in a future version. Use a list instead.\n",
      "  meta_df = profiles.loc[:, meta_features]\n"
     ]
    },
    {
     "name": "stdout",
     "output_type": "stream",
     "text": [
      "INFO: Normalized with mad_robustize\n",
      "INFO: Saved C1158_R4_mad_robustize.csv\n",
      "INFO: C1158_R2 has 384 rows\n",
      "INFO: C1158_R2 has 2977 features\n",
      "INFO: Normalized with mad_robustize\n"
     ]
    },
    {
     "name": "stderr",
     "output_type": "stream",
     "text": [
      "/home/schmiedc/miniconda3/envs/paint/lib/python3.9/site-packages/pycytominer/normalize.py:151: FutureWarning: Passing a set as an indexer is deprecated and will raise in a future version. Use a list instead.\n",
      "  meta_df = profiles.loc[:, meta_features]\n"
     ]
    },
    {
     "name": "stdout",
     "output_type": "stream",
     "text": [
      "INFO: Saved C1158_R2_mad_robustize.csv\n",
      "INFO: C1191_R1 has 384 rows\n",
      "INFO: C1191_R1 has 2977 features\n"
     ]
    },
    {
     "name": "stderr",
     "output_type": "stream",
     "text": [
      "/home/schmiedc/miniconda3/envs/paint/lib/python3.9/site-packages/pycytominer/normalize.py:151: FutureWarning: Passing a set as an indexer is deprecated and will raise in a future version. Use a list instead.\n",
      "  meta_df = profiles.loc[:, meta_features]\n"
     ]
    },
    {
     "name": "stdout",
     "output_type": "stream",
     "text": [
      "INFO: Normalized with mad_robustize\n",
      "INFO: Saved C1191_R1_mad_robustize.csv\n",
      "INFO: C1170_R1 has 384 rows\n",
      "INFO: C1170_R1 has 2977 features\n",
      "INFO: Normalized with mad_robustize\n"
     ]
    },
    {
     "name": "stderr",
     "output_type": "stream",
     "text": [
      "/home/schmiedc/miniconda3/envs/paint/lib/python3.9/site-packages/pycytominer/normalize.py:151: FutureWarning: Passing a set as an indexer is deprecated and will raise in a future version. Use a list instead.\n",
      "  meta_df = profiles.loc[:, meta_features]\n"
     ]
    },
    {
     "name": "stdout",
     "output_type": "stream",
     "text": [
      "INFO: Saved C1170_R1_mad_robustize.csv\n",
      "INFO: C1157_R4 has 384 rows\n",
      "INFO: C1157_R4 has 2977 features\n"
     ]
    },
    {
     "name": "stderr",
     "output_type": "stream",
     "text": [
      "/home/schmiedc/miniconda3/envs/paint/lib/python3.9/site-packages/pycytominer/normalize.py:151: FutureWarning: Passing a set as an indexer is deprecated and will raise in a future version. Use a list instead.\n",
      "  meta_df = profiles.loc[:, meta_features]\n"
     ]
    },
    {
     "name": "stdout",
     "output_type": "stream",
     "text": [
      "INFO: Normalized with mad_robustize\n",
      "INFO: Saved C1157_R4_mad_robustize.csv\n",
      "INFO: C1187_R1 has 384 rows\n",
      "INFO: C1187_R1 has 2977 features\n",
      "INFO: Normalized with mad_robustize\n"
     ]
    },
    {
     "name": "stderr",
     "output_type": "stream",
     "text": [
      "/home/schmiedc/miniconda3/envs/paint/lib/python3.9/site-packages/pycytominer/normalize.py:151: FutureWarning: Passing a set as an indexer is deprecated and will raise in a future version. Use a list instead.\n",
      "  meta_df = profiles.loc[:, meta_features]\n"
     ]
    },
    {
     "name": "stdout",
     "output_type": "stream",
     "text": [
      "INFO: Saved C1187_R1_mad_robustize.csv\n",
      "INFO: C1162_R2 has 384 rows\n",
      "INFO: C1162_R2 has 2977 features\n"
     ]
    },
    {
     "name": "stderr",
     "output_type": "stream",
     "text": [
      "/home/schmiedc/miniconda3/envs/paint/lib/python3.9/site-packages/pycytominer/normalize.py:151: FutureWarning: Passing a set as an indexer is deprecated and will raise in a future version. Use a list instead.\n",
      "  meta_df = profiles.loc[:, meta_features]\n"
     ]
    },
    {
     "name": "stdout",
     "output_type": "stream",
     "text": [
      "INFO: Normalized with mad_robustize\n",
      "INFO: Saved C1162_R2_mad_robustize.csv\n",
      "INFO: C1162_R1 has 384 rows\n",
      "INFO: C1162_R1 has 2977 features\n",
      "INFO: Normalized with mad_robustize\n"
     ]
    },
    {
     "name": "stderr",
     "output_type": "stream",
     "text": [
      "/home/schmiedc/miniconda3/envs/paint/lib/python3.9/site-packages/pycytominer/normalize.py:151: FutureWarning: Passing a set as an indexer is deprecated and will raise in a future version. Use a list instead.\n",
      "  meta_df = profiles.loc[:, meta_features]\n"
     ]
    },
    {
     "name": "stdout",
     "output_type": "stream",
     "text": [
      "INFO: Saved C1162_R1_mad_robustize.csv\n",
      "INFO: C1185_R1 has 384 rows\n",
      "INFO: C1185_R1 has 2977 features\n",
      "INFO: Normalized with mad_robustize\n"
     ]
    },
    {
     "name": "stderr",
     "output_type": "stream",
     "text": [
      "/home/schmiedc/miniconda3/envs/paint/lib/python3.9/site-packages/pycytominer/normalize.py:151: FutureWarning: Passing a set as an indexer is deprecated and will raise in a future version. Use a list instead.\n",
      "  meta_df = profiles.loc[:, meta_features]\n"
     ]
    },
    {
     "name": "stdout",
     "output_type": "stream",
     "text": [
      "INFO: Saved C1185_R1_mad_robustize.csv\n",
      "INFO: C1162_R3 has 384 rows\n",
      "INFO: C1162_R3 has 2977 features\n"
     ]
    },
    {
     "name": "stderr",
     "output_type": "stream",
     "text": [
      "/home/schmiedc/miniconda3/envs/paint/lib/python3.9/site-packages/pycytominer/normalize.py:151: FutureWarning: Passing a set as an indexer is deprecated and will raise in a future version. Use a list instead.\n",
      "  meta_df = profiles.loc[:, meta_features]\n"
     ]
    },
    {
     "name": "stdout",
     "output_type": "stream",
     "text": [
      "INFO: Normalized with mad_robustize\n",
      "INFO: Saved C1162_R3_mad_robustize.csv\n",
      "INFO: C1169_R1 has 384 rows\n",
      "INFO: C1169_R1 has 2977 features\n",
      "INFO: Normalized with mad_robustize\n"
     ]
    },
    {
     "name": "stderr",
     "output_type": "stream",
     "text": [
      "/home/schmiedc/miniconda3/envs/paint/lib/python3.9/site-packages/pycytominer/normalize.py:151: FutureWarning: Passing a set as an indexer is deprecated and will raise in a future version. Use a list instead.\n",
      "  meta_df = profiles.loc[:, meta_features]\n"
     ]
    },
    {
     "name": "stdout",
     "output_type": "stream",
     "text": [
      "INFO: Saved C1169_R1_mad_robustize.csv\n",
      "INFO: C1179_R1 has 384 rows\n",
      "INFO: C1179_R1 has 2977 features\n",
      "INFO: Normalized with mad_robustize\n"
     ]
    },
    {
     "name": "stderr",
     "output_type": "stream",
     "text": [
      "/home/schmiedc/miniconda3/envs/paint/lib/python3.9/site-packages/pycytominer/normalize.py:151: FutureWarning: Passing a set as an indexer is deprecated and will raise in a future version. Use a list instead.\n",
      "  meta_df = profiles.loc[:, meta_features]\n"
     ]
    },
    {
     "name": "stdout",
     "output_type": "stream",
     "text": [
      "INFO: Saved C1179_R1_mad_robustize.csv\n",
      "INFO: C1173_R2 has 384 rows\n",
      "INFO: C1173_R2 has 2977 features\n",
      "INFO: Normalized with mad_robustize\n"
     ]
    },
    {
     "name": "stderr",
     "output_type": "stream",
     "text": [
      "/home/schmiedc/miniconda3/envs/paint/lib/python3.9/site-packages/pycytominer/normalize.py:151: FutureWarning: Passing a set as an indexer is deprecated and will raise in a future version. Use a list instead.\n",
      "  meta_df = profiles.loc[:, meta_features]\n"
     ]
    },
    {
     "name": "stdout",
     "output_type": "stream",
     "text": [
      "INFO: Saved C1173_R2_mad_robustize.csv\n",
      "INFO: C1172_R2 has 383 rows\n",
      "INFO: C1172_R2 has 2977 features\n"
     ]
    },
    {
     "name": "stderr",
     "output_type": "stream",
     "text": [
      "/home/schmiedc/miniconda3/envs/paint/lib/python3.9/site-packages/pycytominer/normalize.py:151: FutureWarning: Passing a set as an indexer is deprecated and will raise in a future version. Use a list instead.\n",
      "  meta_df = profiles.loc[:, meta_features]\n"
     ]
    },
    {
     "name": "stdout",
     "output_type": "stream",
     "text": [
      "INFO: Normalized with mad_robustize\n",
      "INFO: Saved C1172_R2_mad_robustize.csv\n",
      "INFO: C1171_R1 has 384 rows\n",
      "INFO: C1171_R1 has 2977 features\n",
      "INFO: Normalized with mad_robustize\n"
     ]
    },
    {
     "name": "stderr",
     "output_type": "stream",
     "text": [
      "/home/schmiedc/miniconda3/envs/paint/lib/python3.9/site-packages/pycytominer/normalize.py:151: FutureWarning: Passing a set as an indexer is deprecated and will raise in a future version. Use a list instead.\n",
      "  meta_df = profiles.loc[:, meta_features]\n"
     ]
    },
    {
     "name": "stdout",
     "output_type": "stream",
     "text": [
      "INFO: Saved C1171_R1_mad_robustize.csv\n",
      "INFO: C1159_R2 has 384 rows\n",
      "INFO: C1159_R2 has 2977 features\n"
     ]
    },
    {
     "name": "stderr",
     "output_type": "stream",
     "text": [
      "/home/schmiedc/miniconda3/envs/paint/lib/python3.9/site-packages/pycytominer/normalize.py:151: FutureWarning: Passing a set as an indexer is deprecated and will raise in a future version. Use a list instead.\n",
      "  meta_df = profiles.loc[:, meta_features]\n"
     ]
    },
    {
     "name": "stdout",
     "output_type": "stream",
     "text": [
      "INFO: Normalized with mad_robustize\n",
      "INFO: Saved C1159_R2_mad_robustize.csv\n",
      "INFO: C1160_R1 has 384 rows\n",
      "INFO: C1160_R1 has 2977 features\n",
      "INFO: Normalized with mad_robustize\n"
     ]
    },
    {
     "name": "stderr",
     "output_type": "stream",
     "text": [
      "/home/schmiedc/miniconda3/envs/paint/lib/python3.9/site-packages/pycytominer/normalize.py:151: FutureWarning: Passing a set as an indexer is deprecated and will raise in a future version. Use a list instead.\n",
      "  meta_df = profiles.loc[:, meta_features]\n"
     ]
    },
    {
     "name": "stdout",
     "output_type": "stream",
     "text": [
      "INFO: Saved C1160_R1_mad_robustize.csv\n",
      "INFO: C1157_R3 has 384 rows\n",
      "INFO: C1157_R3 has 2977 features\n"
     ]
    },
    {
     "name": "stderr",
     "output_type": "stream",
     "text": [
      "/home/schmiedc/miniconda3/envs/paint/lib/python3.9/site-packages/pycytominer/normalize.py:151: FutureWarning: Passing a set as an indexer is deprecated and will raise in a future version. Use a list instead.\n",
      "  meta_df = profiles.loc[:, meta_features]\n"
     ]
    },
    {
     "name": "stdout",
     "output_type": "stream",
     "text": [
      "INFO: Normalized with mad_robustize\n",
      "INFO: Saved C1157_R3_mad_robustize.csv\n",
      "INFO: C1180_R1 has 384 rows\n",
      "INFO: C1180_R1 has 2977 features\n",
      "INFO: Normalized with mad_robustize\n"
     ]
    },
    {
     "name": "stderr",
     "output_type": "stream",
     "text": [
      "/home/schmiedc/miniconda3/envs/paint/lib/python3.9/site-packages/pycytominer/normalize.py:151: FutureWarning: Passing a set as an indexer is deprecated and will raise in a future version. Use a list instead.\n",
      "  meta_df = profiles.loc[:, meta_features]\n"
     ]
    },
    {
     "name": "stdout",
     "output_type": "stream",
     "text": [
      "INFO: Saved C1180_R1_mad_robustize.csv\n",
      "INFO: C1186_R1 has 384 rows\n",
      "INFO: C1186_R1 has 2977 features\n"
     ]
    },
    {
     "name": "stderr",
     "output_type": "stream",
     "text": [
      "/home/schmiedc/miniconda3/envs/paint/lib/python3.9/site-packages/pycytominer/normalize.py:151: FutureWarning: Passing a set as an indexer is deprecated and will raise in a future version. Use a list instead.\n",
      "  meta_df = profiles.loc[:, meta_features]\n"
     ]
    },
    {
     "name": "stdout",
     "output_type": "stream",
     "text": [
      "INFO: Normalized with mad_robustize\n",
      "INFO: Saved C1186_R1_mad_robustize.csv\n",
      "INFO: C1172_R1 has 384 rows\n",
      "INFO: C1172_R1 has 2977 features\n",
      "INFO: Normalized with mad_robustize\n"
     ]
    },
    {
     "name": "stderr",
     "output_type": "stream",
     "text": [
      "/home/schmiedc/miniconda3/envs/paint/lib/python3.9/site-packages/pycytominer/normalize.py:151: FutureWarning: Passing a set as an indexer is deprecated and will raise in a future version. Use a list instead.\n",
      "  meta_df = profiles.loc[:, meta_features]\n"
     ]
    },
    {
     "name": "stdout",
     "output_type": "stream",
     "text": [
      "INFO: Saved C1172_R1_mad_robustize.csv\n",
      "INFO: C1178_R1 has 384 rows\n",
      "INFO: C1178_R1 has 2977 features\n",
      "INFO: Normalized with mad_robustize\n"
     ]
    },
    {
     "name": "stderr",
     "output_type": "stream",
     "text": [
      "/home/schmiedc/miniconda3/envs/paint/lib/python3.9/site-packages/pycytominer/normalize.py:151: FutureWarning: Passing a set as an indexer is deprecated and will raise in a future version. Use a list instead.\n",
      "  meta_df = profiles.loc[:, meta_features]\n"
     ]
    },
    {
     "name": "stdout",
     "output_type": "stream",
     "text": [
      "INFO: Saved C1178_R1_mad_robustize.csv\n",
      "INFO: C1181_R1 has 384 rows\n",
      "INFO: C1181_R1 has 2977 features\n"
     ]
    },
    {
     "name": "stderr",
     "output_type": "stream",
     "text": [
      "/home/schmiedc/miniconda3/envs/paint/lib/python3.9/site-packages/pycytominer/normalize.py:151: FutureWarning: Passing a set as an indexer is deprecated and will raise in a future version. Use a list instead.\n",
      "  meta_df = profiles.loc[:, meta_features]\n"
     ]
    },
    {
     "name": "stdout",
     "output_type": "stream",
     "text": [
      "INFO: Normalized with mad_robustize\n",
      "INFO: Saved C1181_R1_mad_robustize.csv\n",
      "INFO: C1173_R1 has 384 rows\n",
      "INFO: C1173_R1 has 2977 features\n",
      "INFO: Normalized with mad_robustize\n"
     ]
    },
    {
     "name": "stderr",
     "output_type": "stream",
     "text": [
      "/home/schmiedc/miniconda3/envs/paint/lib/python3.9/site-packages/pycytominer/normalize.py:151: FutureWarning: Passing a set as an indexer is deprecated and will raise in a future version. Use a list instead.\n",
      "  meta_df = profiles.loc[:, meta_features]\n"
     ]
    },
    {
     "name": "stdout",
     "output_type": "stream",
     "text": [
      "INFO: Saved C1173_R1_mad_robustize.csv\n",
      "INFO: C1160_R4 has 384 rows\n",
      "INFO: C1160_R4 has 2977 features\n"
     ]
    },
    {
     "name": "stderr",
     "output_type": "stream",
     "text": [
      "/home/schmiedc/miniconda3/envs/paint/lib/python3.9/site-packages/pycytominer/normalize.py:151: FutureWarning: Passing a set as an indexer is deprecated and will raise in a future version. Use a list instead.\n",
      "  meta_df = profiles.loc[:, meta_features]\n"
     ]
    },
    {
     "name": "stdout",
     "output_type": "stream",
     "text": [
      "INFO: Normalized with mad_robustize\n",
      "INFO: Saved C1160_R4_mad_robustize.csv\n",
      "INFO: C1182_R1 has 384 rows\n",
      "INFO: C1182_R1 has 2977 features\n",
      "INFO: Normalized with mad_robustize\n"
     ]
    },
    {
     "name": "stderr",
     "output_type": "stream",
     "text": [
      "/home/schmiedc/miniconda3/envs/paint/lib/python3.9/site-packages/pycytominer/normalize.py:151: FutureWarning: Passing a set as an indexer is deprecated and will raise in a future version. Use a list instead.\n",
      "  meta_df = profiles.loc[:, meta_features]\n"
     ]
    },
    {
     "name": "stdout",
     "output_type": "stream",
     "text": [
      "INFO: Saved C1182_R1_mad_robustize.csv\n",
      "INFO: C1164_R1 has 384 rows\n",
      "INFO: C1164_R1 has 2977 features\n"
     ]
    },
    {
     "name": "stderr",
     "output_type": "stream",
     "text": [
      "/home/schmiedc/miniconda3/envs/paint/lib/python3.9/site-packages/pycytominer/normalize.py:151: FutureWarning: Passing a set as an indexer is deprecated and will raise in a future version. Use a list instead.\n",
      "  meta_df = profiles.loc[:, meta_features]\n"
     ]
    },
    {
     "name": "stdout",
     "output_type": "stream",
     "text": [
      "INFO: Normalized with mad_robustize\n",
      "INFO: Saved C1164_R1_mad_robustize.csv\n",
      "INFO: C1157_R1 has 384 rows\n",
      "INFO: C1157_R1 has 2977 features\n",
      "INFO: Normalized with mad_robustize\n"
     ]
    },
    {
     "name": "stderr",
     "output_type": "stream",
     "text": [
      "/home/schmiedc/miniconda3/envs/paint/lib/python3.9/site-packages/pycytominer/normalize.py:151: FutureWarning: Passing a set as an indexer is deprecated and will raise in a future version. Use a list instead.\n",
      "  meta_df = profiles.loc[:, meta_features]\n"
     ]
    },
    {
     "name": "stdout",
     "output_type": "stream",
     "text": [
      "INFO: Saved C1157_R1_mad_robustize.csv\n",
      "INFO: C1169_R2 has 384 rows\n",
      "INFO: C1169_R2 has 2977 features\n"
     ]
    },
    {
     "name": "stderr",
     "output_type": "stream",
     "text": [
      "/home/schmiedc/miniconda3/envs/paint/lib/python3.9/site-packages/pycytominer/normalize.py:151: FutureWarning: Passing a set as an indexer is deprecated and will raise in a future version. Use a list instead.\n",
      "  meta_df = profiles.loc[:, meta_features]\n"
     ]
    },
    {
     "name": "stdout",
     "output_type": "stream",
     "text": [
      "INFO: Normalized with mad_robustize\n",
      "INFO: Saved C1169_R2_mad_robustize.csv\n",
      "INFO: C1159_R3 has 384 rows\n",
      "INFO: C1159_R3 has 2977 features\n",
      "INFO: Normalized with mad_robustize\n"
     ]
    },
    {
     "name": "stderr",
     "output_type": "stream",
     "text": [
      "/home/schmiedc/miniconda3/envs/paint/lib/python3.9/site-packages/pycytominer/normalize.py:151: FutureWarning: Passing a set as an indexer is deprecated and will raise in a future version. Use a list instead.\n",
      "  meta_df = profiles.loc[:, meta_features]\n"
     ]
    },
    {
     "name": "stdout",
     "output_type": "stream",
     "text": [
      "INFO: Saved C1159_R3_mad_robustize.csv\n",
      "INFO: C1163_R1 has 384 rows\n",
      "INFO: C1163_R1 has 2977 features\n"
     ]
    },
    {
     "name": "stderr",
     "output_type": "stream",
     "text": [
      "/home/schmiedc/miniconda3/envs/paint/lib/python3.9/site-packages/pycytominer/normalize.py:151: FutureWarning: Passing a set as an indexer is deprecated and will raise in a future version. Use a list instead.\n",
      "  meta_df = profiles.loc[:, meta_features]\n"
     ]
    },
    {
     "name": "stdout",
     "output_type": "stream",
     "text": [
      "INFO: Normalized with mad_robustize\n",
      "INFO: Saved C1163_R1_mad_robustize.csv\n",
      "INFO: C1168_R1 has 384 rows\n",
      "INFO: C1168_R1 has 2977 features\n",
      "INFO: Normalized with mad_robustize\n"
     ]
    },
    {
     "name": "stderr",
     "output_type": "stream",
     "text": [
      "/home/schmiedc/miniconda3/envs/paint/lib/python3.9/site-packages/pycytominer/normalize.py:151: FutureWarning: Passing a set as an indexer is deprecated and will raise in a future version. Use a list instead.\n",
      "  meta_df = profiles.loc[:, meta_features]\n"
     ]
    },
    {
     "name": "stdout",
     "output_type": "stream",
     "text": [
      "INFO: Saved C1168_R1_mad_robustize.csv\n",
      "INFO: C1174_R1 has 384 rows\n",
      "INFO: C1174_R1 has 2977 features\n",
      "INFO: Normalized with mad_robustize\n"
     ]
    },
    {
     "name": "stderr",
     "output_type": "stream",
     "text": [
      "/home/schmiedc/miniconda3/envs/paint/lib/python3.9/site-packages/pycytominer/normalize.py:151: FutureWarning: Passing a set as an indexer is deprecated and will raise in a future version. Use a list instead.\n",
      "  meta_df = profiles.loc[:, meta_features]\n"
     ]
    },
    {
     "name": "stdout",
     "output_type": "stream",
     "text": [
      "INFO: Saved C1174_R1_mad_robustize.csv\n",
      "INFO: C1165_R3 has 384 rows\n",
      "INFO: C1165_R3 has 2977 features\n"
     ]
    },
    {
     "name": "stderr",
     "output_type": "stream",
     "text": [
      "/home/schmiedc/miniconda3/envs/paint/lib/python3.9/site-packages/pycytominer/normalize.py:151: FutureWarning: Passing a set as an indexer is deprecated and will raise in a future version. Use a list instead.\n",
      "  meta_df = profiles.loc[:, meta_features]\n"
     ]
    },
    {
     "name": "stdout",
     "output_type": "stream",
     "text": [
      "INFO: Normalized with mad_robustize\n",
      "INFO: Saved C1165_R3_mad_robustize.csv\n",
      "INFO: C1167_R2 has 384 rows\n",
      "INFO: C1167_R2 has 2977 features\n",
      "INFO: Normalized with mad_robustize\n"
     ]
    },
    {
     "name": "stderr",
     "output_type": "stream",
     "text": [
      "/home/schmiedc/miniconda3/envs/paint/lib/python3.9/site-packages/pycytominer/normalize.py:151: FutureWarning: Passing a set as an indexer is deprecated and will raise in a future version. Use a list instead.\n",
      "  meta_df = profiles.loc[:, meta_features]\n"
     ]
    },
    {
     "name": "stdout",
     "output_type": "stream",
     "text": [
      "INFO: Saved C1167_R2_mad_robustize.csv\n",
      "INFO: C1084_R4 has 384 rows\n",
      "INFO: C1084_R4 has 2977 features\n",
      "INFO: Normalized with mad_robustize\n"
     ]
    },
    {
     "name": "stderr",
     "output_type": "stream",
     "text": [
      "/home/schmiedc/miniconda3/envs/paint/lib/python3.9/site-packages/pycytominer/normalize.py:151: FutureWarning: Passing a set as an indexer is deprecated and will raise in a future version. Use a list instead.\n",
      "  meta_df = profiles.loc[:, meta_features]\n"
     ]
    },
    {
     "name": "stdout",
     "output_type": "stream",
     "text": [
      "INFO: Saved C1084_R4_mad_robustize.csv\n",
      "INFO: C1084_R2 has 384 rows\n",
      "INFO: C1084_R2 has 2977 features\n",
      "INFO: Normalized with mad_robustize\n"
     ]
    },
    {
     "name": "stderr",
     "output_type": "stream",
     "text": [
      "/home/schmiedc/miniconda3/envs/paint/lib/python3.9/site-packages/pycytominer/normalize.py:151: FutureWarning: Passing a set as an indexer is deprecated and will raise in a future version. Use a list instead.\n",
      "  meta_df = profiles.loc[:, meta_features]\n"
     ]
    },
    {
     "name": "stdout",
     "output_type": "stream",
     "text": [
      "INFO: Saved C1084_R2_mad_robustize.csv\n",
      "INFO: C1092_R1 has 384 rows\n",
      "INFO: C1092_R1 has 2977 features\n"
     ]
    },
    {
     "name": "stderr",
     "output_type": "stream",
     "text": [
      "/home/schmiedc/miniconda3/envs/paint/lib/python3.9/site-packages/pycytominer/normalize.py:151: FutureWarning: Passing a set as an indexer is deprecated and will raise in a future version. Use a list instead.\n",
      "  meta_df = profiles.loc[:, meta_features]\n"
     ]
    },
    {
     "name": "stdout",
     "output_type": "stream",
     "text": [
      "INFO: Normalized with mad_robustize\n",
      "INFO: Saved C1092_R1_mad_robustize.csv\n",
      "INFO: C1086_R4 has 384 rows\n",
      "INFO: C1086_R4 has 2977 features\n",
      "INFO: Normalized with mad_robustize\n"
     ]
    },
    {
     "name": "stderr",
     "output_type": "stream",
     "text": [
      "/home/schmiedc/miniconda3/envs/paint/lib/python3.9/site-packages/pycytominer/normalize.py:151: FutureWarning: Passing a set as an indexer is deprecated and will raise in a future version. Use a list instead.\n",
      "  meta_df = profiles.loc[:, meta_features]\n"
     ]
    },
    {
     "name": "stdout",
     "output_type": "stream",
     "text": [
      "INFO: Saved C1086_R4_mad_robustize.csv\n",
      "INFO: C1093_R4 has 384 rows\n",
      "INFO: C1093_R4 has 2977 features\n",
      "INFO: Normalized with mad_robustize\n"
     ]
    },
    {
     "name": "stderr",
     "output_type": "stream",
     "text": [
      "/home/schmiedc/miniconda3/envs/paint/lib/python3.9/site-packages/pycytominer/normalize.py:151: FutureWarning: Passing a set as an indexer is deprecated and will raise in a future version. Use a list instead.\n",
      "  meta_df = profiles.loc[:, meta_features]\n"
     ]
    },
    {
     "name": "stdout",
     "output_type": "stream",
     "text": [
      "INFO: Saved C1093_R4_mad_robustize.csv\n",
      "INFO: C1089_R1 has 384 rows\n",
      "INFO: C1089_R1 has 2977 features\n",
      "INFO: Normalized with mad_robustize\n"
     ]
    },
    {
     "name": "stderr",
     "output_type": "stream",
     "text": [
      "/home/schmiedc/miniconda3/envs/paint/lib/python3.9/site-packages/pycytominer/normalize.py:151: FutureWarning: Passing a set as an indexer is deprecated and will raise in a future version. Use a list instead.\n",
      "  meta_df = profiles.loc[:, meta_features]\n"
     ]
    },
    {
     "name": "stdout",
     "output_type": "stream",
     "text": [
      "INFO: Saved C1089_R1_mad_robustize.csv\n",
      "INFO: C1087_R2 has 384 rows\n",
      "INFO: C1087_R2 has 2977 features\n",
      "INFO: Normalized with mad_robustize\n"
     ]
    },
    {
     "name": "stderr",
     "output_type": "stream",
     "text": [
      "/home/schmiedc/miniconda3/envs/paint/lib/python3.9/site-packages/pycytominer/normalize.py:151: FutureWarning: Passing a set as an indexer is deprecated and will raise in a future version. Use a list instead.\n",
      "  meta_df = profiles.loc[:, meta_features]\n"
     ]
    },
    {
     "name": "stdout",
     "output_type": "stream",
     "text": [
      "INFO: Saved C1087_R2_mad_robustize.csv\n",
      "INFO: C1085_R2 has 384 rows\n",
      "INFO: C1085_R2 has 2977 features\n",
      "INFO: Normalized with mad_robustize\n"
     ]
    },
    {
     "name": "stderr",
     "output_type": "stream",
     "text": [
      "/home/schmiedc/miniconda3/envs/paint/lib/python3.9/site-packages/pycytominer/normalize.py:151: FutureWarning: Passing a set as an indexer is deprecated and will raise in a future version. Use a list instead.\n",
      "  meta_df = profiles.loc[:, meta_features]\n"
     ]
    },
    {
     "name": "stdout",
     "output_type": "stream",
     "text": [
      "INFO: Saved C1085_R2_mad_robustize.csv\n",
      "INFO: C1088_R2 has 384 rows\n",
      "INFO: C1088_R2 has 2977 features\n",
      "INFO: Normalized with mad_robustize\n"
     ]
    },
    {
     "name": "stderr",
     "output_type": "stream",
     "text": [
      "/home/schmiedc/miniconda3/envs/paint/lib/python3.9/site-packages/pycytominer/normalize.py:151: FutureWarning: Passing a set as an indexer is deprecated and will raise in a future version. Use a list instead.\n",
      "  meta_df = profiles.loc[:, meta_features]\n"
     ]
    },
    {
     "name": "stdout",
     "output_type": "stream",
     "text": [
      "INFO: Saved C1088_R2_mad_robustize.csv\n",
      "INFO: C1085_R1 has 384 rows\n",
      "INFO: C1085_R1 has 2977 features\n"
     ]
    },
    {
     "name": "stderr",
     "output_type": "stream",
     "text": [
      "/home/schmiedc/miniconda3/envs/paint/lib/python3.9/site-packages/pycytominer/normalize.py:151: FutureWarning: Passing a set as an indexer is deprecated and will raise in a future version. Use a list instead.\n",
      "  meta_df = profiles.loc[:, meta_features]\n"
     ]
    },
    {
     "name": "stdout",
     "output_type": "stream",
     "text": [
      "INFO: Normalized with mad_robustize\n",
      "INFO: Saved C1085_R1_mad_robustize.csv\n",
      "INFO: C1099_R1 has 378 rows\n",
      "INFO: C1099_R1 has 2977 features\n",
      "INFO: Normalized with mad_robustize\n"
     ]
    },
    {
     "name": "stderr",
     "output_type": "stream",
     "text": [
      "/home/schmiedc/miniconda3/envs/paint/lib/python3.9/site-packages/pycytominer/normalize.py:151: FutureWarning: Passing a set as an indexer is deprecated and will raise in a future version. Use a list instead.\n",
      "  meta_df = profiles.loc[:, meta_features]\n"
     ]
    },
    {
     "name": "stdout",
     "output_type": "stream",
     "text": [
      "INFO: Saved C1099_R1_mad_robustize.csv\n",
      "INFO: C1103_R1 has 382 rows\n",
      "INFO: C1103_R1 has 2977 features\n"
     ]
    },
    {
     "name": "stderr",
     "output_type": "stream",
     "text": [
      "/home/schmiedc/miniconda3/envs/paint/lib/python3.9/site-packages/pycytominer/normalize.py:151: FutureWarning: Passing a set as an indexer is deprecated and will raise in a future version. Use a list instead.\n",
      "  meta_df = profiles.loc[:, meta_features]\n"
     ]
    },
    {
     "name": "stdout",
     "output_type": "stream",
     "text": [
      "INFO: Normalized with mad_robustize\n",
      "INFO: Saved C1103_R1_mad_robustize.csv\n",
      "INFO: C1102_R1 has 378 rows\n",
      "INFO: C1102_R1 has 2977 features\n",
      "INFO: Normalized with mad_robustize\n"
     ]
    },
    {
     "name": "stderr",
     "output_type": "stream",
     "text": [
      "/home/schmiedc/miniconda3/envs/paint/lib/python3.9/site-packages/pycytominer/normalize.py:151: FutureWarning: Passing a set as an indexer is deprecated and will raise in a future version. Use a list instead.\n",
      "  meta_df = profiles.loc[:, meta_features]\n"
     ]
    },
    {
     "name": "stdout",
     "output_type": "stream",
     "text": [
      "INFO: Saved C1102_R1_mad_robustize.csv\n",
      "INFO: C1093_R1 has 384 rows\n",
      "INFO: C1093_R1 has 2977 features\n",
      "INFO: Normalized with mad_robustize\n"
     ]
    },
    {
     "name": "stderr",
     "output_type": "stream",
     "text": [
      "/home/schmiedc/miniconda3/envs/paint/lib/python3.9/site-packages/pycytominer/normalize.py:151: FutureWarning: Passing a set as an indexer is deprecated and will raise in a future version. Use a list instead.\n",
      "  meta_df = profiles.loc[:, meta_features]\n"
     ]
    },
    {
     "name": "stdout",
     "output_type": "stream",
     "text": [
      "INFO: Saved C1093_R1_mad_robustize.csv\n",
      "INFO: C1094_R1 has 380 rows\n",
      "INFO: C1094_R1 has 2977 features\n",
      "INFO: Normalized with mad_robustize\n"
     ]
    },
    {
     "name": "stderr",
     "output_type": "stream",
     "text": [
      "/home/schmiedc/miniconda3/envs/paint/lib/python3.9/site-packages/pycytominer/normalize.py:151: FutureWarning: Passing a set as an indexer is deprecated and will raise in a future version. Use a list instead.\n",
      "  meta_df = profiles.loc[:, meta_features]\n"
     ]
    },
    {
     "name": "stdout",
     "output_type": "stream",
     "text": [
      "INFO: Saved C1094_R1_mad_robustize.csv\n",
      "INFO: C1095_R1 has 375 rows\n",
      "INFO: C1095_R1 has 2977 features\n",
      "INFO: Normalized with mad_robustize\n"
     ]
    },
    {
     "name": "stderr",
     "output_type": "stream",
     "text": [
      "/home/schmiedc/miniconda3/envs/paint/lib/python3.9/site-packages/pycytominer/normalize.py:151: FutureWarning: Passing a set as an indexer is deprecated and will raise in a future version. Use a list instead.\n",
      "  meta_df = profiles.loc[:, meta_features]\n"
     ]
    },
    {
     "name": "stdout",
     "output_type": "stream",
     "text": [
      "INFO: Saved C1095_R1_mad_robustize.csv\n",
      "INFO: C1088_R4 has 384 rows\n",
      "INFO: C1088_R4 has 2977 features\n",
      "INFO: Normalized with mad_robustize\n"
     ]
    },
    {
     "name": "stderr",
     "output_type": "stream",
     "text": [
      "/home/schmiedc/miniconda3/envs/paint/lib/python3.9/site-packages/pycytominer/normalize.py:151: FutureWarning: Passing a set as an indexer is deprecated and will raise in a future version. Use a list instead.\n",
      "  meta_df = profiles.loc[:, meta_features]\n"
     ]
    },
    {
     "name": "stdout",
     "output_type": "stream",
     "text": [
      "INFO: Saved C1088_R4_mad_robustize.csv\n",
      "INFO: C1092_R2 has 375 rows\n",
      "INFO: C1092_R2 has 2977 features\n",
      "INFO: Normalized with mad_robustize\n"
     ]
    },
    {
     "name": "stderr",
     "output_type": "stream",
     "text": [
      "/home/schmiedc/miniconda3/envs/paint/lib/python3.9/site-packages/pycytominer/normalize.py:151: FutureWarning: Passing a set as an indexer is deprecated and will raise in a future version. Use a list instead.\n",
      "  meta_df = profiles.loc[:, meta_features]\n"
     ]
    },
    {
     "name": "stdout",
     "output_type": "stream",
     "text": [
      "INFO: Saved C1092_R2_mad_robustize.csv\n",
      "INFO: C1086_R2 has 384 rows\n",
      "INFO: C1086_R2 has 2977 features\n",
      "INFO: Normalized with mad_robustize\n"
     ]
    },
    {
     "name": "stderr",
     "output_type": "stream",
     "text": [
      "/home/schmiedc/miniconda3/envs/paint/lib/python3.9/site-packages/pycytominer/normalize.py:151: FutureWarning: Passing a set as an indexer is deprecated and will raise in a future version. Use a list instead.\n",
      "  meta_df = profiles.loc[:, meta_features]\n"
     ]
    },
    {
     "name": "stdout",
     "output_type": "stream",
     "text": [
      "INFO: Saved C1086_R2_mad_robustize.csv\n",
      "INFO: C1091_R1 has 384 rows\n",
      "INFO: C1091_R1 has 2977 features\n",
      "INFO: Normalized with mad_robustize\n"
     ]
    },
    {
     "name": "stderr",
     "output_type": "stream",
     "text": [
      "/home/schmiedc/miniconda3/envs/paint/lib/python3.9/site-packages/pycytominer/normalize.py:151: FutureWarning: Passing a set as an indexer is deprecated and will raise in a future version. Use a list instead.\n",
      "  meta_df = profiles.loc[:, meta_features]\n"
     ]
    },
    {
     "name": "stdout",
     "output_type": "stream",
     "text": [
      "INFO: Saved C1091_R1_mad_robustize.csv\n",
      "INFO: C1098_R1 has 370 rows\n",
      "INFO: C1098_R1 has 2977 features\n"
     ]
    },
    {
     "name": "stderr",
     "output_type": "stream",
     "text": [
      "/home/schmiedc/miniconda3/envs/paint/lib/python3.9/site-packages/pycytominer/normalize.py:151: FutureWarning: Passing a set as an indexer is deprecated and will raise in a future version. Use a list instead.\n",
      "  meta_df = profiles.loc[:, meta_features]\n"
     ]
    },
    {
     "name": "stdout",
     "output_type": "stream",
     "text": [
      "INFO: Normalized with mad_robustize\n",
      "INFO: Saved C1098_R1_mad_robustize.csv\n",
      "INFO: C1100_R1 has 371 rows\n",
      "INFO: C1100_R1 has 2977 features\n",
      "INFO: Normalized with mad_robustize\n"
     ]
    },
    {
     "name": "stderr",
     "output_type": "stream",
     "text": [
      "/home/schmiedc/miniconda3/envs/paint/lib/python3.9/site-packages/pycytominer/normalize.py:151: FutureWarning: Passing a set as an indexer is deprecated and will raise in a future version. Use a list instead.\n",
      "  meta_df = profiles.loc[:, meta_features]\n"
     ]
    },
    {
     "name": "stdout",
     "output_type": "stream",
     "text": [
      "INFO: Saved C1100_R1_mad_robustize.csv\n",
      "INFO: C1087_R4 has 384 rows\n",
      "INFO: C1087_R4 has 2977 features\n"
     ]
    },
    {
     "name": "stderr",
     "output_type": "stream",
     "text": [
      "/home/schmiedc/miniconda3/envs/paint/lib/python3.9/site-packages/pycytominer/normalize.py:151: FutureWarning: Passing a set as an indexer is deprecated and will raise in a future version. Use a list instead.\n",
      "  meta_df = profiles.loc[:, meta_features]\n"
     ]
    },
    {
     "name": "stdout",
     "output_type": "stream",
     "text": [
      "INFO: Normalized with mad_robustize\n",
      "INFO: Saved C1087_R4_mad_robustize.csv\n",
      "INFO: C1101_R1 has 376 rows\n",
      "INFO: C1101_R1 has 2977 features\n",
      "INFO: Normalized with mad_robustize\n"
     ]
    },
    {
     "name": "stderr",
     "output_type": "stream",
     "text": [
      "/home/schmiedc/miniconda3/envs/paint/lib/python3.9/site-packages/pycytominer/normalize.py:151: FutureWarning: Passing a set as an indexer is deprecated and will raise in a future version. Use a list instead.\n",
      "  meta_df = profiles.loc[:, meta_features]\n"
     ]
    },
    {
     "name": "stdout",
     "output_type": "stream",
     "text": [
      "INFO: Saved C1101_R1_mad_robustize.csv\n",
      "INFO: C1090_R4 has 384 rows\n",
      "INFO: C1090_R4 has 2977 features\n"
     ]
    },
    {
     "name": "stderr",
     "output_type": "stream",
     "text": [
      "/home/schmiedc/miniconda3/envs/paint/lib/python3.9/site-packages/pycytominer/normalize.py:151: FutureWarning: Passing a set as an indexer is deprecated and will raise in a future version. Use a list instead.\n",
      "  meta_df = profiles.loc[:, meta_features]\n"
     ]
    },
    {
     "name": "stdout",
     "output_type": "stream",
     "text": [
      "INFO: Normalized with mad_robustize\n",
      "INFO: Saved C1090_R4_mad_robustize.csv\n",
      "INFO: C1091_R4 has 384 rows\n",
      "INFO: C1091_R4 has 2977 features\n",
      "INFO: Normalized with mad_robustize\n"
     ]
    },
    {
     "name": "stderr",
     "output_type": "stream",
     "text": [
      "/home/schmiedc/miniconda3/envs/paint/lib/python3.9/site-packages/pycytominer/normalize.py:151: FutureWarning: Passing a set as an indexer is deprecated and will raise in a future version. Use a list instead.\n",
      "  meta_df = profiles.loc[:, meta_features]\n"
     ]
    },
    {
     "name": "stdout",
     "output_type": "stream",
     "text": [
      "INFO: Saved C1091_R4_mad_robustize.csv\n",
      "INFO: C1091_R2 has 383 rows\n",
      "INFO: C1091_R2 has 2977 features\n",
      "INFO: Normalized with mad_robustize\n"
     ]
    },
    {
     "name": "stderr",
     "output_type": "stream",
     "text": [
      "/home/schmiedc/miniconda3/envs/paint/lib/python3.9/site-packages/pycytominer/normalize.py:151: FutureWarning: Passing a set as an indexer is deprecated and will raise in a future version. Use a list instead.\n",
      "  meta_df = profiles.loc[:, meta_features]\n"
     ]
    },
    {
     "name": "stdout",
     "output_type": "stream",
     "text": [
      "INFO: Saved C1091_R2_mad_robustize.csv\n",
      "INFO: C1096_R1 has 370 rows\n",
      "INFO: C1096_R1 has 2977 features\n",
      "INFO: Normalized with mad_robustize\n"
     ]
    },
    {
     "name": "stderr",
     "output_type": "stream",
     "text": [
      "/home/schmiedc/miniconda3/envs/paint/lib/python3.9/site-packages/pycytominer/normalize.py:151: FutureWarning: Passing a set as an indexer is deprecated and will raise in a future version. Use a list instead.\n",
      "  meta_df = profiles.loc[:, meta_features]\n"
     ]
    },
    {
     "name": "stdout",
     "output_type": "stream",
     "text": [
      "INFO: Saved C1096_R1_mad_robustize.csv\n",
      "INFO: C1085_R4 has 384 rows\n",
      "INFO: C1085_R4 has 2977 features\n"
     ]
    },
    {
     "name": "stderr",
     "output_type": "stream",
     "text": [
      "/home/schmiedc/miniconda3/envs/paint/lib/python3.9/site-packages/pycytominer/normalize.py:151: FutureWarning: Passing a set as an indexer is deprecated and will raise in a future version. Use a list instead.\n",
      "  meta_df = profiles.loc[:, meta_features]\n"
     ]
    },
    {
     "name": "stdout",
     "output_type": "stream",
     "text": [
      "INFO: Normalized with mad_robustize\n",
      "INFO: Saved C1085_R4_mad_robustize.csv\n",
      "INFO: C1093_R2 has 384 rows\n",
      "INFO: C1093_R2 has 2977 features\n",
      "INFO: Normalized with mad_robustize\n"
     ]
    },
    {
     "name": "stderr",
     "output_type": "stream",
     "text": [
      "/home/schmiedc/miniconda3/envs/paint/lib/python3.9/site-packages/pycytominer/normalize.py:151: FutureWarning: Passing a set as an indexer is deprecated and will raise in a future version. Use a list instead.\n",
      "  meta_df = profiles.loc[:, meta_features]\n"
     ]
    },
    {
     "name": "stdout",
     "output_type": "stream",
     "text": [
      "INFO: Saved C1093_R2_mad_robustize.csv\n",
      "INFO: C1086_R1 has 384 rows\n",
      "INFO: C1086_R1 has 2977 features\n",
      "INFO: Normalized with mad_robustize\n"
     ]
    },
    {
     "name": "stderr",
     "output_type": "stream",
     "text": [
      "/home/schmiedc/miniconda3/envs/paint/lib/python3.9/site-packages/pycytominer/normalize.py:151: FutureWarning: Passing a set as an indexer is deprecated and will raise in a future version. Use a list instead.\n",
      "  meta_df = profiles.loc[:, meta_features]\n"
     ]
    },
    {
     "name": "stdout",
     "output_type": "stream",
     "text": [
      "INFO: Saved C1086_R1_mad_robustize.csv\n",
      "INFO: C1087_R1 has 384 rows\n",
      "INFO: C1087_R1 has 2977 features\n",
      "INFO: Normalized with mad_robustize\n"
     ]
    },
    {
     "name": "stderr",
     "output_type": "stream",
     "text": [
      "/home/schmiedc/miniconda3/envs/paint/lib/python3.9/site-packages/pycytominer/normalize.py:151: FutureWarning: Passing a set as an indexer is deprecated and will raise in a future version. Use a list instead.\n",
      "  meta_df = profiles.loc[:, meta_features]\n"
     ]
    },
    {
     "name": "stdout",
     "output_type": "stream",
     "text": [
      "INFO: Saved C1087_R1_mad_robustize.csv\n",
      "INFO: C1089_R2 has 384 rows\n",
      "INFO: C1089_R2 has 2977 features\n",
      "INFO: Normalized with mad_robustize\n"
     ]
    },
    {
     "name": "stderr",
     "output_type": "stream",
     "text": [
      "/home/schmiedc/miniconda3/envs/paint/lib/python3.9/site-packages/pycytominer/normalize.py:151: FutureWarning: Passing a set as an indexer is deprecated and will raise in a future version. Use a list instead.\n",
      "  meta_df = profiles.loc[:, meta_features]\n"
     ]
    },
    {
     "name": "stdout",
     "output_type": "stream",
     "text": [
      "INFO: Saved C1089_R2_mad_robustize.csv\n",
      "INFO: C1089_R4 has 383 rows\n",
      "INFO: C1089_R4 has 2977 features\n"
     ]
    },
    {
     "name": "stderr",
     "output_type": "stream",
     "text": [
      "/home/schmiedc/miniconda3/envs/paint/lib/python3.9/site-packages/pycytominer/normalize.py:151: FutureWarning: Passing a set as an indexer is deprecated and will raise in a future version. Use a list instead.\n",
      "  meta_df = profiles.loc[:, meta_features]\n"
     ]
    },
    {
     "name": "stdout",
     "output_type": "stream",
     "text": [
      "INFO: Normalized with mad_robustize\n",
      "INFO: Saved C1089_R4_mad_robustize.csv\n",
      "INFO: C1092_R4 has 383 rows\n",
      "INFO: C1092_R4 has 2977 features\n",
      "INFO: Normalized with mad_robustize\n"
     ]
    },
    {
     "name": "stderr",
     "output_type": "stream",
     "text": [
      "/home/schmiedc/miniconda3/envs/paint/lib/python3.9/site-packages/pycytominer/normalize.py:151: FutureWarning: Passing a set as an indexer is deprecated and will raise in a future version. Use a list instead.\n",
      "  meta_df = profiles.loc[:, meta_features]\n"
     ]
    },
    {
     "name": "stdout",
     "output_type": "stream",
     "text": [
      "INFO: Saved C1092_R4_mad_robustize.csv\n",
      "INFO: C1088_R1 has 384 rows\n",
      "INFO: C1088_R1 has 2977 features\n",
      "INFO: Normalized with mad_robustize\n"
     ]
    },
    {
     "name": "stderr",
     "output_type": "stream",
     "text": [
      "/home/schmiedc/miniconda3/envs/paint/lib/python3.9/site-packages/pycytominer/normalize.py:151: FutureWarning: Passing a set as an indexer is deprecated and will raise in a future version. Use a list instead.\n",
      "  meta_df = profiles.loc[:, meta_features]\n"
     ]
    },
    {
     "name": "stdout",
     "output_type": "stream",
     "text": [
      "INFO: Saved C1088_R1_mad_robustize.csv\n",
      "INFO: C1090_R1 has 384 rows\n",
      "INFO: C1090_R1 has 2977 features\n",
      "INFO: Normalized with mad_robustize\n"
     ]
    },
    {
     "name": "stderr",
     "output_type": "stream",
     "text": [
      "/home/schmiedc/miniconda3/envs/paint/lib/python3.9/site-packages/pycytominer/normalize.py:151: FutureWarning: Passing a set as an indexer is deprecated and will raise in a future version. Use a list instead.\n",
      "  meta_df = profiles.loc[:, meta_features]\n"
     ]
    },
    {
     "name": "stdout",
     "output_type": "stream",
     "text": [
      "INFO: Saved C1090_R1_mad_robustize.csv\n",
      "INFO: C1084_R1 has 384 rows\n",
      "INFO: C1084_R1 has 2977 features\n",
      "INFO: Normalized with mad_robustize\n"
     ]
    },
    {
     "name": "stderr",
     "output_type": "stream",
     "text": [
      "/home/schmiedc/miniconda3/envs/paint/lib/python3.9/site-packages/pycytominer/normalize.py:151: FutureWarning: Passing a set as an indexer is deprecated and will raise in a future version. Use a list instead.\n",
      "  meta_df = profiles.loc[:, meta_features]\n"
     ]
    },
    {
     "name": "stdout",
     "output_type": "stream",
     "text": [
      "INFO: Saved C1084_R1_mad_robustize.csv\n",
      "INFO: C1097_R1 has 375 rows\n",
      "INFO: C1097_R1 has 2977 features\n",
      "INFO: Normalized with mad_robustize\n"
     ]
    },
    {
     "name": "stderr",
     "output_type": "stream",
     "text": [
      "/home/schmiedc/miniconda3/envs/paint/lib/python3.9/site-packages/pycytominer/normalize.py:151: FutureWarning: Passing a set as an indexer is deprecated and will raise in a future version. Use a list instead.\n",
      "  meta_df = profiles.loc[:, meta_features]\n"
     ]
    },
    {
     "name": "stdout",
     "output_type": "stream",
     "text": [
      "INFO: Saved C1097_R1_mad_robustize.csv\n",
      "INFO: C1090_R2 has 383 rows\n",
      "INFO: C1090_R2 has 2977 features\n",
      "INFO: Normalized with mad_robustize\n"
     ]
    },
    {
     "name": "stderr",
     "output_type": "stream",
     "text": [
      "/home/schmiedc/miniconda3/envs/paint/lib/python3.9/site-packages/pycytominer/normalize.py:151: FutureWarning: Passing a set as an indexer is deprecated and will raise in a future version. Use a list instead.\n",
      "  meta_df = profiles.loc[:, meta_features]\n"
     ]
    },
    {
     "name": "stdout",
     "output_type": "stream",
     "text": [
      "INFO: Saved C1090_R2_mad_robustize.csv\n"
     ]
    }
   ],
   "source": [
    "dataframes_normalized_dict = {}\n",
    "\n",
    "for file in file_list:\n",
    "    \n",
    "    plate_map_name = os.path.splitext(os.path.basename(file))[0]\n",
    "    \n",
    "    try:\n",
    "        \n",
    "        dataframe = pd.read_csv(file)\n",
    "        row_count = dataframe.shape[0]\n",
    "        \n",
    "        print(f\"INFO: {plate_map_name} has {row_count} rows\")\n",
    "        \n",
    "        \n",
    "    except Exception as e:\n",
    "        \n",
    "        print(f\"Error reading file {plate_map_name}: {e}\")   \n",
    "        \n",
    "    features = CBE.get_feature_vector(dataframe)\n",
    "    metadata_dataframe = set(dataframe.columns) - set(features)\n",
    "        \n",
    "    ### convert sets to list\n",
    "    features_list = list(features)\n",
    "    metadata_list = list(metadata_dataframe)\n",
    "        \n",
    "    number_features = len(features_list)\n",
    "        \n",
    "    print(f\"INFO: {plate_map_name} has {number_features} features\")\n",
    "        \n",
    "    # TODO: Adjust to future pycytominer version\n",
    "    # TODO: Try out other normalization methods\n",
    "    normalizer = \"mad_robustize\" \n",
    "    \n",
    "    dataframe_normalized = pycytominer.normalize(\n",
    "        \n",
    "        profiles = dataframe,\n",
    "        features = features,\n",
    "        meta_features = metadata_dataframe,\n",
    "        method = normalizer, ### Method to normalize the data\n",
    "        samples = \"Metadata_RoughID == 'DMSO'\" # normalization performed on neg. controls\n",
    "    )\n",
    "    \n",
    "    print(f\"INFO: Normalized with {normalizer}\")\n",
    "    \n",
    "    filename_norm_data = plate_map_name + \"_\" + normalizer + \".csv\"\n",
    "    \n",
    "    path_norm_data = os.path.dirname(file)\n",
    "    file_path_norm_data = os.path.join(path_norm_data, filename_norm_data)\n",
    "    \n",
    "    dataframe_normalized.to_csv(file_path_norm_data, index=False)\n",
    "    \n",
    "    print(f\"INFO: Saved {filename_norm_data}\")\n",
    "    \n",
    "    # TODO: collect them in dictionary for further processing. \n",
    "    # TODO: Based on key Date_Source_Plate_replicate\n",
    "    dict_key = dataframe_normalized['Metadata_imaging_date'][0] + \"_\" + dataframe_normalized['Metadata_source'][0] + \"_\" + dataframe_normalized['Metadata_plate_map_name'][0]\n",
    "\n",
    "    dataframes_normalized_dict[dict_key] = dataframe_normalized"
   ]
  },
  {
   "cell_type": "code",
   "execution_count": 20,
   "id": "778a455b",
   "metadata": {},
   "outputs": [],
   "source": [
    "def get_pos_control_correlation(input_dataframe, pos_ctrl_string):\n",
    "    \n",
    "    pos_ctrl_dataframe = input_dataframe.loc[input_dataframe['Metadata_RoughID'] == pos_ctrl_string]\n",
    "\n",
    "    corr_pos_ctrl = None\n",
    "\n",
    "    if (len(pos_ctrl_dataframe) == 2 ):\n",
    "\n",
    "        well_1_features = pos_ctrl_dataframe.iloc[0][features].values\n",
    "        well_2_features = pos_ctrl_dataframe.iloc[1][features].values\n",
    "    \n",
    "        corr = np.corrcoef(well_1_features.astype(float), well_2_features.astype(float))\n",
    "        np.fill_diagonal(corr, np.nan)\n",
    "\n",
    "        corr_pos_ctrl = np.nanmedian(corr)\n",
    "\n",
    "    return corr_pos_ctrl"
   ]
  },
  {
   "cell_type": "code",
   "execution_count": 21,
   "id": "d3fb606c",
   "metadata": {},
   "outputs": [],
   "source": [
    "def get_median_pos_ctrl_correlation(input_dataframe):\n",
    "\n",
    "    tetrandrine_dataframe = input_dataframe.loc[input_dataframe['Metadata_RoughID'] == 'Tetrandrine']\n",
    "    tetrandrine_median_features = tetrandrine_dataframe[features].median(axis=0)\n",
    "\n",
    "    nocodazole_dataframe = input_dataframe.loc[input_dataframe['Metadata_RoughID'] == 'Nocodazole']\n",
    "    nocodazole_median_features = nocodazole_dataframe[features].median(axis=0)\n",
    "    \n",
    "    corr = np.corrcoef(tetrandrine_median_features.astype(float), nocodazole_median_features.astype(float))\n",
    "    np.fill_diagonal(corr, np.nan)\n",
    "\n",
    "    return np.nanmedian(corr)"
   ]
  },
  {
   "cell_type": "code",
   "execution_count": 22,
   "id": "5399e729",
   "metadata": {},
   "outputs": [],
   "source": [
    "def pad_numbers(value):\n",
    "    match = re.match(r\"([A-Z])(\\d+)\", value)\n",
    "    if match:\n",
    "        letter = match.group(1)\n",
    "        number = match.group(2).zfill(2)  # Pad number to 2 digits\n",
    "        return f\"{letter}{number}\"\n",
    "    return value"
   ]
  },
  {
   "cell_type": "markdown",
   "id": "c6b692ed",
   "metadata": {},
   "source": [
    "# Within plate comparison"
   ]
  },
  {
   "cell_type": "code",
   "execution_count": 23,
   "id": "af96dddc",
   "metadata": {
    "scrolled": false
   },
   "outputs": [
    {
     "name": "stdout",
     "output_type": "stream",
     "text": [
      "Testing 2024-06-05_IMTM_C1231_R1\n",
      "Original layout is R1\n",
      "Testing 2024-06-27_IMTM_C1241_R1\n",
      "Original layout is R1\n",
      "Testing 2024-06-03_IMTM_C1230_R3\n",
      "Original layout is R3\n",
      "Testing 2024-06-03_IMTM_C1230_R4\n",
      "Original layout is R4\n",
      "Testing 2024-06-06_IMTM_C1231_R4\n",
      "Original layout is R4\n",
      "Testing 2024-06-27_IMTM_C1241_R2\n",
      "Original layout is R2\n",
      "Testing 2024-05-30_IMTM_C1230_R2\n",
      "Original layout is R2\n",
      "Testing 2024-06-05_IMTM_C1231_R2\n",
      "Original layout is R2\n",
      "Testing 2024-06-27_IMTM_C1241_R3\n",
      "Original layout is R3\n",
      "Testing 2024-05-30_IMTM_C1230_R1\n",
      "Original layout is R1\n",
      "Testing 2024-06-05_IMTM_C1231_R3\n",
      "Original layout is R3\n",
      "Testing 2024-06-17_IMTM_C1236_R4\n",
      "Original layout is R4\n",
      "Testing 2024-06-21_IMTM_C1237_R4\n",
      "Original layout is R4\n",
      "Testing 2024-06-28_USC_C1184_R1\n",
      "Original layout is R1\n",
      "Testing 2024-07-03_USC_C1166_R2\n",
      "Original layout is R2\n",
      "Testing 2024-06-19_USC_C1162_R4\n",
      "Original layout is R4\n",
      "Testing 2024-06-27_USC_C1175_R1\n",
      "Original layout is R1\n",
      "Testing 2024-06-15_USC_C1160_R2\n",
      "Original layout is R2\n",
      "Testing 2024-06-15_USC_C1160_R3\n",
      "Original layout is R3\n",
      "Testing 2024-06-22_USC_C1165_R2\n",
      "Original layout is R2\n",
      "Testing 2024-07-03_USC_C1171_R2\n",
      "Original layout is R2\n",
      "Testing 2024-07-01_USC_C1188_R1\n",
      "Original layout is R1\n",
      "Testing 2024-06-27_USC_C1176_R1\n",
      "Original layout is R1\n",
      "Testing 2024-06-28_USC_C1183_R1\n",
      "Original layout is R1\n",
      "Testing 2024-07-01_USC_C1189_R1\n",
      "Original layout is R1\n",
      "Testing 2024-07-01_USC_C1192_R1\n",
      "Original layout is R1\n",
      "Testing 2024-06-26_USC_C1167_R1\n",
      "Original layout is R1\n",
      "Testing 2024-06-26_USC_C1166_R1\n",
      "Original layout is R1\n",
      "Testing 2024-06-15_USC_C1158_R4\n",
      "Original layout is R4\n",
      "Testing 2024-06-15_USC_C1158_R2\n",
      "Original layout is R2\n",
      "Testing 2024-07-01_USC_C1191_R1\n",
      "Original layout is R1\n",
      "Testing 2024-06-27_USC_C1170_R1\n",
      "Original layout is R1\n",
      "Testing 2024-06-14_USC_C1157_R4\n",
      "Original layout is R4\n",
      "Testing 2024-07-01_USC_C1187_R1\n",
      "Original layout is R1\n",
      "Testing 2024-06-19_USC_C1162_R2\n",
      "Original layout is R2\n",
      "Testing 2024-06-19_USC_C1162_R1\n",
      "Original layout is R1\n",
      "Testing 2024-07-01_USC_C1185_R1\n",
      "Original layout is R1\n",
      "Testing 2024-06-19_USC_C1162_R3\n",
      "Original layout is R3\n",
      "Testing 2024-06-26_USC_C1169_R1\n",
      "Original layout is R1\n",
      "Testing 2024-06-28_USC_C1179_R1\n",
      "Original layout is R1\n",
      "Testing 2024-07-04_USC_C1173_R2\n",
      "Original layout is R2\n",
      "Testing 2024-07-03_USC_C1172_R2\n",
      "Original layout is R2\n",
      "Testing 2024-06-26_USC_C1171_R1\n",
      "Original layout is R1\n",
      "Testing 2024-06-15_USC_C1159_R2\n",
      "Original layout is R2\n",
      "Testing 2024-06-15_USC_C1160_R1\n",
      "Original layout is R1\n",
      "Testing 2024-06-14_USC_C1157_R3\n",
      "Original layout is R3\n",
      "Testing 2024-06-28_USC_C1180_R1\n",
      "Original layout is R1\n",
      "Testing 2024-06-28_USC_C1186_R1\n",
      "Original layout is R1\n",
      "Testing 2024-06-27_USC_C1172_R1\n",
      "Original layout is R1\n",
      "Testing 2024-06-28_USC_C1178_R1\n",
      "Original layout is R1\n",
      "Testing 2024-06-28_USC_C1181_R1\n",
      "Original layout is R1\n",
      "Testing 2024-06-27_USC_C1173_R1\n",
      "Original layout is R1\n",
      "Testing 2024-06-15_USC_C1160_R4\n",
      "Original layout is R4\n",
      "Testing 2024-06-28_USC_C1182_R1\n",
      "Original layout is R1\n",
      "Testing 2024-06-21_USC_C1164_R1\n",
      "Original layout is R1\n",
      "Testing 2024-06-14_USC_C1157_R1\n",
      "Original layout is R1\n",
      "Testing 2024-07-04_USC_C1169_R2\n",
      "Original layout is R2\n",
      "Testing 2024-06-17_USC_C1159_R3\n",
      "Original layout is R3\n",
      "Testing 2024-06-21_USC_C1163_R1\n",
      "Original layout is R1\n",
      "Testing 2024-06-26_USC_C1168_R1\n",
      "Original layout is R1\n",
      "Testing 2024-06-27_USC_C1174_R1\n",
      "Original layout is R1\n",
      "Testing 2024-06-27_USC_C1165_R3\n",
      "Original layout is R3\n",
      "Testing 2024-07-03_USC_C1167_R2\n",
      "Original layout is R2\n",
      "Testing 2024-06-25_FMP_C1084_R4\n",
      "Original layout is R4\n",
      "Testing 2024-06-14_FMP_C1084_R2\n",
      "Original layout is R2\n",
      "Testing 2024-06-06_FMP_C1092_R1\n",
      "Original layout is R1\n",
      "Testing 2024-06-25_FMP_C1086_R4\n",
      "Original layout is R4\n",
      "Testing 2024-06-22_FMP_C1093_R4\n",
      "Original layout is R4\n",
      "Testing 2024-06-05_FMP_C1089_R1\n",
      "Original layout is R1\n",
      "Testing 2024-06-14_FMP_C1087_R2\n",
      "Original layout is R2\n",
      "Testing 2024-06-14_FMP_C1085_R2\n",
      "Original layout is R2\n",
      "Testing 2024-06-14_FMP_C1088_R2\n",
      "Original layout is R2\n",
      "Testing 2024-06-05_FMP_C1085_R1\n",
      "Original layout is R1\n",
      "Testing 2024-07-02_FMP_C1099_R1\n",
      "Original layout is R1\n",
      "Testing 2024-07-02_FMP_C1103_R1\n",
      "Original layout is R1\n",
      "Testing 2024-07-02_FMP_C1102_R1\n",
      "Original layout is R1\n",
      "Testing 2024-06-06_FMP_C1093_R1\n",
      "Original layout is R1\n",
      "Testing 2024-07-02_FMP_C1094_R1\n",
      "Original layout is R1\n",
      "Testing 2024-07-02_FMP_C1095_R1\n",
      "Original layout is R1\n",
      "Testing 2024-06-23_FMP_C1088_R4\n",
      "Original layout is R4\n",
      "Testing 2024-06-15_FMP_C1092_R2\n",
      "Original layout is R2\n",
      "Testing 2024-06-14_FMP_C1086_R2\n",
      "Original layout is R2\n",
      "Testing 2024-06-05_FMP_C1091_R1\n",
      "Original layout is R1\n",
      "Testing 2024-07-02_FMP_C1098_R1\n",
      "Original layout is R1\n",
      "Testing 2024-07-02_FMP_C1100_R1\n",
      "Original layout is R1\n",
      "Testing 2024-06-25_FMP_C1087_R4\n",
      "Original layout is R4\n",
      "Testing 2024-07-02_FMP_C1101_R1\n",
      "Original layout is R1\n",
      "Testing 2024-06-23_FMP_C1090_R4\n",
      "Original layout is R4\n",
      "Testing 2024-06-23_FMP_C1091_R4\n",
      "Original layout is R4\n",
      "Testing 2024-06-14_FMP_C1091_R2\n",
      "Original layout is R2\n",
      "Testing 2024-07-02_FMP_C1096_R1\n",
      "Original layout is R1\n",
      "Testing 2024-06-25_FMP_C1085_R4\n",
      "Original layout is R4\n",
      "Testing 2024-06-15_FMP_C1093_R2\n",
      "Original layout is R2\n",
      "Testing 2024-06-05_FMP_C1086_R1\n",
      "Original layout is R1\n",
      "Testing 2024-06-05_FMP_C1087_R1\n",
      "Original layout is R1\n",
      "Testing 2024-06-14_FMP_C1089_R2\n",
      "Original layout is R2\n",
      "Testing 2024-06-23_FMP_C1089_R4\n",
      "Original layout is R4\n",
      "Testing 2024-06-23_FMP_C1092_R4\n",
      "Original layout is R4\n",
      "Testing 2024-06-05_FMP_C1088_R1\n",
      "Original layout is R1\n",
      "Testing 2024-06-05_FMP_C1090_R1\n",
      "Original layout is R1\n",
      "Testing 2024-06-05_FMP_C1084_R1\n",
      "Original layout is R1\n",
      "Testing 2024-07-02_FMP_C1097_R1\n",
      "Original layout is R1\n",
      "Testing 2024-06-14_FMP_C1090_R2\n",
      "Original layout is R2\n"
     ]
    }
   ],
   "source": [
    "imaging_date = []\n",
    "plate_name = []\n",
    "replicate_number = []\n",
    "plate_map_name = []\n",
    "plate_code_list = []\n",
    "user = []\n",
    "source = []\n",
    "picklist_name = []\n",
    "noco_corr = []\n",
    "tet_corr = []\n",
    "pos_ctrl_corr = []\n",
    "test_corr_noco_all = {}\n",
    "test_corr_tet_all = {}\n",
    "test_corr_pos_ctrl_all = {}\n",
    "\n",
    "for plate_code in dataframes_normalized_dict:\n",
    "    \n",
    "    layout_dictionary = {'R1':'Picklist_Replicate1.csv',\n",
    "                     'R2':'Picklist_Replicate2.csv',\n",
    "                     'R3':'Picklist_Replicate3.csv',\n",
    "                     'R4':'Picklist_Replicate4.csv'\n",
    "                    }\n",
    "\n",
    "    \n",
    "    print(f\"Testing {plate_code}\")\n",
    "    \n",
    "    dataframe_for_QC1 = dataframes_normalized_dict[plate_code]\n",
    "    \n",
    "    print(f\"Original layout is {dataframe_for_QC1['Metadata_replicate_number'][0]}\")\n",
    "    \n",
    "    features = CBE.get_feature_vector(dataframe_for_QC1)\n",
    "    metadata_dataframe = set(dataframe_for_QC1.columns) - set(features)\n",
    "        \n",
    "    ### convert sets to list\n",
    "    features_list = list(features)\n",
    "    metadata_list = list(metadata_dataframe)\n",
    "    \n",
    "    imaging_date.append(dataframe_for_QC1['Metadata_imaging_date'][0])\n",
    "    plate_name.append(dataframe_for_QC1['Metadata_plate_name'][0])\n",
    "    replicate_number.append(dataframe_for_QC1['Metadata_replicate_number'][0])\n",
    "    plate_map_name.append(dataframe_for_QC1['Metadata_plate_map_name'][0])\n",
    "    plate_code_list.append(plate_code)\n",
    "    user.append(dataframe_for_QC1['Metadata_user'][0])\n",
    "    source.append(dataframe_for_QC1['Metadata_source'][0])\n",
    "    picklist_name.append(dataframe_for_QC1['Metadata_picklist_name'][0])\n",
    "    noco_corr.append(get_pos_control_correlation(dataframe_for_QC1, 'Nocodazole'))\n",
    "    tet_corr.append(get_pos_control_correlation(dataframe_for_QC1, 'Tetrandrine'))\n",
    "    pos_ctrl_corr.append(get_median_pos_ctrl_correlation(dataframe_for_QC1))\n",
    "    \n",
    "    test_corr_noco = {}\n",
    "    test_corr_tet = {}\n",
    "    test_corr_pos_ctrl = {}\n",
    "    \n",
    "    # test through all layouts including original \n",
    "    for layout_number in layout_dictionary:\n",
    "    \n",
    "        # create copy from orginal QC dataframe\n",
    "        dataframe_for_QC_test = dataframe_for_QC1.copy()\n",
    "\n",
    "        # remove columns associated with original well info\n",
    "        dataframe_for_QC_test = dataframe_for_QC_test.drop(['Metadata_RoughID', 'Metadata_picklist_name', 'Metadata_Well'], axis=1)\n",
    "\n",
    "        # add ID to make sure we know and it does not contaminate our data\n",
    "        dataframe_for_QC_test['Metadata_picklist_name'] = 'test_layout_' + layout_number\n",
    "\n",
    "        plate_layout_path = os.path.join(annotation_dir, 'plate_layout', layout_dictionary[layout_number])\n",
    "        plate_layout = pd.read_csv(plate_layout_path)\n",
    "\n",
    "        # Issue in the plate layout the well numbers are not padded\n",
    "        plate_layout['Destination Well'] = plate_layout['Destination Well'].apply(pad_numbers)\n",
    "        plate_layout['Source Well'] = plate_layout['Source Well'].apply(pad_numbers)\n",
    "\n",
    "        # rename the columns accordingly\n",
    "        plate_layout = plate_layout.rename(columns={\"Destination Well\": \"Metadata_Well_randomized\"})\n",
    "        plate_layout = plate_layout.rename(columns={\"Source Well\": \"Metadata_Well\"})\n",
    "         \n",
    "        dataframe_for_QC_test = pd.merge(dataframe_for_QC_test, plate_layout, on='Metadata_Well_randomized')\n",
    "\n",
    "        # get info for pos. and neg. controls\n",
    "        controls_layout_path = os.path.join(annotation_dir, \"pos_neg_ctrl.csv\")\n",
    "        controls_layout = pd.read_csv(controls_layout_path)\n",
    "\n",
    "        # Issue in the plate layout the well numbers are not padded\n",
    "        controls_layout['Metadata_Well'] = controls_layout['Metadata_Well'].apply(pad_numbers)\n",
    "\n",
    "        dataframe_for_QC_test = pd.merge(dataframe_for_QC_test, controls_layout, on='Metadata_Well')\n",
    "        \n",
    "        test_corr_noco['Layout_test_noco_' + layout_number] = get_pos_control_correlation(dataframe_for_QC_test, 'Nocodazole')\n",
    "        test_corr_tet['Layout_test_tet_' + layout_number] = get_pos_control_correlation(dataframe_for_QC_test, 'Tetrandrine')\n",
    "        test_corr_pos_ctrl['Layout_test_pos_ctrl_' + layout_number] = get_median_pos_ctrl_correlation(dataframe_for_QC_test)\n",
    "    \n",
    "        del dataframe_for_QC_test\n",
    "        gc.collect()\n",
    "        \n",
    "        \n",
    "    test_corr_noco_all[plate_code] = test_corr_noco\n",
    "    test_corr_tet_all[plate_code] = test_corr_tet\n",
    "    test_corr_pos_ctrl_all[plate_code] = test_corr_pos_ctrl\n",
    "    \n",
    "\n",
    "quality_control_1 = {\n",
    "    'Metadata_imaging_date': imaging_date,\n",
    "    'Metadata_plate_name': plate_name,\n",
    "    'Metadata_replicate_number': replicate_number,\n",
    "    'Metadata_plate_map_name': plate_map_name,\n",
    "    'Metadata_plate_code': plate_code_list,\n",
    "    'Metadata_user': user,\n",
    "    'Metadata_source':source,\n",
    "    'Metadata_noco_corr': noco_corr,\n",
    "    'Metadata_tet_corr': tet_corr,\n",
    "    'Metadata_pos_ctrl_corr': pos_ctrl_corr,\n",
    "}"
   ]
  },
  {
   "cell_type": "code",
   "execution_count": 24,
   "id": "085fbe83",
   "metadata": {},
   "outputs": [],
   "source": [
    "quality_control_1_df = pd.DataFrame(quality_control_1)\n",
    "\n",
    "quality_control_1_noco_test_corr = pd.DataFrame.from_dict(test_corr_noco_all, orient='index')\n",
    "quality_control_1_noco_test_corr = quality_control_1_noco_test_corr.reset_index().rename(columns={\"index\":\"Metadata_plate_code\"})\n",
    "\n",
    "quality_control_1_tet_test_corr = pd.DataFrame.from_dict(test_corr_tet_all, orient='index')\n",
    "quality_control_1_tet_test_corr = quality_control_1_tet_test_corr.reset_index().rename(columns={\"index\":\"Metadata_plate_code\"})\n",
    "\n",
    "quality_control_1_pos_ctrl_corr = pd.DataFrame.from_dict(test_corr_pos_ctrl_all, orient='index')\n",
    "quality_control_1_pos_ctrl_corr = quality_control_1_pos_ctrl_corr.reset_index().rename(columns={\"index\":\"Metadata_plate_code\"})\n",
    "\n",
    "test_correlations = pd.merge(quality_control_1_noco_test_corr, quality_control_1_tet_test_corr, on='Metadata_plate_code')\n",
    "test_correlations = pd.merge(test_correlations, quality_control_1_pos_ctrl_corr, on='Metadata_plate_code')"
   ]
  },
  {
   "cell_type": "code",
   "execution_count": 25,
   "id": "41c42243",
   "metadata": {},
   "outputs": [],
   "source": [
    "quality_control_1_df = pd.DataFrame(quality_control_1) \n",
    "\n",
    "file_path_quality_control_1 = os.path.join(output_path, 'quality_control_1.csv')\n",
    "quality_control_1_df .to_csv(file_path_quality_control_1, index=False)\n",
    "\n",
    "file_path_test_correlations = os.path.join(output_path, 'test_correlations.csv')\n",
    "test_correlations.to_csv(file_path_test_correlations, index=False)"
   ]
  },
  {
   "cell_type": "code",
   "execution_count": 26,
   "id": "23e592b2",
   "metadata": {},
   "outputs": [],
   "source": [
    "# TODO: Determine a baseline"
   ]
  },
  {
   "cell_type": "code",
   "execution_count": 27,
   "id": "5034b3c2",
   "metadata": {},
   "outputs": [],
   "source": [
    "quality_control_1_melt = pd.melt(quality_control_1_df, \n",
    "        id_vars = [\"Metadata_imaging_date\",\n",
    "                   \"Metadata_plate_name\",\n",
    "                   \"Metadata_replicate_number\",\n",
    "                   \"Metadata_plate_map_name\",\n",
    "                   \"Metadata_plate_code\",\n",
    "                   \"Metadata_user\",\n",
    "                   \"Metadata_source\"],\n",
    "        value_vars = [\"Metadata_noco_corr\", \n",
    "                      \"Metadata_tet_corr\", \n",
    "                      \"Metadata_pos_ctrl_corr\"],\n",
    "        var_name=\"Tested pair\",\n",
    "        value_name=\"Correlation\")"
   ]
  },
  {
   "cell_type": "code",
   "execution_count": 28,
   "id": "6b96d5d2",
   "metadata": {},
   "outputs": [],
   "source": [
    "FMP_quality_control_1 = quality_control_1_melt.loc[quality_control_1_melt['Metadata_source'] == 'FMP']\n",
    "USC_quality_control_1 = quality_control_1_melt.loc[quality_control_1_melt['Metadata_source'] == 'USC']\n",
    "IMTM_quality_control_1 = quality_control_1_melt.loc[quality_control_1_melt['Metadata_source'] == 'IMTM']"
   ]
  },
  {
   "cell_type": "code",
   "execution_count": 29,
   "id": "1ad706de",
   "metadata": {},
   "outputs": [
    {
     "name": "stdout",
     "output_type": "stream",
     "text": [
      "Error: directory cannot be created\n"
     ]
    }
   ],
   "source": [
    "# Cell Number output for FMP\n",
    "fmp_figure_path = os.path.join(output_path + os.sep + 'FMP')  \n",
    "\n",
    "try:\n",
    "    os.mkdir(fmp_figure_path)\n",
    "\n",
    "except OSError as error:\n",
    "    print(\"Error: directory cannot be created\") "
   ]
  },
  {
   "cell_type": "code",
   "execution_count": 30,
   "id": "cb012ecb",
   "metadata": {},
   "outputs": [
    {
     "name": "stdout",
     "output_type": "stream",
     "text": [
      "Error: directory cannot be created\n"
     ]
    }
   ],
   "source": [
    "# Cell Number output for FMP\n",
    "usc_figure_path = os.path.join(output_path + os.sep + 'USC')  \n",
    "\n",
    "try:\n",
    "    os.mkdir(usc_figure_path)\n",
    "\n",
    "except OSError as error:\n",
    "    print(\"Error: directory cannot be created\") "
   ]
  },
  {
   "cell_type": "code",
   "execution_count": 31,
   "id": "a6e14e46",
   "metadata": {},
   "outputs": [
    {
     "name": "stdout",
     "output_type": "stream",
     "text": [
      "Error: directory cannot be created\n"
     ]
    }
   ],
   "source": [
    "# Cell Number output for FMP\n",
    "IMTM_figure_path = os.path.join(output_path + os.sep + 'IMTM')  \n",
    "\n",
    "try:\n",
    "    os.mkdir(IMTM_figure_path)\n",
    "\n",
    "except OSError as error:\n",
    "    print(\"Error: directory cannot be created\") "
   ]
  },
  {
   "cell_type": "code",
   "execution_count": 32,
   "id": "77b861d3",
   "metadata": {},
   "outputs": [
    {
     "data": {
      "text/plain": [
       "<Figure size 1008x504 with 0 Axes>"
      ]
     },
     "metadata": {},
     "output_type": "display_data"
    },
    {
     "data": {
      "image/png": "[encoded data removed]",
      "text/plain": [
       "<Figure size 589.625x432 with 1 Axes>"
      ]
     },
     "metadata": {
      "needs_background": "light"
     },
     "output_type": "display_data"
    },
    {
     "data": {
      "text/plain": [
       "<Figure size 1008x504 with 0 Axes>"
      ]
     },
     "metadata": {},
     "output_type": "display_data"
    },
    {
     "data": {
      "image/png": "[encoded data removed]",
      "text/plain": [
       "<Figure size 589.625x432 with 1 Axes>"
      ]
     },
     "metadata": {
      "needs_background": "light"
     },
     "output_type": "display_data"
    },
    {
     "data": {
      "text/plain": [
       "<Figure size 1008x504 with 0 Axes>"
      ]
     },
     "metadata": {},
     "output_type": "display_data"
    },
    {
     "data": {
      "image/png": "[encoded data removed]",
      "text/plain": [
       "<Figure size 589.625x432 with 1 Axes>"
      ]
     },
     "metadata": {
      "needs_background": "light"
     },
     "output_type": "display_data"
    },
    {
     "data": {
      "text/plain": [
       "<Figure size 1008x504 with 0 Axes>"
      ]
     },
     "metadata": {},
     "output_type": "display_data"
    },
    {
     "data": {
      "image/png": "[encoded data removed]",
      "text/plain": [
       "<Figure size 589.625x432 with 1 Axes>"
      ]
     },
     "metadata": {
      "needs_background": "light"
     },
     "output_type": "display_data"
    },
    {
     "data": {
      "text/plain": [
       "<Figure size 1008x504 with 0 Axes>"
      ]
     },
     "metadata": {},
     "output_type": "display_data"
    },
    {
     "data": {
      "image/png": "[encoded data removed]",
      "text/plain": [
       "<Figure size 589.625x432 with 1 Axes>"
      ]
     },
     "metadata": {
      "needs_background": "light"
     },
     "output_type": "display_data"
    },
    {
     "data": {
      "text/plain": [
       "<Figure size 1008x504 with 0 Axes>"
      ]
     },
     "metadata": {},
     "output_type": "display_data"
    },
    {
     "data": {
      "image/png": "[encoded data removed]",
      "text/plain": [
       "<Figure size 589.625x432 with 1 Axes>"
      ]
     },
     "metadata": {
      "needs_background": "light"
     },
     "output_type": "display_data"
    },
    {
     "data": {
      "text/plain": [
       "<Figure size 1008x504 with 0 Axes>"
      ]
     },
     "metadata": {},
     "output_type": "display_data"
    },
    {
     "data": {
      "image/png": "[encoded data removed]",
      "text/plain": [
       "<Figure size 589.625x432 with 1 Axes>"
      ]
     },
     "metadata": {
      "needs_background": "light"
     },
     "output_type": "display_data"
    },
    {
     "data": {
      "text/plain": [
       "<Figure size 1008x504 with 0 Axes>"
      ]
     },
     "metadata": {},
     "output_type": "display_data"
    },
    {
     "data": {
      "image/png": "[encoded data removed]",
      "text/plain": [
       "<Figure size 589.625x432 with 1 Axes>"
      ]
     },
     "metadata": {
      "needs_background": "light"
     },
     "output_type": "display_data"
    }
   ],
   "source": [
    "# TODO: Refactor as function\n",
    "# TODO: Update visualizations\n",
    "# TODO: Order plates by imaging time\n",
    "# TODO: Batches are separated if imaging time is past midnight > need heuristic there\n",
    "imaging_date_list = FMP_quality_control_1[\"Metadata_imaging_date\"].unique()\n",
    "imaging_date_list.sort()\n",
    "\n",
    "for date in imaging_date_list:\n",
    "    \n",
    "    FMP_qc = FMP_quality_control_1.loc[FMP_quality_control_1[\"Metadata_imaging_date\"] == date]\n",
    "    \n",
    "    FMP_qc = FMP_qc.replace(to_replace=\"Metadata_noco_corr\", value=\"Nocodazole wells\")\n",
    "    FMP_qc = FMP_qc.replace(to_replace=\"Metadata_tet_corr\", value=\"Tetrandrine wells\")\n",
    "    FMP_qc = FMP_qc.replace(to_replace=\"Metadata_pos_ctrl_corr\", value=\"Median positive controls\")\n",
    "    \n",
    "    plt.figure(figsize=(14, 7))\n",
    "    \n",
    "    sns.catplot(FMP_qc,\n",
    "                       kind=\"bar\",\n",
    "                       x=\"Metadata_plate_map_name\",\n",
    "                       y=\"Correlation\",\n",
    "                       hue=\"Tested pair\",\n",
    "                       height=6,\n",
    "                       aspect=1)\n",
    "    \n",
    "    plt.title(date, loc = 'left',fontsize= 16)\n",
    "    plt.xlabel('Plate Map Name')\n",
    "    plt.ylabel('Correlation')\n",
    "    plt.ylim(0, 1)\n",
    "    plt.xticks(rotation=45)\n",
    "    \n",
    "    plt.savefig(fmp_figure_path + os.sep + date + '_' + 'FMP_IntraPlate.pdf', format='pdf', bbox_inches = \"tight\")\n",
    "    "
   ]
  },
  {
   "cell_type": "code",
   "execution_count": 33,
   "id": "8e125b42",
   "metadata": {},
   "outputs": [
    {
     "name": "stderr",
     "output_type": "stream",
     "text": [
      "<ipython-input-33-c8f75f3c2e25>:12: RuntimeWarning: More than 20 figures have been opened. Figures created through the pyplot interface (`matplotlib.pyplot.figure`) are retained until explicitly closed and may consume too much memory. (To control this warning, see the rcParam `figure.max_open_warning`). Consider using `matplotlib.pyplot.close()`.\n",
      "  plt.figure(figsize=(14, 7))\n"
     ]
    },
    {
     "data": {
      "text/plain": [
       "<Figure size 1008x504 with 0 Axes>"
      ]
     },
     "metadata": {},
     "output_type": "display_data"
    },
    {
     "data": {
      "image/png": "[encoded data removed]",
      "text/plain": [
       "<Figure size 589.625x432 with 1 Axes>"
      ]
     },
     "metadata": {
      "needs_background": "light"
     },
     "output_type": "display_data"
    },
    {
     "data": {
      "text/plain": [
       "<Figure size 1008x504 with 0 Axes>"
      ]
     },
     "metadata": {},
     "output_type": "display_data"
    },
    {
     "data": {
      "image/png": "[encoded data removed]",
      "text/plain": [
       "<Figure size 589.625x432 with 1 Axes>"
      ]
     },
     "metadata": {
      "needs_background": "light"
     },
     "output_type": "display_data"
    },
    {
     "data": {
      "text/plain": [
       "<Figure size 1008x504 with 0 Axes>"
      ]
     },
     "metadata": {},
     "output_type": "display_data"
    },
    {
     "data": {
      "image/png": "[encoded data removed]",
      "text/plain": [
       "<Figure size 589.625x432 with 1 Axes>"
      ]
     },
     "metadata": {
      "needs_background": "light"
     },
     "output_type": "display_data"
    },
    {
     "data": {
      "text/plain": [
       "<Figure size 1008x504 with 0 Axes>"
      ]
     },
     "metadata": {},
     "output_type": "display_data"
    },
    {
     "data": {
      "image/png": "[encoded data removed]",
      "text/plain": [
       "<Figure size 589.625x432 with 1 Axes>"
      ]
     },
     "metadata": {
      "needs_background": "light"
     },
     "output_type": "display_data"
    },
    {
     "data": {
      "text/plain": [
       "<Figure size 1008x504 with 0 Axes>"
      ]
     },
     "metadata": {},
     "output_type": "display_data"
    },
    {
     "data": {
      "image/png": "[encoded data removed]",
      "text/plain": [
       "<Figure size 589.625x432 with 1 Axes>"
      ]
     },
     "metadata": {
      "needs_background": "light"
     },
     "output_type": "display_data"
    },
    {
     "data": {
      "text/plain": [
       "<Figure size 1008x504 with 0 Axes>"
      ]
     },
     "metadata": {},
     "output_type": "display_data"
    },
    {
     "data": {
      "image/png": "[encoded data removed]",
      "text/plain": [
       "<Figure size 589.625x432 with 1 Axes>"
      ]
     },
     "metadata": {
      "needs_background": "light"
     },
     "output_type": "display_data"
    },
    {
     "data": {
      "text/plain": [
       "<Figure size 1008x504 with 0 Axes>"
      ]
     },
     "metadata": {},
     "output_type": "display_data"
    },
    {
     "data": {
      "image/png": "[encoded data removed]",
      "text/plain": [
       "<Figure size 589.625x432 with 1 Axes>"
      ]
     },
     "metadata": {
      "needs_background": "light"
     },
     "output_type": "display_data"
    },
    {
     "data": {
      "text/plain": [
       "<Figure size 1008x504 with 0 Axes>"
      ]
     },
     "metadata": {},
     "output_type": "display_data"
    },
    {
     "data": {
      "image/png": "[encoded data removed]",
      "text/plain": [
       "<Figure size 589.625x432 with 1 Axes>"
      ]
     },
     "metadata": {
      "needs_background": "light"
     },
     "output_type": "display_data"
    },
    {
     "data": {
      "text/plain": [
       "<Figure size 1008x504 with 0 Axes>"
      ]
     },
     "metadata": {},
     "output_type": "display_data"
    },
    {
     "data": {
      "image/png": "[encoded data removed]",
      "text/plain": [
       "<Figure size 589.625x432 with 1 Axes>"
      ]
     },
     "metadata": {
      "needs_background": "light"
     },
     "output_type": "display_data"
    },
    {
     "data": {
      "text/plain": [
       "<Figure size 1008x504 with 0 Axes>"
      ]
     },
     "metadata": {},
     "output_type": "display_data"
    },
    {
     "data": {
      "image/png": "[encoded data removed]",
      "text/plain": [
       "<Figure size 589.625x432 with 1 Axes>"
      ]
     },
     "metadata": {
      "needs_background": "light"
     },
     "output_type": "display_data"
    },
    {
     "data": {
      "text/plain": [
       "<Figure size 1008x504 with 0 Axes>"
      ]
     },
     "metadata": {},
     "output_type": "display_data"
    },
    {
     "data": {
      "image/png": "[encoded data removed]",
      "text/plain": [
       "<Figure size 589.625x432 with 1 Axes>"
      ]
     },
     "metadata": {
      "needs_background": "light"
     },
     "output_type": "display_data"
    },
    {
     "data": {
      "text/plain": [
       "<Figure size 1008x504 with 0 Axes>"
      ]
     },
     "metadata": {},
     "output_type": "display_data"
    },
    {
     "data": {
      "image/png": "[encoded data removed]",
      "text/plain": [
       "<Figure size 589.625x432 with 1 Axes>"
      ]
     },
     "metadata": {
      "needs_background": "light"
     },
     "output_type": "display_data"
    }
   ],
   "source": [
    "imaging_date_list = USC_quality_control_1[\"Metadata_imaging_date\"].unique()\n",
    "imaging_date_list.sort()\n",
    "\n",
    "for date in imaging_date_list:\n",
    "    \n",
    "    USC_qc = USC_quality_control_1.loc[USC_quality_control_1[\"Metadata_imaging_date\"] == date]\n",
    "    \n",
    "    USC_qc = USC_qc.replace(to_replace=\"Metadata_noco_corr\", value=\"Nocodazole wells\")\n",
    "    USC_qc = USC_qc.replace(to_replace=\"Metadata_tet_corr\", value=\"Tetrandrine wells\")\n",
    "    USC_qc = USC_qc.replace(to_replace=\"Metadata_pos_ctrl_corr\", value=\"Median positive controls\")\n",
    "    \n",
    "    plt.figure(figsize=(14, 7))\n",
    "    \n",
    "    sns.catplot(USC_qc,\n",
    "                kind=\"bar\",\n",
    "                x=\"Metadata_plate_map_name\",\n",
    "                y=\"Correlation\",\n",
    "                hue=\"Tested pair\",\n",
    "                height=6,\n",
    "                aspect=1)\n",
    "    \n",
    "    plt.title(date, loc = 'left',fontsize= 16)\n",
    "    plt.xlabel('Plate Map Name')\n",
    "    plt.ylabel('Correlation')\n",
    "    plt.ylim(0, 1)\n",
    "    plt.xticks(rotation=45)\n",
    "    \n",
    "    plt.savefig(usc_figure_path + os.sep + date + '_' + 'USC_IntraPlate.pdf', format='pdf', bbox_inches = \"tight\")"
   ]
  },
  {
   "cell_type": "code",
   "execution_count": 34,
   "id": "b7f57f1d",
   "metadata": {},
   "outputs": [
    {
     "data": {
      "text/plain": [
       "<Figure size 1008x504 with 0 Axes>"
      ]
     },
     "metadata": {},
     "output_type": "display_data"
    },
    {
     "data": {
      "image/png": "[encoded data removed]",
      "text/plain": [
       "<Figure size 589.625x432 with 1 Axes>"
      ]
     },
     "metadata": {
      "needs_background": "light"
     },
     "output_type": "display_data"
    },
    {
     "data": {
      "text/plain": [
       "<Figure size 1008x504 with 0 Axes>"
      ]
     },
     "metadata": {},
     "output_type": "display_data"
    },
    {
     "data": {
      "image/png": "[encoded data removed]",
      "text/plain": [
       "<Figure size 589.625x432 with 1 Axes>"
      ]
     },
     "metadata": {
      "needs_background": "light"
     },
     "output_type": "display_data"
    },
    {
     "data": {
      "text/plain": [
       "<Figure size 1008x504 with 0 Axes>"
      ]
     },
     "metadata": {},
     "output_type": "display_data"
    },
    {
     "data": {
      "image/png": "[encoded data removed]",
      "text/plain": [
       "<Figure size 589.625x432 with 1 Axes>"
      ]
     },
     "metadata": {
      "needs_background": "light"
     },
     "output_type": "display_data"
    },
    {
     "data": {
      "text/plain": [
       "<Figure size 1008x504 with 0 Axes>"
      ]
     },
     "metadata": {},
     "output_type": "display_data"
    },
    {
     "data": {
      "image/png": "[encoded data removed]",
      "text/plain": [
       "<Figure size 589.625x432 with 1 Axes>"
      ]
     },
     "metadata": {
      "needs_background": "light"
     },
     "output_type": "display_data"
    },
    {
     "data": {
      "text/plain": [
       "<Figure size 1008x504 with 0 Axes>"
      ]
     },
     "metadata": {},
     "output_type": "display_data"
    },
    {
     "data": {
      "image/png": "[encoded data removed]",
      "text/plain": [
       "<Figure size 589.625x432 with 1 Axes>"
      ]
     },
     "metadata": {
      "needs_background": "light"
     },
     "output_type": "display_data"
    },
    {
     "data": {
      "text/plain": [
       "<Figure size 1008x504 with 0 Axes>"
      ]
     },
     "metadata": {},
     "output_type": "display_data"
    },
    {
     "data": {
      "image/png": "[encoded data removed]",
      "text/plain": [
       "<Figure size 589.625x432 with 1 Axes>"
      ]
     },
     "metadata": {
      "needs_background": "light"
     },
     "output_type": "display_data"
    },
    {
     "data": {
      "text/plain": [
       "<Figure size 1008x504 with 0 Axes>"
      ]
     },
     "metadata": {},
     "output_type": "display_data"
    },
    {
     "data": {
      "image/png": "[encoded data removed]",
      "text/plain": [
       "<Figure size 589.625x432 with 1 Axes>"
      ]
     },
     "metadata": {
      "needs_background": "light"
     },
     "output_type": "display_data"
    }
   ],
   "source": [
    "imaging_date_list = IMTM_quality_control_1[\"Metadata_imaging_date\"].unique()\n",
    "imaging_date_list.sort()\n",
    "\n",
    "for date in imaging_date_list:\n",
    "    \n",
    "    IMTM_qc = IMTM_quality_control_1.loc[IMTM_quality_control_1[\"Metadata_imaging_date\"] == date]\n",
    "    \n",
    "    IMTM_qc = IMTM_qc.replace(to_replace=\"Metadata_noco_corr\", value=\"Nocodazole wells\")\n",
    "    IMTM_qc = IMTM_qc.replace(to_replace=\"Metadata_tet_corr\", value=\"Tetrandrine wells\")\n",
    "    IMTM_qc = IMTM_qc.replace(to_replace=\"Metadata_pos_ctrl_corr\", value=\"Median positive controls\")\n",
    "    \n",
    "    plt.figure(figsize=(14, 7))\n",
    "    \n",
    "    sns.catplot(IMTM_qc,\n",
    "                kind=\"bar\",\n",
    "                x=\"Metadata_plate_map_name\",\n",
    "                y=\"Correlation\",\n",
    "                hue=\"Tested pair\",\n",
    "                height=6,\n",
    "                aspect=1)\n",
    "    \n",
    "    plt.title(date, loc = 'left',fontsize= 16)\n",
    "    plt.xlabel('Plate Map Name')\n",
    "    plt.ylabel('Correlation')\n",
    "    plt.ylim(0, 1)\n",
    "    plt.xticks(rotation=45)\n",
    "    \n",
    "    plt.savefig(IMTM_figure_path + os.sep + date + '_' + 'IMTM_IntraPlate.pdf', format='pdf', bbox_inches = \"tight\")"
   ]
  },
  {
   "cell_type": "markdown",
   "id": "c1068581",
   "metadata": {},
   "source": [
    "# Other metrics"
   ]
  },
  {
   "cell_type": "code",
   "execution_count": 107,
   "id": "5ea6151f",
   "metadata": {},
   "outputs": [],
   "source": [
    "# Correlation distance\n",
    "# perfectly correlated with correlation coefficient equal to 1 has zero distance \n",
    "# perfectly negatively correlated with correlation coefficient equal to -1 has maximal distance at 2\n",
    "# inverse of correlation and only looks at the angle/similarity among patterns (sort of like normalization). \n",
    "# Correlational distance goes from 0 - 2, with 0 being PERFECT correlation, 1 being no correlation, and 2 being PERFECT ANTICORRELATION. "
   ]
  },
  {
   "cell_type": "code",
   "execution_count": null,
   "id": "0de4db4d",
   "metadata": {},
   "outputs": [],
   "source": [
    "def get_pos_control_distance(input_dataframe, pos_ctrl_string):\n",
    "    \n",
    "    pos_ctrl_dataframe = input_dataframe.loc[input_dataframe['Metadata_RoughID'] == pos_ctrl_string]\n",
    "    well_1_features = pos_ctrl_dataframe.iloc[0][features].values\n",
    "    well_2_features = pos_ctrl_dataframe.iloc[1][features].values\n",
    "\n",
    "    return correlation(well_1_features, well_2_features, centered = True)"
   ]
  },
  {
   "cell_type": "code",
   "execution_count": null,
   "id": "d4626282",
   "metadata": {},
   "outputs": [],
   "source": [
    "print(get_pos_control_distance(test_df, 'Nocodazole'))\n",
    "print(get_pos_control_distance(test_df, 'Tetrandrine'))"
   ]
  },
  {
   "cell_type": "code",
   "execution_count": 115,
   "id": "99fae4d3",
   "metadata": {
    "scrolled": true
   },
   "outputs": [
    {
     "data": {
      "text/plain": [
       "1.0002360393902132"
      ]
     },
     "execution_count": 115,
     "metadata": {},
     "output_type": "execute_result"
    }
   ],
   "source": [
    "# Should the DMSO be considered for comparison\n",
    "# Does this make sense after normalization?\n",
    "dmso_dataframe = dataframe_normalized.loc[dataframe['Metadata_RoughID'] == 'DMSO']\n",
    "dmso_median_features = dmso_dataframe[features].median(axis=0)\n",
    "\n",
    "corr_noco_dmso = correlation(nocodazole_median_features, dmso_median_features, centered = True)\n",
    "corr_noco_dmso\n",
    "\n",
    "corr_tet_dmso = correlation(tetrandrine_median_features, dmso_median_features, centered = True)\n",
    "corr_tet_dmso"
   ]
  },
  {
   "cell_type": "markdown",
   "id": "854dd3e0",
   "metadata": {},
   "source": [
    "# Other correlation based comparison"
   ]
  },
  {
   "cell_type": "code",
   "execution_count": 118,
   "id": "8e4f5f9a",
   "metadata": {},
   "outputs": [],
   "source": [
    "def feature_corr(df1, df2):\n",
    "    \n",
    "    corr = np.corrcoef(df1.astype(float), df2.astype(float))\n",
    "    np.fill_diagonal(corr, np.nan)\n",
    "    \n",
    "    return np.nanmedian(corr)"
   ]
  },
  {
   "cell_type": "code",
   "execution_count": 119,
   "id": "71969ee4",
   "metadata": {},
   "outputs": [
    {
     "data": {
      "text/plain": [
       "0.4597470817190612"
      ]
     },
     "execution_count": 119,
     "metadata": {},
     "output_type": "execute_result"
    }
   ],
   "source": [
    "feature_corr(tetrandrine_median_features, nocodazole_median_features)"
   ]
  },
  {
   "cell_type": "code",
   "execution_count": 120,
   "id": "34a0da84",
   "metadata": {},
   "outputs": [
    {
     "data": {
      "text/plain": [
       "0.9863459123830671"
      ]
     },
     "execution_count": 120,
     "metadata": {},
     "output_type": "execute_result"
    }
   ],
   "source": [
    "feature_corr(tetrandrine_well_1_features, tetrandrine_well_2_features)"
   ]
  },
  {
   "cell_type": "code",
   "execution_count": 121,
   "id": "f096694a",
   "metadata": {},
   "outputs": [
    {
     "data": {
      "text/plain": [
       "0.9720824810732367"
      ]
     },
     "execution_count": 121,
     "metadata": {},
     "output_type": "execute_result"
    }
   ],
   "source": [
    "feature_corr(nocodazole_well_1_features, nocodazole_well_2_features)"
   ]
  },
  {
   "cell_type": "code",
   "execution_count": 122,
   "id": "417bb9f8",
   "metadata": {},
   "outputs": [],
   "source": [
    "# Overall seems to yield useful values\n",
    "# We can compute consensus values also then\n",
    "# Test to see what happens if it fails i.e. wrong platelayout is used\n",
    "# Thresholds could be: <0.3 for corr\n",
    "# >0.3 for non correlation\n",
    "# Oberservation from real world data will help\n",
    "# Also again feature selection will make this more robust\n",
    "# An alternative could be to use DMSO independent normalization\n",
    "# At least for the detection of Plate layout issue"
   ]
  },
  {
   "cell_type": "markdown",
   "id": "1beb7c31",
   "metadata": {},
   "source": [
    "\n",
    "# Comparison over plates"
   ]
  },
  {
   "cell_type": "code",
   "execution_count": 33,
   "id": "a98b02d4",
   "metadata": {},
   "outputs": [
    {
     "ename": "NameError",
     "evalue": "name 'other_dataframe_normalized' is not defined",
     "output_type": "error",
     "traceback": [
      "\u001b[0;31m---------------------------------------------------------------------------\u001b[0m",
      "\u001b[0;31mNameError\u001b[0m                                 Traceback (most recent call last)",
      "Cell \u001b[0;32mIn[33], line 4\u001b[0m\n\u001b[1;32m      1\u001b[0m \u001b[38;5;66;03m# Filter for pos. control tetrandrine\u001b[39;00m\n\u001b[1;32m      2\u001b[0m \u001b[38;5;66;03m# Metadata_RoughID = Tetrandrine\u001b[39;00m\n\u001b[1;32m      3\u001b[0m \u001b[38;5;66;03m# Should be C24 and D24\u001b[39;00m\n\u001b[0;32m----> 4\u001b[0m other_tetrandrine_dataframe \u001b[38;5;241m=\u001b[39m \u001b[43mother_dataframe_normalized\u001b[49m\u001b[38;5;241m.\u001b[39mloc[dataframe[\u001b[38;5;124m'\u001b[39m\u001b[38;5;124mMetadata_RoughID\u001b[39m\u001b[38;5;124m'\u001b[39m] \u001b[38;5;241m==\u001b[39m \u001b[38;5;124m'\u001b[39m\u001b[38;5;124mTetrandrine\u001b[39m\u001b[38;5;124m'\u001b[39m]\n\u001b[1;32m      6\u001b[0m \u001b[38;5;66;03m# get features for first and second tet well\u001b[39;00m\n\u001b[1;32m      7\u001b[0m other_tetrandrine_median_features \u001b[38;5;241m=\u001b[39m other_tetrandrine_dataframe[features]\u001b[38;5;241m.\u001b[39mmedian(axis\u001b[38;5;241m=\u001b[39m\u001b[38;5;241m0\u001b[39m)\n",
      "\u001b[0;31mNameError\u001b[0m: name 'other_dataframe_normalized' is not defined"
     ]
    }
   ],
   "source": [
    "# Filter for pos. control tetrandrine\n",
    "# Metadata_RoughID = Tetrandrine\n",
    "# Should be C24 and D24\n",
    "other_tetrandrine_dataframe = other_dataframe_normalized.loc[dataframe['Metadata_RoughID'] == 'Tetrandrine']\n",
    "\n",
    "# get features for first and second tet well\n",
    "other_tetrandrine_median_features = other_tetrandrine_dataframe[features].median(axis=0)\n",
    "\n",
    "correlation(other_tetrandrine_median_features, tetrandrine_median_features, centered = True)"
   ]
  },
  {
   "cell_type": "code",
   "execution_count": null,
   "id": "d7619997",
   "metadata": {},
   "outputs": [
    {
     "data": {
      "text/plain": [
       "0.0958805673067663"
      ]
     },
     "execution_count": 149,
     "metadata": {},
     "output_type": "execute_result"
    }
   ],
   "source": [
    "# Filter pos. ctrl Nocodazole\n",
    "# Metadata_RoughID = Nocodazole\n",
    "# Should be A24 and B24\n",
    "other_nocodazole_dataframe = other_dataframe_normalized.loc[dataframe['Metadata_RoughID'] == 'Nocodazole']\n",
    "\n",
    "# get features for first and second noco well\n",
    "other_nocodazole_median_features = other_nocodazole_dataframe[features].median(axis=0)\n",
    "correlation(nocodazole_median_features, other_nocodazole_median_features, centered = True)"
   ]
  },
  {
   "cell_type": "code",
   "execution_count": null,
   "id": "ad06ba3f",
   "metadata": {},
   "outputs": [
    {
     "data": {
      "text/plain": [
       "0.3500988296480524"
      ]
     },
     "execution_count": 150,
     "metadata": {},
     "output_type": "execute_result"
    }
   ],
   "source": [
    "correlation(other_tetrandrine_median_features, other_nocodazole_median_features)"
   ]
  },
  {
   "cell_type": "code",
   "execution_count": null,
   "id": "2f231588",
   "metadata": {},
   "outputs": [
    {
     "data": {
      "text/plain": [
       "0.0"
      ]
     },
     "execution_count": 151,
     "metadata": {},
     "output_type": "execute_result"
    }
   ],
   "source": [
    "# Filter pos. ctrl Nocodazole\n",
    "# Metadata_RoughID = Nocodazole\n",
    "# Should be A24 and B24\n",
    "other_dmso_dataframe = other_dataframe_normalized.loc[dataframe['Metadata_RoughID'] == 'DMSO']\n",
    "other_dmso_median_features = dmso_dataframe[features].median(axis=0)\n",
    "\n",
    "correlation(other_dmso_median_features, dmso_median_features, centered = True)"
   ]
  },
  {
   "cell_type": "code",
   "execution_count": null,
   "id": "f904ce30",
   "metadata": {},
   "outputs": [
    {
     "data": {
      "text/plain": [
       "0.3148647264898983"
      ]
     },
     "execution_count": 152,
     "metadata": {},
     "output_type": "execute_result"
    }
   ],
   "source": [
    "feature_corr(other_tetrandrine_median_features, tetrandrine_median_features)"
   ]
  },
  {
   "cell_type": "code",
   "execution_count": null,
   "id": "e3a21989",
   "metadata": {},
   "outputs": [
    {
     "data": {
      "text/plain": [
       "0.904119432693222"
      ]
     },
     "execution_count": 153,
     "metadata": {},
     "output_type": "execute_result"
    }
   ],
   "source": [
    "feature_corr(other_nocodazole_median_features, nocodazole_median_features)"
   ]
  },
  {
   "cell_type": "code",
   "execution_count": null,
   "id": "f014b457",
   "metadata": {},
   "outputs": [
    {
     "data": {
      "text/plain": [
       "1.0"
      ]
     },
     "execution_count": 154,
     "metadata": {},
     "output_type": "execute_result"
    }
   ],
   "source": [
    "feature_corr(other_dmso_median_features, dmso_median_features)"
   ]
  },
  {
   "cell_type": "code",
   "execution_count": null,
   "id": "3de82dde",
   "metadata": {},
   "outputs": [],
   "source": [
    "# TODO: Automate over all available plates\n",
    "# TODO: Record as table with date, plate_names, source, user and other information"
   ]
  },
  {
   "cell_type": "markdown",
   "id": "5f780b32",
   "metadata": {},
   "source": [
    "# Next Layer of implementation"
   ]
  },
  {
   "cell_type": "code",
   "execution_count": null,
   "id": "604796d8",
   "metadata": {},
   "outputs": [],
   "source": [
    "# TODO: QC visualization: per plate, per batch, per source\n",
    "# TODO: Setup plate layout test to check if faulty plate layout will get detected\n",
    "# TODO: Check if alternative normalization method that is independent of the layout\n",
    "# TODO: Implement Correlation of pos. & neg. controls over time and track over time"
   ]
  }
 ],
 "metadata": {
  "kernelspec": {
   "display_name": "Python 3",
   "language": "python",
   "name": "python3"
  },
  "language_info": {
   "codemirror_mode": {
    "name": "ipython",
    "version": 3
   },
   "file_extension": ".py",
   "mimetype": "text/x-python",
   "name": "python",
   "nbconvert_exporter": "python",
   "pygments_lexer": "ipython3",
   "version": "3.9.16"
  }
 },
 "nbformat": 4,
 "nbformat_minor": 5
}
