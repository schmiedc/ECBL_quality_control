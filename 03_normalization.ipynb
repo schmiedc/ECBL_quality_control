{
 "cells": [
  {
   "cell_type": "code",
   "execution_count": 98,
   "id": "1ca90cd2",
   "metadata": {},
   "outputs": [],
   "source": [
    "import time\n",
    "from datetime import date\n",
    "import pandas as pd\n",
    "import os\n",
    "import glob\n",
    "import pycytominer\n",
    "import sys\n",
    "import CBE_utils as CBE\n",
    "import matplotlib.pyplot as plt\n",
    "import seaborn as sns"
   ]
  },
  {
   "cell_type": "code",
   "execution_count": 99,
   "id": "5f25cf94",
   "metadata": {},
   "outputs": [
    {
     "data": {
      "text/plain": [
       "<module 'CBE_utils' from '/home/schmiedc/FMP_Docs/Projects/ECBL_Project/QualityControl_analysis/notebooks/CBE_utils.py'>"
      ]
     },
     "execution_count": 99,
     "metadata": {},
     "output_type": "execute_result"
    }
   ],
   "source": [
    "import importlib\n",
    "importlib.reload(CBE)"
   ]
  },
  {
   "cell_type": "code",
   "execution_count": 100,
   "id": "5f3d6412",
   "metadata": {},
   "outputs": [],
   "source": [
    "input_path = \"/home/schmiedc/FMP_Docs/Projects/ECBL_Project/QualityControl_analysis/output_files/\"\n",
    "output_path = \"/home/schmiedc/FMP_Docs/Projects/ECBL_Project/QualityControl_analysis/result_files/\""
   ]
  },
  {
   "cell_type": "code",
   "execution_count": 101,
   "id": "91169aae",
   "metadata": {},
   "outputs": [],
   "source": [
    "# data_HepG2 = pd.read_csv(input_path + \"2023-04-11_Bioactives_HepG2_raw.csv\")\n",
    "pattern = \"[A-Z][0-9][0-9][0-9][0-9]_R[1-4].csv\"\n",
    "files = glob.glob(input_path + os.sep + '*' + os.sep + pattern, recursive=True)"
   ]
  },
  {
   "cell_type": "code",
   "execution_count": 102,
   "id": "466d5fd6",
   "metadata": {},
   "outputs": [
    {
     "name": "stdout",
     "output_type": "stream",
     "text": [
      "File: C1160_R2.csv has 384 rows\n",
      "File: C1160_R3.csv has 384 rows\n",
      "File: C1091_R1.csv has 384 rows\n",
      "File: C1092_R1.csv has 384 rows\n",
      "File: C1089_R1.csv has 384 rows\n",
      "File: C1085_R1.csv has 384 rows\n",
      "File: C1093_R1.csv has 384 rows\n",
      "File: C1158_R4.csv has 384 rows\n",
      "File: C1158_R2.csv has 384 rows\n",
      "File: C1157_R4.csv has 384 rows\n",
      "File: C1159_R2.csv has 384 rows\n",
      "File: C1160_R1.csv has 384 rows\n",
      "File: C1157_R3.csv has 384 rows\n",
      "File: C1086_R1.csv has 384 rows\n",
      "File: C1160_R4.csv has 384 rows\n",
      "File: C1087_R1.csv has 384 rows\n",
      "File: C1157_R1.csv has 384 rows\n",
      "File: C1088_R1.csv has 384 rows\n",
      "File: C1159_R3.csv has 384 rows\n",
      "File: C1090_R1.csv has 384 rows\n",
      "File: C1084_R1.csv has 384 rows\n"
     ]
    }
   ],
   "source": [
    "for file in files:\n",
    "    \n",
    "    filename = os.path.basename(file)\n",
    "    \n",
    "    try:\n",
    "        \n",
    "        csvreader = pd.read_csv(file)\n",
    "        row_count = csvreader.shape[0]\n",
    "        \n",
    "        print(f\"File: {filename} has {row_count} rows\")\n",
    "            \n",
    "    except Exception as e:\n",
    "        \n",
    "        print(f\"Error reading file {filename}: {e}\")"
   ]
  },
  {
   "cell_type": "code",
   "execution_count": 103,
   "id": "034f5248",
   "metadata": {},
   "outputs": [
    {
     "data": {
      "text/html": [
       "<div>\n",
       "<style scoped>\n",
       "    .dataframe tbody tr th:only-of-type {\n",
       "        vertical-align: middle;\n",
       "    }\n",
       "\n",
       "    .dataframe tbody tr th {\n",
       "        vertical-align: top;\n",
       "    }\n",
       "\n",
       "    .dataframe thead th {\n",
       "        text-align: right;\n",
       "    }\n",
       "</style>\n",
       "<table border=\"1\" class=\"dataframe\">\n",
       "  <thead>\n",
       "    <tr style=\"text-align: right;\">\n",
       "      <th></th>\n",
       "      <th>Metadata_Batch</th>\n",
       "      <th>Metadata_Plate</th>\n",
       "      <th>Metadata_Well_randomized</th>\n",
       "      <th>Metadata_Object_Count</th>\n",
       "      <th>Nuc_AreaShape_Area</th>\n",
       "      <th>Nuc_AreaShape_BoundingBoxArea</th>\n",
       "      <th>Nuc_AreaShape_BoundingBoxMaximum_X</th>\n",
       "      <th>Nuc_AreaShape_BoundingBoxMaximum_Y</th>\n",
       "      <th>Nuc_AreaShape_BoundingBoxMinimum_X</th>\n",
       "      <th>Nuc_AreaShape_BoundingBoxMinimum_Y</th>\n",
       "      <th>...</th>\n",
       "      <th>Metadata_plate_map_name</th>\n",
       "      <th>Metadata_user</th>\n",
       "      <th>Metadata_source</th>\n",
       "      <th>Metadata_instrument</th>\n",
       "      <th>Metadata_imaging_date</th>\n",
       "      <th>Metadata_imaging_time</th>\n",
       "      <th>Metadata_imaging_timezone</th>\n",
       "      <th>Metadata_picklist_name</th>\n",
       "      <th>Metadata_Well</th>\n",
       "      <th>Metadata_RoughID</th>\n",
       "    </tr>\n",
       "  </thead>\n",
       "  <tbody>\n",
       "    <tr>\n",
       "      <th>0</th>\n",
       "      <td>HepG2_10uM</td>\n",
       "      <td>C1084R1</td>\n",
       "      <td>A01</td>\n",
       "      <td>1924</td>\n",
       "      <td>497.0</td>\n",
       "      <td>675.0</td>\n",
       "      <td>515.5</td>\n",
       "      <td>537.5</td>\n",
       "      <td>488.5</td>\n",
       "      <td>507.0</td>\n",
       "      <td>...</td>\n",
       "      <td>C1084_R1</td>\n",
       "      <td>Christopher</td>\n",
       "      <td>FMP</td>\n",
       "      <td>Phenix</td>\n",
       "      <td>2024-06-05</td>\n",
       "      <td>13:34:51</td>\n",
       "      <td>200</td>\n",
       "      <td>Picklist_Replicate1.csv</td>\n",
       "      <td>O02</td>\n",
       "      <td>EOS_cpd</td>\n",
       "    </tr>\n",
       "    <tr>\n",
       "      <th>1</th>\n",
       "      <td>HepG2_10uM</td>\n",
       "      <td>C1084R1</td>\n",
       "      <td>A02</td>\n",
       "      <td>1668</td>\n",
       "      <td>499.0</td>\n",
       "      <td>676.0</td>\n",
       "      <td>632.5</td>\n",
       "      <td>486.5</td>\n",
       "      <td>602.5</td>\n",
       "      <td>458.0</td>\n",
       "      <td>...</td>\n",
       "      <td>C1084_R1</td>\n",
       "      <td>Christopher</td>\n",
       "      <td>FMP</td>\n",
       "      <td>Phenix</td>\n",
       "      <td>2024-06-05</td>\n",
       "      <td>13:34:51</td>\n",
       "      <td>200</td>\n",
       "      <td>Picklist_Replicate1.csv</td>\n",
       "      <td>K17</td>\n",
       "      <td>EOS_cpd</td>\n",
       "    </tr>\n",
       "    <tr>\n",
       "      <th>2</th>\n",
       "      <td>HepG2_10uM</td>\n",
       "      <td>C1084R1</td>\n",
       "      <td>A03</td>\n",
       "      <td>2265</td>\n",
       "      <td>499.0</td>\n",
       "      <td>690.0</td>\n",
       "      <td>532.0</td>\n",
       "      <td>540.0</td>\n",
       "      <td>505.0</td>\n",
       "      <td>509.0</td>\n",
       "      <td>...</td>\n",
       "      <td>C1084_R1</td>\n",
       "      <td>Christopher</td>\n",
       "      <td>FMP</td>\n",
       "      <td>Phenix</td>\n",
       "      <td>2024-06-05</td>\n",
       "      <td>13:34:51</td>\n",
       "      <td>200</td>\n",
       "      <td>Picklist_Replicate1.csv</td>\n",
       "      <td>I19</td>\n",
       "      <td>EOS_cpd</td>\n",
       "    </tr>\n",
       "    <tr>\n",
       "      <th>3</th>\n",
       "      <td>HepG2_10uM</td>\n",
       "      <td>C1084R1</td>\n",
       "      <td>A04</td>\n",
       "      <td>1888</td>\n",
       "      <td>520.0</td>\n",
       "      <td>713.0</td>\n",
       "      <td>552.0</td>\n",
       "      <td>572.5</td>\n",
       "      <td>522.0</td>\n",
       "      <td>541.0</td>\n",
       "      <td>...</td>\n",
       "      <td>C1084_R1</td>\n",
       "      <td>Christopher</td>\n",
       "      <td>FMP</td>\n",
       "      <td>Phenix</td>\n",
       "      <td>2024-06-05</td>\n",
       "      <td>13:34:51</td>\n",
       "      <td>200</td>\n",
       "      <td>Picklist_Replicate1.csv</td>\n",
       "      <td>B09</td>\n",
       "      <td>EOS_cpd</td>\n",
       "    </tr>\n",
       "    <tr>\n",
       "      <th>4</th>\n",
       "      <td>HepG2_10uM</td>\n",
       "      <td>C1084R1</td>\n",
       "      <td>A05</td>\n",
       "      <td>2336</td>\n",
       "      <td>503.0</td>\n",
       "      <td>690.0</td>\n",
       "      <td>563.5</td>\n",
       "      <td>527.5</td>\n",
       "      <td>534.0</td>\n",
       "      <td>498.0</td>\n",
       "      <td>...</td>\n",
       "      <td>C1084_R1</td>\n",
       "      <td>Christopher</td>\n",
       "      <td>FMP</td>\n",
       "      <td>Phenix</td>\n",
       "      <td>2024-06-05</td>\n",
       "      <td>13:34:51</td>\n",
       "      <td>200</td>\n",
       "      <td>Picklist_Replicate1.csv</td>\n",
       "      <td>N10</td>\n",
       "      <td>EOS_cpd</td>\n",
       "    </tr>\n",
       "  </tbody>\n",
       "</table>\n",
       "<p>5 rows × 2993 columns</p>\n",
       "</div>"
      ],
      "text/plain": [
       "  Metadata_Batch Metadata_Plate Metadata_Well_randomized  \\\n",
       "0     HepG2_10uM        C1084R1                      A01   \n",
       "1     HepG2_10uM        C1084R1                      A02   \n",
       "2     HepG2_10uM        C1084R1                      A03   \n",
       "3     HepG2_10uM        C1084R1                      A04   \n",
       "4     HepG2_10uM        C1084R1                      A05   \n",
       "\n",
       "   Metadata_Object_Count  Nuc_AreaShape_Area  Nuc_AreaShape_BoundingBoxArea  \\\n",
       "0                   1924               497.0                          675.0   \n",
       "1                   1668               499.0                          676.0   \n",
       "2                   2265               499.0                          690.0   \n",
       "3                   1888               520.0                          713.0   \n",
       "4                   2336               503.0                          690.0   \n",
       "\n",
       "   Nuc_AreaShape_BoundingBoxMaximum_X  Nuc_AreaShape_BoundingBoxMaximum_Y  \\\n",
       "0                               515.5                               537.5   \n",
       "1                               632.5                               486.5   \n",
       "2                               532.0                               540.0   \n",
       "3                               552.0                               572.5   \n",
       "4                               563.5                               527.5   \n",
       "\n",
       "   Nuc_AreaShape_BoundingBoxMinimum_X  Nuc_AreaShape_BoundingBoxMinimum_Y  \\\n",
       "0                               488.5                               507.0   \n",
       "1                               602.5                               458.0   \n",
       "2                               505.0                               509.0   \n",
       "3                               522.0                               541.0   \n",
       "4                               534.0                               498.0   \n",
       "\n",
       "   ...  Metadata_plate_map_name  Metadata_user  Metadata_source  \\\n",
       "0  ...                 C1084_R1    Christopher              FMP   \n",
       "1  ...                 C1084_R1    Christopher              FMP   \n",
       "2  ...                 C1084_R1    Christopher              FMP   \n",
       "3  ...                 C1084_R1    Christopher              FMP   \n",
       "4  ...                 C1084_R1    Christopher              FMP   \n",
       "\n",
       "   Metadata_instrument  Metadata_imaging_date  Metadata_imaging_time  \\\n",
       "0               Phenix             2024-06-05               13:34:51   \n",
       "1               Phenix             2024-06-05               13:34:51   \n",
       "2               Phenix             2024-06-05               13:34:51   \n",
       "3               Phenix             2024-06-05               13:34:51   \n",
       "4               Phenix             2024-06-05               13:34:51   \n",
       "\n",
       "   Metadata_imaging_timezone   Metadata_picklist_name  Metadata_Well  \\\n",
       "0                        200  Picklist_Replicate1.csv            O02   \n",
       "1                        200  Picklist_Replicate1.csv            K17   \n",
       "2                        200  Picklist_Replicate1.csv            I19   \n",
       "3                        200  Picklist_Replicate1.csv            B09   \n",
       "4                        200  Picklist_Replicate1.csv            N10   \n",
       "\n",
       "   Metadata_RoughID  \n",
       "0           EOS_cpd  \n",
       "1           EOS_cpd  \n",
       "2           EOS_cpd  \n",
       "3           EOS_cpd  \n",
       "4           EOS_cpd  \n",
       "\n",
       "[5 rows x 2993 columns]"
      ]
     },
     "execution_count": 103,
     "metadata": {},
     "output_type": "execute_result"
    }
   ],
   "source": [
    "### load file\n",
    "dataframe = pd.read_csv(files[-1])\n",
    "dataframe.head()"
   ]
  },
  {
   "cell_type": "code",
   "execution_count": 104,
   "id": "adf2dee2",
   "metadata": {},
   "outputs": [
    {
     "name": "stdout",
     "output_type": "stream",
     "text": [
      "Total number of features: 2977\n"
     ]
    }
   ],
   "source": [
    "### helper functions extracts metadata columns and define feature columns\n",
    "features = CBE.get_feature_vector(dataframe)\n",
    "metadata_dataframe = set(dataframe.columns) - set(features)\n",
    "\n",
    "### convert sets to list\n",
    "features_list = list(features)\n",
    "metadata_list = list(metadata_dataframe)\n",
    "\n",
    "print(\"Total number of features:\", len(features_list) )"
   ]
  },
  {
   "cell_type": "code",
   "execution_count": 105,
   "id": "775bf8e5",
   "metadata": {},
   "outputs": [
    {
     "name": "stderr",
     "output_type": "stream",
     "text": [
      "/home/schmiedc/miniconda3/envs/paint/lib/python3.9/site-packages/pycytominer/normalize.py:151: FutureWarning: Passing a set as an indexer is deprecated and will raise in a future version. Use a list instead.\n",
      "  meta_df = profiles.loc[:, meta_features]\n"
     ]
    }
   ],
   "source": [
    "# TODO: Adjust to future pycytominer version\n",
    "normalizer = \"mad_robustize\" \n",
    "\n",
    "dataframe_normalized = pycytominer.normalize(\n",
    "    \n",
    "    profiles = dataframe,\n",
    "    features = features,\n",
    "    meta_features = metadata_dataframe,\n",
    "    method = normalizer, ### Method to normalize the data\n",
    "    samples = \"Metadata_RoughID == 'DMSO'\" # normalization performed on neg. controls\n",
    ")"
   ]
  },
  {
   "cell_type": "code",
   "execution_count": 106,
   "id": "9b33604e",
   "metadata": {},
   "outputs": [
    {
     "data": {
      "text/html": [
       "<div>\n",
       "<style scoped>\n",
       "    .dataframe tbody tr th:only-of-type {\n",
       "        vertical-align: middle;\n",
       "    }\n",
       "\n",
       "    .dataframe tbody tr th {\n",
       "        vertical-align: top;\n",
       "    }\n",
       "\n",
       "    .dataframe thead th {\n",
       "        text-align: right;\n",
       "    }\n",
       "</style>\n",
       "<table border=\"1\" class=\"dataframe\">\n",
       "  <thead>\n",
       "    <tr style=\"text-align: right;\">\n",
       "      <th></th>\n",
       "      <th>Metadata_imaging_timezone</th>\n",
       "      <th>Metadata_source</th>\n",
       "      <th>Metadata_plate_map_name</th>\n",
       "      <th>Metadata_imaging_date</th>\n",
       "      <th>Metadata_Well_randomized</th>\n",
       "      <th>Metadata_imaging_time</th>\n",
       "      <th>Metadata_RoughID</th>\n",
       "      <th>Metadata_picklist_name</th>\n",
       "      <th>Metadata_plate_name</th>\n",
       "      <th>Metadata_user</th>\n",
       "      <th>...</th>\n",
       "      <th>Cyto_Texture_Variance_Mito_10_02_256</th>\n",
       "      <th>Cyto_Texture_Variance_Mito_10_03_256</th>\n",
       "      <th>Cyto_Texture_Variance_Mito_3_00_256</th>\n",
       "      <th>Cyto_Texture_Variance_Mito_3_01_256</th>\n",
       "      <th>Cyto_Texture_Variance_Mito_3_02_256</th>\n",
       "      <th>Cyto_Texture_Variance_Mito_3_03_256</th>\n",
       "      <th>Cyto_Texture_Variance_Mito_5_00_256</th>\n",
       "      <th>Cyto_Texture_Variance_Mito_5_01_256</th>\n",
       "      <th>Cyto_Texture_Variance_Mito_5_02_256</th>\n",
       "      <th>Cyto_Texture_Variance_Mito_5_03_256</th>\n",
       "    </tr>\n",
       "  </thead>\n",
       "  <tbody>\n",
       "    <tr>\n",
       "      <th>0</th>\n",
       "      <td>200</td>\n",
       "      <td>FMP</td>\n",
       "      <td>C1084_R1</td>\n",
       "      <td>2024-06-05</td>\n",
       "      <td>A01</td>\n",
       "      <td>13:34:51</td>\n",
       "      <td>EOS_cpd</td>\n",
       "      <td>Picklist_Replicate1.csv</td>\n",
       "      <td>C1084</td>\n",
       "      <td>Christopher</td>\n",
       "      <td>...</td>\n",
       "      <td>-4.601744</td>\n",
       "      <td>-4.151888</td>\n",
       "      <td>-4.502443</td>\n",
       "      <td>-4.629765</td>\n",
       "      <td>-4.580026</td>\n",
       "      <td>-4.334689</td>\n",
       "      <td>-4.658107</td>\n",
       "      <td>-4.361580</td>\n",
       "      <td>-4.324040</td>\n",
       "      <td>-4.541473</td>\n",
       "    </tr>\n",
       "    <tr>\n",
       "      <th>1</th>\n",
       "      <td>200</td>\n",
       "      <td>FMP</td>\n",
       "      <td>C1084_R1</td>\n",
       "      <td>2024-06-05</td>\n",
       "      <td>A02</td>\n",
       "      <td>13:34:51</td>\n",
       "      <td>EOS_cpd</td>\n",
       "      <td>Picklist_Replicate1.csv</td>\n",
       "      <td>C1084</td>\n",
       "      <td>Christopher</td>\n",
       "      <td>...</td>\n",
       "      <td>-4.800760</td>\n",
       "      <td>-4.299846</td>\n",
       "      <td>-4.665011</td>\n",
       "      <td>-4.804625</td>\n",
       "      <td>-4.732813</td>\n",
       "      <td>-4.476484</td>\n",
       "      <td>-4.822309</td>\n",
       "      <td>-4.530918</td>\n",
       "      <td>-4.476955</td>\n",
       "      <td>-4.712999</td>\n",
       "    </tr>\n",
       "    <tr>\n",
       "      <th>2</th>\n",
       "      <td>200</td>\n",
       "      <td>FMP</td>\n",
       "      <td>C1084_R1</td>\n",
       "      <td>2024-06-05</td>\n",
       "      <td>A03</td>\n",
       "      <td>13:34:51</td>\n",
       "      <td>EOS_cpd</td>\n",
       "      <td>Picklist_Replicate1.csv</td>\n",
       "      <td>C1084</td>\n",
       "      <td>Christopher</td>\n",
       "      <td>...</td>\n",
       "      <td>-4.239203</td>\n",
       "      <td>-3.796197</td>\n",
       "      <td>-4.119379</td>\n",
       "      <td>-4.237940</td>\n",
       "      <td>-4.192466</td>\n",
       "      <td>-3.964202</td>\n",
       "      <td>-4.264985</td>\n",
       "      <td>-3.994418</td>\n",
       "      <td>-3.974347</td>\n",
       "      <td>-4.167530</td>\n",
       "    </tr>\n",
       "    <tr>\n",
       "      <th>3</th>\n",
       "      <td>200</td>\n",
       "      <td>FMP</td>\n",
       "      <td>C1084_R1</td>\n",
       "      <td>2024-06-05</td>\n",
       "      <td>A04</td>\n",
       "      <td>13:34:51</td>\n",
       "      <td>EOS_cpd</td>\n",
       "      <td>Picklist_Replicate1.csv</td>\n",
       "      <td>C1084</td>\n",
       "      <td>Christopher</td>\n",
       "      <td>...</td>\n",
       "      <td>-4.694948</td>\n",
       "      <td>-4.218304</td>\n",
       "      <td>-4.609560</td>\n",
       "      <td>-4.727400</td>\n",
       "      <td>-4.667283</td>\n",
       "      <td>-4.416973</td>\n",
       "      <td>-4.756894</td>\n",
       "      <td>-4.435004</td>\n",
       "      <td>-4.406495</td>\n",
       "      <td>-4.617876</td>\n",
       "    </tr>\n",
       "    <tr>\n",
       "      <th>4</th>\n",
       "      <td>200</td>\n",
       "      <td>FMP</td>\n",
       "      <td>C1084_R1</td>\n",
       "      <td>2024-06-05</td>\n",
       "      <td>A05</td>\n",
       "      <td>13:34:51</td>\n",
       "      <td>EOS_cpd</td>\n",
       "      <td>Picklist_Replicate1.csv</td>\n",
       "      <td>C1084</td>\n",
       "      <td>Christopher</td>\n",
       "      <td>...</td>\n",
       "      <td>-4.569905</td>\n",
       "      <td>-4.084159</td>\n",
       "      <td>-4.441431</td>\n",
       "      <td>-4.567102</td>\n",
       "      <td>-4.501193</td>\n",
       "      <td>-4.275153</td>\n",
       "      <td>-4.591921</td>\n",
       "      <td>-4.283667</td>\n",
       "      <td>-4.266774</td>\n",
       "      <td>-4.475196</td>\n",
       "    </tr>\n",
       "    <tr>\n",
       "      <th>...</th>\n",
       "      <td>...</td>\n",
       "      <td>...</td>\n",
       "      <td>...</td>\n",
       "      <td>...</td>\n",
       "      <td>...</td>\n",
       "      <td>...</td>\n",
       "      <td>...</td>\n",
       "      <td>...</td>\n",
       "      <td>...</td>\n",
       "      <td>...</td>\n",
       "      <td>...</td>\n",
       "      <td>...</td>\n",
       "      <td>...</td>\n",
       "      <td>...</td>\n",
       "      <td>...</td>\n",
       "      <td>...</td>\n",
       "      <td>...</td>\n",
       "      <td>...</td>\n",
       "      <td>...</td>\n",
       "      <td>...</td>\n",
       "      <td>...</td>\n",
       "    </tr>\n",
       "    <tr>\n",
       "      <th>379</th>\n",
       "      <td>200</td>\n",
       "      <td>FMP</td>\n",
       "      <td>C1084_R1</td>\n",
       "      <td>2024-06-05</td>\n",
       "      <td>P20</td>\n",
       "      <td>13:34:51</td>\n",
       "      <td>EOS_cpd</td>\n",
       "      <td>Picklist_Replicate1.csv</td>\n",
       "      <td>C1084</td>\n",
       "      <td>Christopher</td>\n",
       "      <td>...</td>\n",
       "      <td>-1.705553</td>\n",
       "      <td>-1.465142</td>\n",
       "      <td>-1.756928</td>\n",
       "      <td>-1.781003</td>\n",
       "      <td>-1.769662</td>\n",
       "      <td>-1.685991</td>\n",
       "      <td>-1.812584</td>\n",
       "      <td>-1.688029</td>\n",
       "      <td>-1.691946</td>\n",
       "      <td>-1.745524</td>\n",
       "    </tr>\n",
       "    <tr>\n",
       "      <th>380</th>\n",
       "      <td>200</td>\n",
       "      <td>FMP</td>\n",
       "      <td>C1084_R1</td>\n",
       "      <td>2024-06-05</td>\n",
       "      <td>P21</td>\n",
       "      <td>13:34:51</td>\n",
       "      <td>EOS_cpd</td>\n",
       "      <td>Picklist_Replicate1.csv</td>\n",
       "      <td>C1084</td>\n",
       "      <td>Christopher</td>\n",
       "      <td>...</td>\n",
       "      <td>-1.972032</td>\n",
       "      <td>-1.857823</td>\n",
       "      <td>-1.979235</td>\n",
       "      <td>-1.996004</td>\n",
       "      <td>-1.968246</td>\n",
       "      <td>-1.875609</td>\n",
       "      <td>-2.028821</td>\n",
       "      <td>-1.828788</td>\n",
       "      <td>-1.878335</td>\n",
       "      <td>-1.971089</td>\n",
       "    </tr>\n",
       "    <tr>\n",
       "      <th>381</th>\n",
       "      <td>200</td>\n",
       "      <td>FMP</td>\n",
       "      <td>C1084_R1</td>\n",
       "      <td>2024-06-05</td>\n",
       "      <td>P22</td>\n",
       "      <td>13:34:51</td>\n",
       "      <td>EOS_cpd</td>\n",
       "      <td>Picklist_Replicate1.csv</td>\n",
       "      <td>C1084</td>\n",
       "      <td>Christopher</td>\n",
       "      <td>...</td>\n",
       "      <td>-4.620253</td>\n",
       "      <td>-4.135442</td>\n",
       "      <td>-4.489013</td>\n",
       "      <td>-4.615604</td>\n",
       "      <td>-4.559774</td>\n",
       "      <td>-4.306719</td>\n",
       "      <td>-4.632069</td>\n",
       "      <td>-4.340768</td>\n",
       "      <td>-4.312936</td>\n",
       "      <td>-4.530601</td>\n",
       "    </tr>\n",
       "    <tr>\n",
       "      <th>382</th>\n",
       "      <td>200</td>\n",
       "      <td>FMP</td>\n",
       "      <td>C1084_R1</td>\n",
       "      <td>2024-06-05</td>\n",
       "      <td>P23</td>\n",
       "      <td>13:34:51</td>\n",
       "      <td>EOS_cpd</td>\n",
       "      <td>Picklist_Replicate1.csv</td>\n",
       "      <td>C1084</td>\n",
       "      <td>Christopher</td>\n",
       "      <td>...</td>\n",
       "      <td>-4.699753</td>\n",
       "      <td>-4.197055</td>\n",
       "      <td>-4.581877</td>\n",
       "      <td>-4.704640</td>\n",
       "      <td>-4.640506</td>\n",
       "      <td>-4.399084</td>\n",
       "      <td>-4.732814</td>\n",
       "      <td>-4.410193</td>\n",
       "      <td>-4.385307</td>\n",
       "      <td>-4.619376</td>\n",
       "    </tr>\n",
       "    <tr>\n",
       "      <th>383</th>\n",
       "      <td>200</td>\n",
       "      <td>FMP</td>\n",
       "      <td>C1084_R1</td>\n",
       "      <td>2024-06-05</td>\n",
       "      <td>P24</td>\n",
       "      <td>13:34:51</td>\n",
       "      <td>EOS_cpd</td>\n",
       "      <td>Picklist_Replicate1.csv</td>\n",
       "      <td>C1084</td>\n",
       "      <td>Christopher</td>\n",
       "      <td>...</td>\n",
       "      <td>-5.174359</td>\n",
       "      <td>-4.605035</td>\n",
       "      <td>-5.047068</td>\n",
       "      <td>-5.189034</td>\n",
       "      <td>-5.114008</td>\n",
       "      <td>-4.850773</td>\n",
       "      <td>-5.221401</td>\n",
       "      <td>-4.872517</td>\n",
       "      <td>-4.839308</td>\n",
       "      <td>-5.081029</td>\n",
       "    </tr>\n",
       "  </tbody>\n",
       "</table>\n",
       "<p>384 rows × 2993 columns</p>\n",
       "</div>"
      ],
      "text/plain": [
       "     Metadata_imaging_timezone Metadata_source Metadata_plate_map_name  \\\n",
       "0                          200             FMP                C1084_R1   \n",
       "1                          200             FMP                C1084_R1   \n",
       "2                          200             FMP                C1084_R1   \n",
       "3                          200             FMP                C1084_R1   \n",
       "4                          200             FMP                C1084_R1   \n",
       "..                         ...             ...                     ...   \n",
       "379                        200             FMP                C1084_R1   \n",
       "380                        200             FMP                C1084_R1   \n",
       "381                        200             FMP                C1084_R1   \n",
       "382                        200             FMP                C1084_R1   \n",
       "383                        200             FMP                C1084_R1   \n",
       "\n",
       "    Metadata_imaging_date Metadata_Well_randomized Metadata_imaging_time  \\\n",
       "0              2024-06-05                      A01              13:34:51   \n",
       "1              2024-06-05                      A02              13:34:51   \n",
       "2              2024-06-05                      A03              13:34:51   \n",
       "3              2024-06-05                      A04              13:34:51   \n",
       "4              2024-06-05                      A05              13:34:51   \n",
       "..                    ...                      ...                   ...   \n",
       "379            2024-06-05                      P20              13:34:51   \n",
       "380            2024-06-05                      P21              13:34:51   \n",
       "381            2024-06-05                      P22              13:34:51   \n",
       "382            2024-06-05                      P23              13:34:51   \n",
       "383            2024-06-05                      P24              13:34:51   \n",
       "\n",
       "    Metadata_RoughID   Metadata_picklist_name Metadata_plate_name  \\\n",
       "0            EOS_cpd  Picklist_Replicate1.csv               C1084   \n",
       "1            EOS_cpd  Picklist_Replicate1.csv               C1084   \n",
       "2            EOS_cpd  Picklist_Replicate1.csv               C1084   \n",
       "3            EOS_cpd  Picklist_Replicate1.csv               C1084   \n",
       "4            EOS_cpd  Picklist_Replicate1.csv               C1084   \n",
       "..               ...                      ...                 ...   \n",
       "379          EOS_cpd  Picklist_Replicate1.csv               C1084   \n",
       "380          EOS_cpd  Picklist_Replicate1.csv               C1084   \n",
       "381          EOS_cpd  Picklist_Replicate1.csv               C1084   \n",
       "382          EOS_cpd  Picklist_Replicate1.csv               C1084   \n",
       "383          EOS_cpd  Picklist_Replicate1.csv               C1084   \n",
       "\n",
       "    Metadata_user  ... Cyto_Texture_Variance_Mito_10_02_256  \\\n",
       "0     Christopher  ...                            -4.601744   \n",
       "1     Christopher  ...                            -4.800760   \n",
       "2     Christopher  ...                            -4.239203   \n",
       "3     Christopher  ...                            -4.694948   \n",
       "4     Christopher  ...                            -4.569905   \n",
       "..            ...  ...                                  ...   \n",
       "379   Christopher  ...                            -1.705553   \n",
       "380   Christopher  ...                            -1.972032   \n",
       "381   Christopher  ...                            -4.620253   \n",
       "382   Christopher  ...                            -4.699753   \n",
       "383   Christopher  ...                            -5.174359   \n",
       "\n",
       "    Cyto_Texture_Variance_Mito_10_03_256 Cyto_Texture_Variance_Mito_3_00_256  \\\n",
       "0                              -4.151888                           -4.502443   \n",
       "1                              -4.299846                           -4.665011   \n",
       "2                              -3.796197                           -4.119379   \n",
       "3                              -4.218304                           -4.609560   \n",
       "4                              -4.084159                           -4.441431   \n",
       "..                                   ...                                 ...   \n",
       "379                            -1.465142                           -1.756928   \n",
       "380                            -1.857823                           -1.979235   \n",
       "381                            -4.135442                           -4.489013   \n",
       "382                            -4.197055                           -4.581877   \n",
       "383                            -4.605035                           -5.047068   \n",
       "\n",
       "    Cyto_Texture_Variance_Mito_3_01_256 Cyto_Texture_Variance_Mito_3_02_256  \\\n",
       "0                             -4.629765                           -4.580026   \n",
       "1                             -4.804625                           -4.732813   \n",
       "2                             -4.237940                           -4.192466   \n",
       "3                             -4.727400                           -4.667283   \n",
       "4                             -4.567102                           -4.501193   \n",
       "..                                  ...                                 ...   \n",
       "379                           -1.781003                           -1.769662   \n",
       "380                           -1.996004                           -1.968246   \n",
       "381                           -4.615604                           -4.559774   \n",
       "382                           -4.704640                           -4.640506   \n",
       "383                           -5.189034                           -5.114008   \n",
       "\n",
       "     Cyto_Texture_Variance_Mito_3_03_256  Cyto_Texture_Variance_Mito_5_00_256  \\\n",
       "0                              -4.334689                            -4.658107   \n",
       "1                              -4.476484                            -4.822309   \n",
       "2                              -3.964202                            -4.264985   \n",
       "3                              -4.416973                            -4.756894   \n",
       "4                              -4.275153                            -4.591921   \n",
       "..                                   ...                                  ...   \n",
       "379                            -1.685991                            -1.812584   \n",
       "380                            -1.875609                            -2.028821   \n",
       "381                            -4.306719                            -4.632069   \n",
       "382                            -4.399084                            -4.732814   \n",
       "383                            -4.850773                            -5.221401   \n",
       "\n",
       "     Cyto_Texture_Variance_Mito_5_01_256  Cyto_Texture_Variance_Mito_5_02_256  \\\n",
       "0                              -4.361580                            -4.324040   \n",
       "1                              -4.530918                            -4.476955   \n",
       "2                              -3.994418                            -3.974347   \n",
       "3                              -4.435004                            -4.406495   \n",
       "4                              -4.283667                            -4.266774   \n",
       "..                                   ...                                  ...   \n",
       "379                            -1.688029                            -1.691946   \n",
       "380                            -1.828788                            -1.878335   \n",
       "381                            -4.340768                            -4.312936   \n",
       "382                            -4.410193                            -4.385307   \n",
       "383                            -4.872517                            -4.839308   \n",
       "\n",
       "     Cyto_Texture_Variance_Mito_5_03_256  \n",
       "0                              -4.541473  \n",
       "1                              -4.712999  \n",
       "2                              -4.167530  \n",
       "3                              -4.617876  \n",
       "4                              -4.475196  \n",
       "..                                   ...  \n",
       "379                            -1.745524  \n",
       "380                            -1.971089  \n",
       "381                            -4.530601  \n",
       "382                            -4.619376  \n",
       "383                            -5.081029  \n",
       "\n",
       "[384 rows x 2993 columns]"
      ]
     },
     "execution_count": 106,
     "metadata": {},
     "output_type": "execute_result"
    }
   ],
   "source": [
    "# TODO: Feature selection options\n",
    "dataframe_normalized"
   ]
  },
  {
   "cell_type": "markdown",
   "id": "c1068581",
   "metadata": {},
   "source": [
    "# Correlation based comparison of pos. ctrl wells"
   ]
  },
  {
   "cell_type": "code",
   "execution_count": 107,
   "id": "5ea6151f",
   "metadata": {},
   "outputs": [],
   "source": [
    "# perfectly correlated with correlation coefficient equal to 1 has zero distance \n",
    "# perfectly negatively correlated with correlation coefficient equal to -1 has maximal distance at 2\n",
    "# inverse of correlation and only looks at the angle/similarity among patterns (sort of like normalization). \n",
    "# Correlational distance goes from 0 - 2, with 0 being PERFECT correlation, 1 being no correlation, and 2 being PERFECT ANTICORRELATION. \n",
    "\n",
    "from scipy.spatial.distance import correlation"
   ]
  },
  {
   "cell_type": "code",
   "execution_count": 108,
   "id": "a2eeff67",
   "metadata": {},
   "outputs": [
    {
     "data": {
      "text/plain": [
       "0.013654087616855493"
      ]
     },
     "execution_count": 108,
     "metadata": {},
     "output_type": "execute_result"
    }
   ],
   "source": [
    "# Filter for pos. control tetrandrine\n",
    "# Metadata_RoughID = Tetrandrine\n",
    "# Should be C24 and D24\n",
    "tetrandrine_dataframe = dataframe_normalized.loc[dataframe['Metadata_RoughID'] == 'Tetrandrine']\n",
    "\n",
    "# get features for first and second tet well\n",
    "tetrandrine_well_1_features = tetrandrine_dataframe.iloc[0][features].values\n",
    "tetrandrine_well_2_features = tetrandrine_dataframe.iloc[1][features].values\n",
    "tetrandrine_median_features = tetrandrine_dataframe[features].median(axis=0)\n",
    "\n",
    "corr_tetrandrine = correlation(tetrandrine_well_1_features, tetrandrine_well_2_features, centered = True)\n",
    "corr_tetrandrine"
   ]
  },
  {
   "cell_type": "code",
   "execution_count": 109,
   "id": "5572cb79",
   "metadata": {},
   "outputs": [
    {
     "data": {
      "text/plain": [
       "0.027917518926815488"
      ]
     },
     "execution_count": 109,
     "metadata": {},
     "output_type": "execute_result"
    }
   ],
   "source": [
    "# Filter pos. ctrl Nocodazole\n",
    "# Metadata_RoughID = Nocodazole\n",
    "# Should be A24 and B24\n",
    "nocodazole_dataframe = dataframe_normalized.loc[dataframe['Metadata_RoughID'] == 'Nocodazole']\n",
    "\n",
    "# get features for first and second noco well\n",
    "nocodazole_well_1_features = nocodazole_dataframe.iloc[0][features].values\n",
    "nocodazole_well_2_features = nocodazole_dataframe.iloc[1][features].values\n",
    "nocodazole_median_features = nocodazole_dataframe[features].median(axis=0)\n",
    "\n",
    "corr_nocodazole = correlation(nocodazole_well_1_features, nocodazole_well_2_features, centered = True)\n",
    "corr_nocodazole"
   ]
  },
  {
   "cell_type": "code",
   "execution_count": 110,
   "id": "31f3bc5d",
   "metadata": {},
   "outputs": [
    {
     "data": {
      "text/plain": [
       "0.5449333682351922"
      ]
     },
     "execution_count": 110,
     "metadata": {},
     "output_type": "execute_result"
    }
   ],
   "source": [
    "corr_pos_ctrl_1 = correlation(tetrandrine_well_1_features, nocodazole_well_1_features, centered = True)\n",
    "corr_pos_ctrl_1"
   ]
  },
  {
   "cell_type": "code",
   "execution_count": 111,
   "id": "4c7783b4",
   "metadata": {},
   "outputs": [
    {
     "data": {
      "text/plain": [
       "0.5699360972313822"
      ]
     },
     "execution_count": 111,
     "metadata": {},
     "output_type": "execute_result"
    }
   ],
   "source": [
    "corr_pos_ctrl_2 = correlation(tetrandrine_well_1_features, nocodazole_well_2_features, centered = True)\n",
    "corr_pos_ctrl_2"
   ]
  },
  {
   "cell_type": "code",
   "execution_count": 112,
   "id": "11680316",
   "metadata": {
    "scrolled": true
   },
   "outputs": [
    {
     "data": {
      "text/plain": [
       "0.5424227463881108"
      ]
     },
     "execution_count": 112,
     "metadata": {},
     "output_type": "execute_result"
    }
   ],
   "source": [
    "corr_pos_ctrl_3 = correlation(tetrandrine_well_2_features, nocodazole_well_2_features, centered = True)\n",
    "corr_pos_ctrl_3"
   ]
  },
  {
   "cell_type": "code",
   "execution_count": 113,
   "id": "abd7901a",
   "metadata": {},
   "outputs": [
    {
     "data": {
      "text/plain": [
       "0.5218925934347285"
      ]
     },
     "execution_count": 113,
     "metadata": {},
     "output_type": "execute_result"
    }
   ],
   "source": [
    "corr_pos_ctrl_4 = correlation(tetrandrine_well_2_features, nocodazole_well_1_features, centered = True)\n",
    "corr_pos_ctrl_4"
   ]
  },
  {
   "cell_type": "code",
   "execution_count": 114,
   "id": "19b87be3",
   "metadata": {},
   "outputs": [
    {
     "data": {
      "text/plain": [
       "0.5402529182809406"
      ]
     },
     "execution_count": 114,
     "metadata": {},
     "output_type": "execute_result"
    }
   ],
   "source": [
    "corr_pos_ctrl_median = correlation(tetrandrine_median_features, nocodazole_median_features, centered = True)\n",
    "corr_pos_ctrl_median"
   ]
  },
  {
   "cell_type": "code",
   "execution_count": 115,
   "id": "99fae4d3",
   "metadata": {},
   "outputs": [
    {
     "data": {
      "text/plain": [
       "1.0002360393902132"
      ]
     },
     "execution_count": 115,
     "metadata": {},
     "output_type": "execute_result"
    }
   ],
   "source": [
    "# Filter pos. ctrl Nocodazole\n",
    "# Metadata_RoughID = Nocodazole\n",
    "# Should be A24 and B24\n",
    "dmso_dataframe = dataframe_normalized.loc[dataframe['Metadata_RoughID'] == 'DMSO']\n",
    "dmso_median_features = dmso_dataframe[features].median(axis=0)\n",
    "\n",
    "corr_noco_dmso = correlation(nocodazole_median_features, dmso_median_features, centered = True)\n",
    "corr_noco_dmso"
   ]
  },
  {
   "cell_type": "code",
   "execution_count": 116,
   "id": "626ee5a2",
   "metadata": {},
   "outputs": [
    {
     "data": {
      "text/plain": [
       "1.0002060870247629"
      ]
     },
     "execution_count": 116,
     "metadata": {},
     "output_type": "execute_result"
    }
   ],
   "source": [
    "corr_tet_dmso = correlation(tetrandrine_median_features, dmso_median_features, centered = True)\n",
    "corr_tet_dmso"
   ]
  },
  {
   "cell_type": "markdown",
   "id": "854dd3e0",
   "metadata": {},
   "source": [
    "## Other correlation based comparison"
   ]
  },
  {
   "cell_type": "code",
   "execution_count": 117,
   "id": "3a82bd03",
   "metadata": {},
   "outputs": [],
   "source": [
    "import numpy as np"
   ]
  },
  {
   "cell_type": "code",
   "execution_count": 118,
   "id": "8e4f5f9a",
   "metadata": {},
   "outputs": [],
   "source": [
    "def feature_corr(df1, df2):\n",
    "    \n",
    "    corr = np.corrcoef(df1.astype(float), df2.astype(float))\n",
    "    np.fill_diagonal(corr, np.nan)\n",
    "    \n",
    "    return np.nanmedian(corr)"
   ]
  },
  {
   "cell_type": "code",
   "execution_count": 119,
   "id": "71969ee4",
   "metadata": {},
   "outputs": [
    {
     "data": {
      "text/plain": [
       "0.4597470817190612"
      ]
     },
     "execution_count": 119,
     "metadata": {},
     "output_type": "execute_result"
    }
   ],
   "source": [
    "feature_corr(tetrandrine_median_features, nocodazole_median_features)"
   ]
  },
  {
   "cell_type": "code",
   "execution_count": 120,
   "id": "34a0da84",
   "metadata": {},
   "outputs": [
    {
     "data": {
      "text/plain": [
       "0.9863459123830671"
      ]
     },
     "execution_count": 120,
     "metadata": {},
     "output_type": "execute_result"
    }
   ],
   "source": [
    "feature_corr(tetrandrine_well_1_features, tetrandrine_well_2_features)"
   ]
  },
  {
   "cell_type": "code",
   "execution_count": 121,
   "id": "f096694a",
   "metadata": {},
   "outputs": [
    {
     "data": {
      "text/plain": [
       "0.9720824810732367"
      ]
     },
     "execution_count": 121,
     "metadata": {},
     "output_type": "execute_result"
    }
   ],
   "source": [
    "feature_corr(nocodazole_well_1_features, nocodazole_well_2_features)"
   ]
  },
  {
   "cell_type": "code",
   "execution_count": 122,
   "id": "417bb9f8",
   "metadata": {},
   "outputs": [],
   "source": [
    "# Overall seems to yield useful values\n",
    "# We can compute consensus values also then\n",
    "# Test to see what happens if it fails i.e. wrong platelayout is used\n",
    "# Thresholds could be: <0.3 for corr\n",
    "# >0.3 for non correlation\n",
    "# Oberservation from real world data will help\n",
    "# Also again feature selection will make this more robust\n",
    "# An alternative could be to use DMSO independent normalization\n",
    "# At least for the detection of Plate layout issue"
   ]
  },
  {
   "cell_type": "markdown",
   "id": "1beb7c31",
   "metadata": {},
   "source": [
    "# Comparison with other neg. and pos. controls"
   ]
  },
  {
   "cell_type": "code",
   "execution_count": 123,
   "id": "1e8c0f56",
   "metadata": {},
   "outputs": [],
   "source": [
    "# TODO: Correlation of pos. & neg. controls over time\n",
    "# TODO: First take any plate for comparison\n",
    "# TODO: Implement consensus of first plates of specific source\n",
    "# TODO: Then with an external control from the bioactives"
   ]
  },
  {
   "cell_type": "code",
   "execution_count": 147,
   "id": "f98e7993",
   "metadata": {},
   "outputs": [
    {
     "name": "stderr",
     "output_type": "stream",
     "text": [
      "/home/schmiedc/miniconda3/envs/paint/lib/python3.9/site-packages/pycytominer/normalize.py:151: FutureWarning: Passing a set as an indexer is deprecated and will raise in a future version. Use a list instead.\n",
      "  meta_df = profiles.loc[:, meta_features]\n"
     ]
    }
   ],
   "source": [
    "### load file\n",
    "other_dataframe = pd.read_csv(files[2])\n",
    "\n",
    "### helper functions extracts metadata columns and define feature columns\n",
    "other_features = CBE.get_feature_vector(other_dataframe)\n",
    "other_metadata_dataframe = set(other_dataframe.columns) - set(features)\n",
    "\n",
    "normalizer = \"mad_robustize\" \n",
    "\n",
    "# TODO: Adjust to future pycytominer version\n",
    "other_dataframe_normalized = pycytominer.normalize(\n",
    "    \n",
    "    profiles = other_dataframe,\n",
    "    features = other_features,\n",
    "    meta_features = other_metadata_dataframe,\n",
    "    method = normalizer, ### Method to normalize the data\n",
    "    samples = \"Metadata_RoughID == 'DMSO'\" # normalization performed on neg. controls\n",
    ")"
   ]
  },
  {
   "cell_type": "code",
   "execution_count": 148,
   "id": "a98b02d4",
   "metadata": {},
   "outputs": [
    {
     "data": {
      "text/plain": [
       "0.685135273510096"
      ]
     },
     "execution_count": 148,
     "metadata": {},
     "output_type": "execute_result"
    }
   ],
   "source": [
    "# Filter for pos. control tetrandrine\n",
    "# Metadata_RoughID = Tetrandrine\n",
    "# Should be C24 and D24\n",
    "other_tetrandrine_dataframe = other_dataframe_normalized.loc[dataframe['Metadata_RoughID'] == 'Tetrandrine']\n",
    "\n",
    "# get features for first and second tet well\n",
    "other_tetrandrine_median_features = other_tetrandrine_dataframe[features].median(axis=0)\n",
    "\n",
    "correlation(other_tetrandrine_median_features, tetrandrine_median_features, centered = True)"
   ]
  },
  {
   "cell_type": "code",
   "execution_count": 149,
   "id": "d7619997",
   "metadata": {},
   "outputs": [
    {
     "data": {
      "text/plain": [
       "0.0958805673067663"
      ]
     },
     "execution_count": 149,
     "metadata": {},
     "output_type": "execute_result"
    }
   ],
   "source": [
    "# Filter pos. ctrl Nocodazole\n",
    "# Metadata_RoughID = Nocodazole\n",
    "# Should be A24 and B24\n",
    "other_nocodazole_dataframe = other_dataframe_normalized.loc[dataframe['Metadata_RoughID'] == 'Nocodazole']\n",
    "\n",
    "# get features for first and second noco well\n",
    "other_nocodazole_median_features = other_nocodazole_dataframe[features].median(axis=0)\n",
    "correlation(nocodazole_median_features, other_nocodazole_median_features, centered = True)"
   ]
  },
  {
   "cell_type": "code",
   "execution_count": 150,
   "id": "ad06ba3f",
   "metadata": {},
   "outputs": [
    {
     "data": {
      "text/plain": [
       "0.3500988296480524"
      ]
     },
     "execution_count": 150,
     "metadata": {},
     "output_type": "execute_result"
    }
   ],
   "source": [
    "correlation(other_tetrandrine_median_features, other_nocodazole_median_features)"
   ]
  },
  {
   "cell_type": "code",
   "execution_count": 151,
   "id": "2f231588",
   "metadata": {},
   "outputs": [
    {
     "data": {
      "text/plain": [
       "0.0"
      ]
     },
     "execution_count": 151,
     "metadata": {},
     "output_type": "execute_result"
    }
   ],
   "source": [
    "# Filter pos. ctrl Nocodazole\n",
    "# Metadata_RoughID = Nocodazole\n",
    "# Should be A24 and B24\n",
    "other_dmso_dataframe = other_dataframe_normalized.loc[dataframe['Metadata_RoughID'] == 'DMSO']\n",
    "other_dmso_median_features = dmso_dataframe[features].median(axis=0)\n",
    "\n",
    "correlation(other_dmso_median_features, dmso_median_features, centered = True)"
   ]
  },
  {
   "cell_type": "code",
   "execution_count": 152,
   "id": "f904ce30",
   "metadata": {},
   "outputs": [
    {
     "data": {
      "text/plain": [
       "0.3148647264898983"
      ]
     },
     "execution_count": 152,
     "metadata": {},
     "output_type": "execute_result"
    }
   ],
   "source": [
    "feature_corr(other_tetrandrine_median_features, tetrandrine_median_features)"
   ]
  },
  {
   "cell_type": "code",
   "execution_count": 153,
   "id": "e3a21989",
   "metadata": {},
   "outputs": [
    {
     "data": {
      "text/plain": [
       "0.904119432693222"
      ]
     },
     "execution_count": 153,
     "metadata": {},
     "output_type": "execute_result"
    }
   ],
   "source": [
    "feature_corr(other_nocodazole_median_features, nocodazole_median_features)"
   ]
  },
  {
   "cell_type": "code",
   "execution_count": 154,
   "id": "f014b457",
   "metadata": {},
   "outputs": [
    {
     "data": {
      "text/plain": [
       "1.0"
      ]
     },
     "execution_count": 154,
     "metadata": {},
     "output_type": "execute_result"
    }
   ],
   "source": [
    "feature_corr(other_dmso_median_features, dmso_median_features)"
   ]
  },
  {
   "cell_type": "code",
   "execution_count": 155,
   "id": "3de82dde",
   "metadata": {},
   "outputs": [],
   "source": [
    "# TODO: Automate over all available plates\n",
    "# TODO: Record as table with date, plate_names, source, user and other information"
   ]
  },
  {
   "cell_type": "markdown",
   "id": "f4c29eef",
   "metadata": {},
   "source": [
    "# Compute metrics over replicates"
   ]
  },
  {
   "cell_type": "code",
   "execution_count": null,
   "id": "05a06dd7",
   "metadata": {},
   "outputs": [],
   "source": [
    "# TODO: If all replicates exist:\n",
    "# TODO: Feature reduction per plate\n",
    "# TODO: Compute number of toxic compounds\n",
    "# TODO: Compute raw % replication\n",
    "# TODO: Compute compound activity based on DMSO\n",
    "# TODO: Compute % replication after compound filters"
   ]
  },
  {
   "cell_type": "markdown",
   "id": "5f780b32",
   "metadata": {},
   "source": [
    "# Next Layer of implementation"
   ]
  },
  {
   "cell_type": "code",
   "execution_count": null,
   "id": "604796d8",
   "metadata": {},
   "outputs": [],
   "source": [
    "# TODO: QC visualization: per plate, per batch, per source"
   ]
  },
  {
   "cell_type": "code",
   "execution_count": null,
   "id": "7da05892",
   "metadata": {},
   "outputs": [],
   "source": [
    "# TODO: Setup plate layout test to check if faulty plate layout will get detected\n",
    "# TODO: Check if alternative normalization method that is independent of the layout"
   ]
  },
  {
   "cell_type": "code",
   "execution_count": null,
   "id": "c4a73bdf",
   "metadata": {},
   "outputs": [],
   "source": [
    "# TODO: Implement Correlation of pos. & neg. controls over time and track over time"
   ]
  },
  {
   "cell_type": "code",
   "execution_count": null,
   "id": "d1119381",
   "metadata": {},
   "outputs": [],
   "source": [
    "# Better automation with data that trickles in"
   ]
  }
 ],
 "metadata": {
  "kernelspec": {
   "display_name": "Python 3",
   "language": "python",
   "name": "python3"
  },
  "language_info": {
   "codemirror_mode": {
    "name": "ipython",
    "version": 3
   },
   "file_extension": ".py",
   "mimetype": "text/x-python",
   "name": "python",
   "nbconvert_exporter": "python",
   "pygments_lexer": "ipython3",
   "version": "3.9.16"
  }
 },
 "nbformat": 4,
 "nbformat_minor": 5
}
