{
 "cells": [
  {
   "cell_type": "code",
   "execution_count": 3,
   "id": "e11d96b2",
   "metadata": {},
   "outputs": [],
   "source": [
    "import time\n",
    "from datetime import date\n",
    "import pandas as pd\n",
    "import os\n",
    "import glob\n",
    "import pycytominer\n",
    "import sys\n",
    "import CBE_utils as CBE\n",
    "import matplotlib.pyplot as plt\n",
    "import seaborn as sns"
   ]
  },
  {
   "cell_type": "code",
   "execution_count": 4,
   "id": "6166fbbe",
   "metadata": {},
   "outputs": [
    {
     "data": {
      "text/plain": [
       "<module 'CBE_utils' from '/home/schmiedc/FMP_Docs/Projects/ECBL_Project/QualityControl_analysis/notebooks/CBE_utils.py'>"
      ]
     },
     "execution_count": 4,
     "metadata": {},
     "output_type": "execute_result"
    }
   ],
   "source": [
    "import importlib\n",
    "importlib.reload(CBE)"
   ]
  },
  {
   "cell_type": "code",
   "execution_count": 5,
   "id": "853ed9c7",
   "metadata": {},
   "outputs": [],
   "source": [
    "input_path = \"/home/schmiedc/FMP_Docs/Projects/ECBL_Project/QualityControl_analysis/output_files/\"\n",
    "output_path = \"/home/schmiedc/FMP_Docs/Projects/ECBL_Project/QualityControl_analysis/result_files/\""
   ]
  },
  {
   "cell_type": "code",
   "execution_count": null,
   "id": "beb88684",
   "metadata": {},
   "outputs": [],
   "source": [
    "# TODO: QC if plate layout is correct - based on pos. / neg. controls\n",
    "# TODO: Perform plate normalization\n",
    "# TODO: DMSO comparison\n",
    "# TODO: Correlation of pos. neg. controls"
   ]
  },
  {
   "cell_type": "code",
   "execution_count": null,
   "id": "ffc02096",
   "metadata": {},
   "outputs": [],
   "source": [
    "# TODO: If all replicates exist:\n",
    "# TODO: Feature reduction per plate\n",
    "# TODO: Compute number of toxic compounds\n",
    "# TODO: Compute raw % replication\n",
    "# TODO: Compute compound activity based on DMSO\n",
    "# TODO: Compute % replication after compound filters"
   ]
  },
  {
   "cell_type": "code",
   "execution_count": null,
   "id": "44520042",
   "metadata": {},
   "outputs": [],
   "source": [
    "# QC visualization: per plate, per batch, per source"
   ]
  }
 ],
 "metadata": {
  "kernelspec": {
   "display_name": "Python 3",
   "language": "python",
   "name": "python3"
  },
  "language_info": {
   "codemirror_mode": {
    "name": "ipython",
    "version": 3
   },
   "file_extension": ".py",
   "mimetype": "text/x-python",
   "name": "python",
   "nbconvert_exporter": "python",
   "pygments_lexer": "ipython3",
   "version": "3.9.16"
  }
 },
 "nbformat": 4,
 "nbformat_minor": 5
}
